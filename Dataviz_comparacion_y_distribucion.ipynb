{
  "cells": [
    {
      "cell_type": "markdown",
      "metadata": {
        "id": "view-in-github",
        "colab_type": "text"
      },
      "source": [
        "<a href=\"https://colab.research.google.com/github/ahcamachod/visualizacion-de-datos-graficos-de-comparacion-y-distribucion/blob/main/Dataviz_comparacion_y_distribucion.ipynb\" target=\"_parent\"><img src=\"https://colab.research.google.com/assets/colab-badge.svg\" alt=\"Open In Colab\"/></a>"
      ]
    },
    {
      "cell_type": "markdown",
      "metadata": {
        "id": "7D3n0DACbyjf"
      },
      "source": [
        "# <font color=green> **Data visualization: Gráficos**</font>\n",
        "---"
      ]
    },
    {
      "cell_type": "markdown",
      "metadata": {
        "id": "Au2nZsz9ezur"
      },
      "source": [
        "# **Clase 1 - Comparando los datos**"
      ]
    },
    {
      "cell_type": "markdown",
      "metadata": {
        "id": "zozK6sjqX0YH"
      },
      "source": [
        "## **1.1 Introducción**\n",
        "\n",
        "---\n",
        "\n",
        "En este curso, vamos construir un portafolio con los análisis de **dos** bases de datos diferentes, explorando cada una y respondiendo a las preguntas planteadas en torno a sus datos. Todas las bases están en formato CSV y se pueden acceder a través de Github.\n",
        "\n",
        "> **Bases de datos:**\n",
        "\n",
        "1.   Ventas de una red de tiendas por departamentos que opera en toda la Argentina.\n",
        "\n",
        "2.   Distribución de volúmenes y medidas de productos de una empresa de artículos de limpieza.\n",
        "\n",
        " 2.1 Volumen de un suavizante de 1 litro en un total de 1000 muestras medidas.\n",
        "\n",
        " 2.2 Medidas de altura, longitud y ancho de una caja de detergente en polvo en un total de 1000 muestras medidas.\n",
        "\n",
        "En cada clase, revisaremos una de las bases de datos y elaboraremos nuestros análisis de acuerdo con las preguntas que se planteen, tratando de responderlas mediante el uso de recursos visuales (gráficos y elementos visuales)."
      ]
    },
    {
      "cell_type": "markdown",
      "metadata": {
        "id": "YvLE4O2iemTx"
      },
      "source": [
        "### Paletas de colores"
      ]
    },
    {
      "cell_type": "markdown",
      "metadata": {
        "id": "sAuABmczf3Ev"
      },
      "source": [
        "|Azul|||||\n",
        "|------|------|------|------|------|\n",
        "| AZUL1 |AZUL2 |AZUL3 |AZUL4 |AZUL5 |\n",
        "|#03045e | #0077b6 | #00b4d8| #90e0ef | #CDDBF3 |\n",
        "|![adicionar desc](https://github.com/afonsosr2/dataviz-graficos/blob/master/imagens/AZUL1.png?raw=true)|![adicionar desc](https://github.com/afonsosr2/dataviz-graficos/blob/master/imagens/AZUL2.png?raw=true)|![adicionar desc](https://github.com/afonsosr2/dataviz-graficos/blob/master/imagens/AZUL3.png?raw=true)|![adicionar desc](https://github.com/afonsosr2/dataviz-graficos/blob/master/imagens/AZUL4.png?raw=true)|![adicionar desc](https://github.com/afonsosr2/dataviz-graficos/blob/master/imagens/AZUL5.png?raw=true)|\n",
        "\n",
        "&nbsp;\n",
        "\n",
        "|Gris|||||\n",
        "|------|------|------|------|------|\n",
        "| GRIS1 |GRIS2 |GRIS3 |GRIS4 |GRIS5|\n",
        "|#212529 | #495057| #adb5bd | #dee2e6| #f8f9fa |\n",
        "| ![adicionar desc](https://github.com/afonsosr2/dataviz-graficos/blob/master/imagens/CINZA1.png?raw=true)  |![adicionar desc](https://github.com/afonsosr2/dataviz-graficos/blob/master/imagens/CINZA2.png?raw=true) |![adicionar desc](https://github.com/afonsosr2/dataviz-graficos/blob/master/imagens/CINZA3.png?raw=true) |![adicionar desc](https://github.com/afonsosr2/dataviz-graficos/blob/master/imagens/CINZA4.png?raw=true) |![adicionar desc](https://github.com/afonsosr2/dataviz-graficos/blob/master/imagens/CINZA5.png?raw=true)|\n",
        "&nbsp;\n",
        "\n",
        "|Mixto|||||\n",
        "|------|------|------|------|------|\n",
        "| ROJO1 |ANARANJADO1 |AMARILLO1 | VERDE1 |VERDE2 |\n",
        "|#e76f51 | #f4a261 | #e9c46a |#0C8040 | #4c956c |#2a9d8f|\n",
        "| ![adicionar desc](https://github.com/afonsosr2/dataviz-graficos/blob/master/imagens/VERMELHO1.png?raw=true) |![adicionar desc](https://github.com/afonsosr2/dataviz-graficos/blob/master/imagens/LARANJA1.png?raw=true)|![adicionar desc](https://github.com/afonsosr2/dataviz-graficos/blob/master/imagens/AMARELO1.png?raw=true)| ![adicionar desc](https://github.com/afonsosr2/dataviz-graficos/blob/master/imagens/VERDE1.png?raw=true) | ![adicionar desc](https://github.com/afonsosr2/dataviz-graficos/blob/master/imagens/VERDE2.png?raw=true) |\n"
      ]
    },
    {
      "cell_type": "code",
      "execution_count": null,
      "metadata": {
        "id": "_LZKF5MzesCL"
      },
      "outputs": [],
      "source": [
        "# Definición de las paletas de colores\n",
        "AZUL1, AZUL2, AZUL3, AZUL4, AZUL5 = '#03045e', '#0077b6', \"#00b4d8\", '#90e0ef', '#CDDBF3'\n",
        "GRIS1, GRIS2, GRIS3, GRIS4, GRIS5 = '#212529', '#495057', '#adb5bd', '#dee2e6', '#f8f9fa'\n",
        "ROJO1, ANARANJADO1, AMARILLO1, VERDE1, VERDE2, VERDE3 = '#e76f51', '#f4a261',\t'#e9c46a', '#4c956c', '#2a9d8f', '#264653'"
      ]
    },
    {
      "cell_type": "markdown",
      "metadata": {
        "id": "t8kjf_FpfBkJ"
      },
      "source": [
        "## **1.2 - Gráficos de columnas**\n",
        "\n",
        "\n",
        "---\n",
        "\n",
        "\n"
      ]
    },
    {
      "cell_type": "markdown",
      "metadata": {
        "id": "Pl-FzB1PjzRy"
      },
      "source": [
        "### **Situación problema 1**\n",
        "Una red de tiendas por departamentos que opera en toda la Argentina desea saber cómo están comportándose las provincias o su clientela en las ventas de sus productos. Para lograrlo, como científico de datos, necesitarás analizar los datos que ella ha proporcionado en un conjunto de datos con los pedidos de sus clientes entre los años 2016 y 2019.\n",
        "\n",
        "Aquí, trabajaremos con una cantidad menor de datos, pero el enfoque es el mismo para conjuntos de datos más grandes."
      ]
    },
    {
      "cell_type": "code",
      "source": [],
      "metadata": {
        "id": "_fYwVEZPCM-H"
      },
      "execution_count": null,
      "outputs": []
    },
    {
      "cell_type": "markdown",
      "metadata": {
        "id": "O-KLnaiFj6hM"
      },
      "source": [
        "Después de visualizar de manera rápida los datos que tenemos, vamos a proceder con los análisis que podemos realizar con estos datos y qué gráficos de comparación vamos a utilizar para presentar este tipo de información.\n",
        "\n",
        "Preguntas:\n",
        "1. ¿Cuál es el total de ventas por año? ¿Y qué año tuvo un mejor desempeño en nuestra base de datos?\n",
        "\n",
        "2. ¿Cuáles son los 7 productos que generaron más beneficios en nuestro catálogo durante el periodo representado?\n",
        "\n",
        "3. Si dividimos el total de ventas por año por regiones, ¿qué podemos observar en nuestros datos?\n",
        "\n",
        "4. ¿Cuál es el método de envío más utilizado por los clientes de la tienda? ¿Es proporcional para B2B y B2C?\n",
        "\n",
        "5. ¿Cuál es el total de ventas por trimestre en la provincia de Buenos Aires?\n",
        "\n",
        "6. ¿Cuál es la facturación por trimestre en cada región?"
      ]
    },
    {
      "cell_type": "markdown",
      "metadata": {
        "id": "NPPKkTlpn_-A"
      },
      "source": [
        "## **1.3 - Gráficos de columnas**\n",
        "\n",
        "\n",
        "---\n",
        "\n",
        "\n"
      ]
    },
    {
      "cell_type": "markdown",
      "metadata": {
        "id": "ckQWjwb6XzeK"
      },
      "source": [
        "<img src=\"https://github.com/ahcamachod/visualizacion-de-datos-graficos-de-comparacion-y-distribucion/blob/main/comparacion.png?raw=true\" alt=\"inserir alt\" height=\"343\">\n",
        "\n",
        "\n",
        "<font size=2>Fuente: Andrew Abela (Extreme Presentation/Biuwer)</font>"
      ]
    },
    {
      "cell_type": "markdown",
      "metadata": {
        "id": "8sc3B4Xnj8gO"
      },
      "source": [
        "### **Pregunta 1 -** 1. ¿Cuál es el total de ventas por año? ¿Y qué año tuvo un mejor desempeño en nuestra base de datos?"
      ]
    },
    {
      "cell_type": "markdown",
      "metadata": {
        "id": "q8kZdoa1o11o"
      },
      "source": [
        "#### Tratando los datos para generar la visualización"
      ]
    },
    {
      "cell_type": "code",
      "source": [],
      "metadata": {
        "id": "RcdrNHdVCLLE"
      },
      "execution_count": null,
      "outputs": []
    },
    {
      "cell_type": "markdown",
      "metadata": {
        "id": "odNP3nGIu8-J"
      },
      "source": [
        "#### Generando el gráfico"
      ]
    },
    {
      "cell_type": "code",
      "source": [],
      "metadata": {
        "id": "M-IVGIhFCJ_G"
      },
      "execution_count": null,
      "outputs": []
    },
    {
      "cell_type": "markdown",
      "metadata": {
        "id": "2DQ-Xi8ceNAp"
      },
      "source": [
        "## **1.4 - Añadiendo textos en la visualización**\n",
        "\n",
        "---\n",
        "\n"
      ]
    },
    {
      "cell_type": "code",
      "source": [],
      "metadata": {
        "id": "TIop_ptLCHLG"
      },
      "execution_count": null,
      "outputs": []
    },
    {
      "cell_type": "markdown",
      "metadata": {
        "id": "giWDQDtkXDBe"
      },
      "source": [
        "<font color=green size=4> Conclusiones: </font>\n",
        "\n",
        "---\n",
        "\n",
        "Un gráfico de columnas es ideal para comparar valores con pocas categorías o pequeños intervalos de tiempo. Aquí utilizamos el recurso de destacar mediante colores para orientar a nuestro público a visualizar el último período en comparación con los demás. Además, proporcionamos información en forma de texto señalando la evolución con respecto al año anterior.\n",
        "\n",
        "Como sugerencia, podemos probar esta técnica también con otros valores en nuestra base de datos, como por ejemplo, el beneficio anual o la facturación en ventas por provincia o región que prefieras analizar."
      ]
    },
    {
      "cell_type": "markdown",
      "metadata": {
        "id": "o-h-SNCNejTH"
      },
      "source": [
        "## **1.5  - Gráfico de barras**\n",
        "\n",
        "---\n",
        "\n",
        "\n",
        "\n"
      ]
    },
    {
      "cell_type": "markdown",
      "metadata": {
        "id": "TJ-JnYYsGMMz"
      },
      "source": [
        "### **Pregunta 2 -** ¿Cuáles son los 7 productos que generaron más beneficios en nuestro catálogo durante el periodo representado?"
      ]
    },
    {
      "cell_type": "markdown",
      "metadata": {
        "id": "WI6f6ehgGMM4"
      },
      "source": [
        "#### Tratando los datos para generar la visualización"
      ]
    },
    {
      "cell_type": "code",
      "source": [],
      "metadata": {
        "id": "aQ3f6NtLCE3l"
      },
      "execution_count": null,
      "outputs": []
    },
    {
      "cell_type": "markdown",
      "metadata": {
        "id": "ibvPGfwBGMM5"
      },
      "source": [
        "#### Generando el gráfico"
      ]
    },
    {
      "cell_type": "code",
      "source": [],
      "metadata": {
        "id": "jUjFC0kuCDy5"
      },
      "execution_count": null,
      "outputs": []
    },
    {
      "cell_type": "markdown",
      "metadata": {
        "id": "PDPTH1XMnCQK"
      },
      "source": [
        "## **Añadiendo texto destacado**\n",
        "\n",
        "---\n",
        "\n",
        "\n"
      ]
    },
    {
      "cell_type": "markdown",
      "metadata": {
        "id": "DtAwXsTzoirv"
      },
      "source": [
        "Creando una función para escribir textos utilizando diversos colores\n",
        "\n",
        "> No existe una función nativa para ello. (Adaptado de https://github.com/empathy87/storytelling-with-data)\n",
        "\n"
      ]
    },
    {
      "cell_type": "code",
      "source": [
        "from matplotlib import transforms\n",
        "\n",
        "def texto_destacado(x, y, texto, colores, esp=20, ax=None, **kw):\n",
        "    colores = list(reversed(colores))\n",
        "    t = ax.transData\n",
        "    canvas = ax.figure.canvas\n",
        "\n",
        "    for i, linea in enumerate(reversed(texto.split('\\n'))):\n",
        "        frases = linea.split('||')\n",
        "        for s, cor in zip(frases, colores[i]):\n",
        "            texto = ax.text(x, y, s, color=cor, transform=t, **kw)\n",
        "            texto.draw(canvas.get_renderer())\n",
        "            ex = texto.get_window_extent()\n",
        "            t = transforms.offset_copy(texto._transform, x=ex.width,\n",
        "                                       units='dots')\n",
        "\n",
        "        t = transforms.offset_copy(ax.transData, x=0, y=(i + 1) * esp, units='dots')"
      ],
      "metadata": {
        "id": "iv7GS7BVuJ91"
      },
      "execution_count": null,
      "outputs": []
    },
    {
      "cell_type": "markdown",
      "metadata": {
        "id": "-tKaP-mKp4E5"
      },
      "source": [
        "#### Generando el gráfico"
      ]
    },
    {
      "cell_type": "code",
      "source": [],
      "metadata": {
        "id": "GhuDaW7xB0wV"
      },
      "execution_count": null,
      "outputs": []
    },
    {
      "cell_type": "markdown",
      "metadata": {
        "id": "K_r5Hsc5GMM6"
      },
      "source": [
        "<font color=green size=4> Conclusiones: </font>\n",
        "\n",
        "---\n",
        "\n",
        "Un gráfico de barras es ideal para comparar valores con muchos elementos (más de 5), especialmente si los elementos son frases cortas o palabras. Aquí utilizamos el recurso de dividir las categorías por color, además de resaltarlas en el texto, para orientar al público sobre qué datos específicos estamos explorando.\n",
        "\n",
        "Como sugerencia, podemos probar esta técnica también con otros valores en nuestra base de datos, como por ejemplo, la facturación en un período dado o en relación con el departamento y/o región que prefieras analizar."
      ]
    },
    {
      "cell_type": "markdown",
      "metadata": {
        "id": "jHqFqkNpsRqM"
      },
      "source": [
        "# **Clase 2 - Agrupando los datos**"
      ]
    },
    {
      "cell_type": "markdown",
      "metadata": {
        "id": "tLLaxZYpsq_j"
      },
      "source": [
        "<img src=\"https://github.com/ahcamachod/visualizacion-de-datos-graficos-de-comparacion-y-distribucion/blob/main/comparacion.png?raw=true\" alt=\"inserir alt\" height=\"343\">\n",
        "\n",
        "\n",
        "<font size=2>Fuente: Andrew Abela (Extreme Presentation/Biuwer)</font>\n"
      ]
    },
    {
      "cell_type": "markdown",
      "metadata": {
        "id": "N6tv_s2QsamF"
      },
      "source": [
        "## **2.1 - Gráfico de columnas apiladas**\n",
        "\n",
        "---\n",
        "\n"
      ]
    },
    {
      "cell_type": "markdown",
      "metadata": {
        "id": "Yh0BtbNVRIk9"
      },
      "source": [
        "### **Pregunta 3 -** Si dividimos el total de ventas por año por regiones, ¿qué podemos observar en nuestros datos?"
      ]
    },
    {
      "cell_type": "markdown",
      "metadata": {
        "id": "ne-lgc1zRIlO"
      },
      "source": [
        "#### Tratando los datos para generar la visualización"
      ]
    },
    {
      "cell_type": "code",
      "source": [],
      "metadata": {
        "id": "kb29vE_5BlUF"
      },
      "execution_count": null,
      "outputs": []
    },
    {
      "cell_type": "markdown",
      "metadata": {
        "id": "PRIqzUHoRIlP"
      },
      "source": [
        "#### Generando el gráfico"
      ]
    },
    {
      "cell_type": "code",
      "source": [],
      "metadata": {
        "id": "qbcCCstYBihy"
      },
      "execution_count": null,
      "outputs": []
    },
    {
      "cell_type": "markdown",
      "metadata": {
        "id": "CS3Gw19q20ZB"
      },
      "source": [
        "## **2.2 - Etiquetas de barra y leyenda**\n",
        "\n",
        "---\n",
        "\n"
      ]
    },
    {
      "cell_type": "code",
      "source": [],
      "metadata": {
        "id": "Kc-luUeqBgOk"
      },
      "execution_count": null,
      "outputs": []
    },
    {
      "cell_type": "markdown",
      "metadata": {
        "id": "7ZfnaWSZRIlQ"
      },
      "source": [
        "<font color=green size=4> Conclusiones: </font>\n",
        "\n",
        "---\n",
        "\n",
        "A diferencia de un gráfico de columnas simple, el gráfico de columnas apiladas añade a la comparación entre períodos o categorías la comparación también entre los datos de cada período/categoría. Es como si pusiéramos una \"lupa\" en cada columna y visualizáramos la composición de cada una de ellas según la variable deseada (en nuestro ejemplo, las regiones). Aquí utilizamos el recurso de la leyenda para la división de las regiones y los valores de cada columna para la comparación entre sí.\n",
        "\n",
        "Como sugerencia, podemos probar esta técnica también con otros valores en nuestra base de datos, como por ejemplo, el beneficio anual o la facturación en ventas por provincias de una misma región que prefieras analizar."
      ]
    },
    {
      "cell_type": "markdown",
      "metadata": {
        "id": "eQlK9345-Ywv"
      },
      "source": [
        "## **2.3 - Gráfico de barras apiladas**\n",
        "\n",
        "---\n",
        "\n",
        "\n",
        "\n"
      ]
    },
    {
      "cell_type": "markdown",
      "metadata": {
        "id": "lmtvImYyEVyc"
      },
      "source": [
        "### **Pergunta 4 -** ¿Cuál es el método de envío más utilizado por los clientes de la tienda? ¿Es proporcional para B2B y B2C?"
      ]
    },
    {
      "cell_type": "markdown",
      "metadata": {
        "id": "i7h-azlhEVyi"
      },
      "source": [
        "#### Tratando los datos para generar la visualización"
      ]
    },
    {
      "cell_type": "code",
      "source": [],
      "metadata": {
        "id": "2PZJVyFEBdFq"
      },
      "execution_count": null,
      "outputs": []
    },
    {
      "cell_type": "markdown",
      "metadata": {
        "id": "nL4W3JaWEVyi"
      },
      "source": [
        "#### Generando el gráfico"
      ]
    },
    {
      "cell_type": "code",
      "source": [],
      "metadata": {
        "id": "zP5eGNjLBbTI"
      },
      "execution_count": null,
      "outputs": []
    },
    {
      "cell_type": "markdown",
      "metadata": {
        "id": "e6iExl0rEVyj"
      },
      "source": [
        "<font color=green size=4> Conclusiones: </font>\n",
        "\n",
        "---\n",
        "El gráfico de barras apiladas es similar al gráfico de columnas en su aplicación. En este ejemplo, presentamos dos tipos de gráficos de barras apiladas: el primero se enfoca en las diferencias absolutas (entre barras) y relativas (en la misma barra) de los datos, mientras que el segundo se enfoca únicamente en las diferencias relativas entre los datos.\n",
        "\n",
        "Como sugerencia, podemos probar esta técnica verificando el comportamiento en cada año o con otros valores en nuestra base de datos, como por ejemplo, entre los tipos de producto y los modos de entrega."
      ]
    },
    {
      "cell_type": "markdown",
      "metadata": {
        "id": "5NvxSVNjAmb2"
      },
      "source": [
        "# **Clase 3 - Series temporales**"
      ]
    },
    {
      "cell_type": "markdown",
      "metadata": {
        "id": "ROb8IYUGTeDJ"
      },
      "source": [
        "<img src=\"https://github.com/ahcamachod/visualizacion-de-datos-graficos-de-comparacion-y-distribucion/blob/main/lineas.png?raw=true\" alt=\"inserir alt\" height=\"343\">\n",
        "\n",
        "<font size=2>Fuente: Andrew Abela (Extreme Presentation/Biuwer)</font>\n"
      ]
    },
    {
      "cell_type": "markdown",
      "metadata": {
        "id": "1r_0T0wg6ByW"
      },
      "source": [
        "## **3.1 Gráfico de línea sencillo**\n",
        "\n",
        "---\n",
        "\n"
      ]
    },
    {
      "cell_type": "markdown",
      "metadata": {
        "id": "pKE9RgAlzeoR"
      },
      "source": [
        "### **Pregunta 5 -** ¿Cuál es el total de ventas por trimestre en la provincia de Buenos Aires?"
      ]
    },
    {
      "cell_type": "markdown",
      "metadata": {
        "id": "h7eQ1KAFzeon"
      },
      "source": [
        "#### Tratando los datos para generar la visualización"
      ]
    },
    {
      "cell_type": "code",
      "source": [],
      "metadata": {
        "id": "WDy63sMUBNRQ"
      },
      "execution_count": null,
      "outputs": []
    },
    {
      "cell_type": "markdown",
      "metadata": {
        "id": "MnA9gQ7xzeoq"
      },
      "source": [
        "#### Gerando o gráfico"
      ]
    },
    {
      "cell_type": "code",
      "source": [],
      "metadata": {
        "id": "cbKlnTmjBL1e"
      },
      "execution_count": null,
      "outputs": []
    },
    {
      "cell_type": "markdown",
      "metadata": {
        "id": "wHp3YFLcg_Sh"
      },
      "source": [
        "## **3.2 Definiendo intervalos de tiempo**\n",
        "\n",
        "---\n",
        "\n"
      ]
    },
    {
      "cell_type": "code",
      "source": [],
      "metadata": {
        "id": "I9UOJhJkBKXG"
      },
      "execution_count": null,
      "outputs": []
    },
    {
      "cell_type": "markdown",
      "metadata": {
        "id": "yi4mXqvQzeos"
      },
      "source": [
        "<font color=green size=4> Conclusiones: </font>\n",
        "\n",
        "---\n",
        "\n",
        "Cuando estamos visualizando datos con muchos períodos de tiempo, es ideal trabajar con gráficos de línea, ya que representan bien la progresión de los valores a lo largo del tiempo. Aquí utilizamos otro recurso visual que es resaltar los puntos de interés (4º trimestre de cada año), mostrando la tendencia de los datos en ese período específico de tiempo.\n",
        "\n",
        "Como sugerencia, podemos probar esta técnica también con otros valores en nuestra base de datos, como por ejemplo, las ventas en tu estado de interés o donde resides, o incluso en diferentes intervalos de tiempo: por mes, semestre, etc."
      ]
    },
    {
      "cell_type": "markdown",
      "metadata": {
        "id": "NrslRmfihO__"
      },
      "source": [
        "## **3.3 - Gráfico de líneas**\n",
        "\n",
        "---\n",
        "\n"
      ]
    },
    {
      "cell_type": "markdown",
      "metadata": {
        "id": "_ubWJruVc4NY"
      },
      "source": [
        "### **Pregunta 6 -** ¿Cuál es la facturación por trimestre en cada región?"
      ]
    },
    {
      "cell_type": "markdown",
      "metadata": {
        "id": "54Lj3KS6c4Nc"
      },
      "source": [
        "#### Tratando los datos para generar la visualización"
      ]
    },
    {
      "cell_type": "code",
      "source": [],
      "metadata": {
        "id": "_7d-q0QABHTB"
      },
      "execution_count": null,
      "outputs": []
    },
    {
      "cell_type": "code",
      "source": [],
      "metadata": {
        "id": "IMFb_oa3BIpG"
      },
      "execution_count": null,
      "outputs": []
    },
    {
      "cell_type": "markdown",
      "metadata": {
        "id": "BKEOs7Dmc4Nd"
      },
      "source": [
        "#### Generando o gráfico"
      ]
    },
    {
      "cell_type": "code",
      "source": [],
      "metadata": {
        "id": "XADPKGq5BFV9"
      },
      "execution_count": null,
      "outputs": []
    },
    {
      "cell_type": "markdown",
      "metadata": {
        "id": "vlltqqeXiQ2m"
      },
      "source": [
        "## **3.4 - Personalizando el texto informativo (hover)**\n",
        "\n",
        "\n",
        "---\n",
        "\n"
      ]
    },
    {
      "cell_type": "code",
      "source": [],
      "metadata": {
        "id": "Olnlrq37BDfI"
      },
      "execution_count": null,
      "outputs": []
    },
    {
      "cell_type": "markdown",
      "metadata": {
        "id": "_uIMl0NHc4Nd"
      },
      "source": [
        "<font color=green size=4> Conclusiones: </font>\n",
        "\n",
        "---\n",
        "\n",
        "El punto más interesante de este gráfico, generado por Plotly, es la selección de datos de interés, comparando diferentes regiones. Es ideal no tener muchas líneas para representar los datos, para evitar dificultades en el análisis de las variables de interés. Este gráfico dinámico también permite verificar los datos de interés pasando el mouse sobre el punto deseado, lo que evita la necesidad de escribir cada valor en los puntos.\n",
        "\n",
        "Como sugerencia, podemos probar esta técnica también con otros valores en nuestra base de datos, como por ejemplo, las ventas por provincia en una región específica, o incluso en intervalos de tiempo diferentes: por semestre y año."
      ]
    },
    {
      "cell_type": "markdown",
      "metadata": {
        "id": "GP5WxJh8AP7U"
      },
      "source": [
        "# **Clase 4 - Distribución de datos**\n",
        "\n",
        "\n"
      ]
    },
    {
      "cell_type": "markdown",
      "metadata": {
        "id": "SRUYr8PaAP7Z"
      },
      "source": [
        "### **Situación problema 2**\n",
        "Una fábrica de productos de higiene y limpieza selecciona muestras de sus productos fabricados regularmente y documenta el volumen y las dimensiones de sus productos para que cumplan con los criterios de calidad. Como científico de datos, has recibido algunas muestras para analizar y describir algunas métricas (como la media y la mediana, por ejemplo) de las muestras utilizando gráficos para facilitar la comprensión de estos valores.\n",
        "\n",
        "En las próximas dos clases, trabajaremos con dos bases de datos, que son:\n",
        "1. Volúmenes de un suavizante de 1 litro en un total de 1000 muestras medidas.\n",
        "2. Medidas de altura, longitud y anchura de una caja de detergente en polvo en un total de 1000 muestras medidas."
      ]
    },
    {
      "cell_type": "markdown",
      "metadata": {
        "id": "jSffEwr1FPAC"
      },
      "source": [
        "\n",
        "#### **Base de datos 1 - Muestra de los volúmenes del suavizante**"
      ]
    },
    {
      "cell_type": "code",
      "source": [],
      "metadata": {
        "id": "-VyKBPihA6mb"
      },
      "execution_count": null,
      "outputs": []
    },
    {
      "cell_type": "markdown",
      "metadata": {
        "id": "ssZbZe4zAP7a"
      },
      "source": [
        "Después de visualizar rápidamente los datos que tenemos, vamos a proceder con los análisis que podemos realizar con estos datos y qué gráficos de distribución vamos a utilizar para presentar este tipo de información.\n",
        "\n",
        "### **Preguntas**\n",
        "\n",
        "1. ¿Cómo están distribuidos los datos de los volúmenes de la muestra del suavizante? ¿Cuál sería su valor central (promedio y mediana)?\n",
        "\n",
        "2. ¿Cómo están distribuidos los datos de los volúmenes del suavizante según la mediana y los cuartiles? ¿Existen datos atípicos?\n",
        "\n",
        "\n",
        "\n"
      ]
    },
    {
      "cell_type": "markdown",
      "metadata": {
        "id": "UhtlebbKBFjp"
      },
      "source": [
        "## **4.1 - Histograma**\n",
        "\n",
        "---\n",
        "\n"
      ]
    },
    {
      "cell_type": "markdown",
      "metadata": {
        "id": "YiioTkl4jjng"
      },
      "source": [
        "<img src=\"https://github.com/ahcamachod/visualizacion-de-datos-graficos-de-comparacion-y-distribucion/blob/main/histograma.png?raw=true\" alt=\"inserir alt\" height=\"343\">\n",
        "\n",
        "\n",
        "<font size=2>Fuente: Andrew Abela (Extreme Presentation/Biuwer)</font>\n"
      ]
    },
    {
      "cell_type": "markdown",
      "metadata": {
        "id": "TgJynN1NAP7a"
      },
      "source": [
        "### **Pregunta 1 -** ¿Cómo están distribuidos los datos de los volúmenes de la muestra del suavizante? ¿Cuál sería su valor central (promedio y mediana)?"
      ]
    },
    {
      "cell_type": "markdown",
      "metadata": {
        "id": "xv3kTMF9AP7a"
      },
      "source": [
        "#### Generando o gráfico"
      ]
    },
    {
      "cell_type": "code",
      "source": [],
      "metadata": {
        "id": "1erW9H69A24j"
      },
      "execution_count": null,
      "outputs": []
    },
    {
      "cell_type": "markdown",
      "metadata": {
        "id": "izetzI6sv3eZ"
      },
      "source": [
        "<font color=green size=4> Conclusiones: </font>\n",
        "\n",
        "---\n",
        "\n",
        "El histograma es ideal cuando queremos entender cómo está distribuida una muestra de datos o una población. Como podemos observar, el número de intervalos o su anchura afecta un poco la visualización, pero no altera los valores centrales de su distribución de datos: el promedio y la mediana."
      ]
    },
    {
      "cell_type": "markdown",
      "metadata": {
        "id": "xIZDl9S9vED2"
      },
      "source": [
        "## **4.2 - Gráfico de densidad**\n",
        "\n",
        "---\n",
        "\n"
      ]
    },
    {
      "cell_type": "code",
      "source": [],
      "metadata": {
        "id": "ACXK8DckA1ZQ"
      },
      "execution_count": null,
      "outputs": []
    },
    {
      "cell_type": "markdown",
      "metadata": {
        "id": "J5eTR0vrF7kO"
      },
      "source": [
        "## **4.3 - Añadiendo líneas al gráfico**\n",
        "\n",
        "---\n",
        "\n"
      ]
    },
    {
      "cell_type": "code",
      "source": [],
      "metadata": {
        "id": "rsBIwvWFAz-4"
      },
      "execution_count": null,
      "outputs": []
    },
    {
      "cell_type": "markdown",
      "metadata": {
        "id": "ZuCIA5WIAP7b"
      },
      "source": [
        "<font color=green size=4> Conclusiones: </font>\n",
        "\n",
        "---\n",
        "\n",
        "El gráfico de densidad (histograma de línea) es ideal para muchas observaciones.\n",
        "\n",
        "En este ejemplo, podemos observar una distribución normal, con una ligera asimetría hacia la izquierda (mediana > promedio). La moda también está presente en el gráfico. Estas 3 medidas de tendencia central son importantes para la estadística descriptiva de los datos y ayudan en la construcción de modelos y análisis de los datos."
      ]
    },
    {
      "cell_type": "markdown",
      "metadata": {
        "id": "2QxHL_XYrUSs"
      },
      "source": [
        "## **4.4 - Boxplot**\n",
        "\n",
        "---\n",
        "\n"
      ]
    },
    {
      "cell_type": "markdown",
      "metadata": {
        "id": "vw5UTufi2DDV"
      },
      "source": [
        "### **Pregunta 2 -** ¿Cómo están distribuidos los datos de los volúmenes del suavizante según la mediana y los cuartiles? ¿Existen datos atípicos?"
      ]
    },
    {
      "cell_type": "markdown",
      "metadata": {
        "id": "5RYvVm5J2DDh"
      },
      "source": [
        "#### Generando el gráfico"
      ]
    },
    {
      "cell_type": "code",
      "source": [],
      "metadata": {
        "id": "74uh1NPiAx5n"
      },
      "execution_count": null,
      "outputs": []
    },
    {
      "cell_type": "markdown",
      "metadata": {
        "id": "zJXXnP7z2DDi"
      },
      "source": [
        "<font color=green size=4> Conclusiones: </font>\n",
        "\n",
        "---\n",
        "\n",
        "El gráfico de caja (boxplot) es ideal para representar un conjunto de datos según 5 medidas de interés: el valor máximo, mínimo, el primer cuartil (donde se sitúan el primer 25% de los datos), el segundo cuartil o mediana (donde se sitúa el 50% de los datos) y el tercer cuartil (donde se sitúa el 75% de los datos).\n",
        "\n",
        "También están los valores atípicos (outliers) que son considerados puntos discrepantes, es decir, valores que están alejados del patrón de los datos."
      ]
    },
    {
      "cell_type": "markdown",
      "metadata": {
        "id": "Wz_59UEYAo-7"
      },
      "source": [
        " # **Aula 5 - Explorando patrones en los datos**"
      ]
    },
    {
      "cell_type": "markdown",
      "metadata": {
        "id": "72Td_hwbrc8I"
      },
      "source": [
        "## **5.1 - Gráfico de Violín**\n",
        "\n",
        "---\n",
        "\n"
      ]
    },
    {
      "cell_type": "markdown",
      "metadata": {
        "id": "f9EhMcTSB0iU"
      },
      "source": [
        "Retomando nuestra situación problema en la fábrica de productos de higiene y limpieza. Ahora vamos a analizar las observaciones con las medidas de altura, longitud y anchura de una caja de detergente en polvo en un total de 1000 muestras medidas. Buscaremos patrones en nuestras medidas y también verificaremos si alguna de las muestras contiene elementos que sean rechazados según las reglas del negocio."
      ]
    },
    {
      "cell_type": "markdown",
      "metadata": {
        "id": "Hkjo742WBqw-"
      },
      "source": [
        "#### **Base de datos 2 - Muestras de las medidas de la caja del detergente**"
      ]
    },
    {
      "cell_type": "code",
      "source": [],
      "metadata": {
        "id": "0oi3xkxc_v1e"
      },
      "execution_count": null,
      "outputs": []
    },
    {
      "cell_type": "markdown",
      "metadata": {
        "id": "K5hNJa0cBqxc"
      },
      "source": [
        "Después de echar un vistazo rápido a los datos que tenemos, pasaremos a analizar qué tipo de análisis podemos realizar con estos datos y qué gráficos de distribución vamos a utilizar para presentar esta información.\n",
        "\n",
        "### **Preguntas**\n",
        "\n",
        "3. ¿Cómo está distribuida la longitud de las cajas de detergente en polvo para cada una de las muestras?\n",
        "\n",
        "4. ¿Cómo están dispuestas las medidas de longitud y altura de la muestra A? Si queremos rechazar todos los artículos en los que el valor de longitud y altura esté un 1% por encima o por debajo de los valores de 20 y 15 respectivamente, ¿cuáles serían rechazados?\n",
        "\n",
        "\n",
        "\n"
      ]
    },
    {
      "cell_type": "markdown",
      "metadata": {
        "id": "9kyH1su1qAS6"
      },
      "source": [
        "### **Pregunta 3 -** ¿Cómo está distribuida la longitud de las cajas de detergente en polvo para cada una de las muestras?"
      ]
    },
    {
      "cell_type": "markdown",
      "metadata": {
        "id": "COtXmfY2qvNU"
      },
      "source": [
        "#### Visualizando los datos"
      ]
    },
    {
      "cell_type": "code",
      "source": [],
      "metadata": {
        "id": "XfDKUGiQ_zO9"
      },
      "execution_count": null,
      "outputs": []
    },
    {
      "cell_type": "markdown",
      "metadata": {
        "id": "5Mw-ObDaqAS_"
      },
      "source": [
        "#### Generando el gráfico"
      ]
    },
    {
      "cell_type": "code",
      "source": [],
      "metadata": {
        "id": "wcbJ9hPS_2UD"
      },
      "execution_count": null,
      "outputs": []
    },
    {
      "cell_type": "markdown",
      "metadata": {
        "id": "GalqiyyHqAS_"
      },
      "source": [
        "<font color=green size=4> Conclusiones: </font>\n",
        "\n",
        "---\n",
        "\n",
        "El gráfico de violín es una combinación entre el histograma y el boxplot. En él, podemos observar tanto la distribución de los datos mediante la representación de la curva, como dentro de él percibimos el boxplot con las variables de interés.\n",
        "\n",
        "Como sugerencia, también podemos probar esta técnica con otros valores en nuestra base de datos, como por ejemplo, la profundidad o la altura de la caja. Vale la pena probar si tenemos una gran diferencia entre las muestras y lo que podemos observar en esta distribución."
      ]
    },
    {
      "cell_type": "markdown",
      "metadata": {
        "id": "NNIqzEAjzxWc"
      },
      "source": [
        "## **5.2 Gráfico de dispersión**\n",
        "\n",
        "---\n",
        "\n"
      ]
    },
    {
      "cell_type": "markdown",
      "metadata": {
        "id": "WBoL0D50Aqk_"
      },
      "source": [
        "<img src=\"https://github.com/ahcamachod/visualizacion-de-datos-graficos-de-comparacion-y-distribucion/blob/main/dispersion.png?raw=true\" alt=\"inserir alt\" height=\"343\">\n",
        "\n",
        "<font size=2>Fuente: Andrew Abela (Extreme Presentation/Biuwer)</font>\n"
      ]
    },
    {
      "cell_type": "markdown",
      "metadata": {
        "id": "oeawtNNazxWh"
      },
      "source": [
        "### **Pregunta 4 -** ¿Cómo están dispuestas las medidas de longitud y altura de la muestra A? Si queremos rechazar todos los artículos en los que el valor de longitud y altura esté un 1% por encima o por debajo de los valores de 20 y 15 respectivamente, ¿cuáles serían rechazados?"
      ]
    },
    {
      "cell_type": "markdown",
      "metadata": {
        "id": "5N6LxAIYzxWh"
      },
      "source": [
        "#### Visualizando los datos"
      ]
    },
    {
      "cell_type": "code",
      "source": [],
      "metadata": {
        "id": "bxVNwR2z_4bQ"
      },
      "execution_count": null,
      "outputs": []
    },
    {
      "cell_type": "markdown",
      "metadata": {
        "id": "Mtsmy55bzxWh"
      },
      "source": [
        "#### Generando el gráfico"
      ]
    },
    {
      "cell_type": "code",
      "source": [],
      "metadata": {
        "id": "Kzz-yYfE_6Ds"
      },
      "execution_count": null,
      "outputs": []
    },
    {
      "cell_type": "markdown",
      "metadata": {
        "id": "fjI9h_XZKtAY"
      },
      "source": [
        "## **5.3 - Mapeando los datos por colores**\n",
        "\n",
        "---\n",
        "\n"
      ]
    },
    {
      "cell_type": "code",
      "source": [],
      "metadata": {
        "id": "jPQWcLYA_8I4"
      },
      "execution_count": null,
      "outputs": []
    },
    {
      "cell_type": "markdown",
      "metadata": {
        "id": "JN_Du8WIzxWh"
      },
      "source": [
        "<font color=green size=4> Conclusiones: </font>\n",
        "\n",
        "---\n",
        "\n",
        "En este último gráfico de distribución, presentamos el diagrama de dispersión. También utilizado para la relación entre los datos, este gráfico de distribución muestra cómo están distribuidas las dimensiones de las cajas entre dos variables: longitud y altura.\n",
        "\n",
        "Aquí utilizamos dos recursos visuales, el de zoom (generado por la delimitación de los límites máximos y mínimos de longitud y altura, respectivamente) y el de similitud a través de los colores, representando los grupos de valores aceptados, rechazados por altura y rechazados por altura y longitud."
      ]
    }
  ],
  "metadata": {
    "colab": {
      "provenance": [],
      "include_colab_link": true
    },
    "kernelspec": {
      "display_name": "Python 3",
      "name": "python3"
    },
    "language_info": {
      "codemirror_mode": {
        "name": "ipython",
        "version": 3
      },
      "file_extension": ".py",
      "mimetype": "text/x-python",
      "name": "python",
      "nbconvert_exporter": "python",
      "pygments_lexer": "ipython3",
      "version": "3.11.3"
    }
  },
  "nbformat": 4,
  "nbformat_minor": 0
}