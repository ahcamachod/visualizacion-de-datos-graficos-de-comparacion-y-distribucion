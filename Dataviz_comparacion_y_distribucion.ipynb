{
  "cells": [
    {
      "cell_type": "markdown",
      "metadata": {
        "id": "view-in-github",
        "colab_type": "text"
      },
      "source": [
        "<a href=\"https://colab.research.google.com/github/ahcamachod/visualizacion-de-datos-graficos-de-comparacion-y-distribucion/blob/aula-3/Dataviz_comparacion_y_distribucion.ipynb\" target=\"_parent\"><img src=\"https://colab.research.google.com/assets/colab-badge.svg\" alt=\"Open In Colab\"/></a>"
      ]
    },
    {
      "cell_type": "markdown",
      "metadata": {
        "id": "7D3n0DACbyjf"
      },
      "source": [
        "# <font color=green> **Data visualization: Gráficos**</font>\n",
        "---"
      ]
    },
    {
      "cell_type": "markdown",
      "metadata": {
        "id": "Au2nZsz9ezur"
      },
      "source": [
        "# **Clase 1 - Comparando los datos**"
      ]
    },
    {
      "cell_type": "markdown",
      "metadata": {
        "id": "zozK6sjqX0YH"
      },
      "source": [
        "## **1.1 Introducción**\n",
        "\n",
        "---\n",
        "\n",
        "En este curso, vamos construir un portafolio con los análisis de **dos** bases de datos diferentes, explorando cada una y respondiendo a las preguntas planteadas en torno a sus datos. Todas las bases están en formato CSV y se pueden acceder a través de Github.\n",
        "\n",
        "> **Bases de datos:**\n",
        "\n",
        "1.   Ventas de una red de tiendas por departamentos que opera en toda la Argentina.\n",
        "\n",
        "2.   Distribución de volúmenes y medidas de productos de una empresa de artículos de limpieza.\n",
        "\n",
        " 2.1 Volumen de un suavizante de 1 litro en un total de 1000 muestras medidas.\n",
        "\n",
        " 2.2 Medidas de altura, longitud y ancho de una caja de detergente en polvo en un total de 1000 muestras medidas.\n",
        "\n",
        "En cada clase, revisaremos una de las bases de datos y elaboraremos nuestros análisis de acuerdo con las preguntas que se planteen, tratando de responderlas mediante el uso de recursos visuales (gráficos y elementos visuales)."
      ]
    },
    {
      "cell_type": "markdown",
      "metadata": {
        "id": "YvLE4O2iemTx"
      },
      "source": [
        "### Paletas de colores"
      ]
    },
    {
      "cell_type": "markdown",
      "metadata": {
        "id": "sAuABmczf3Ev"
      },
      "source": [
        "|Azul|||||\n",
        "|------|------|------|------|------|\n",
        "| AZUL1 |AZUL2 |AZUL3 |AZUL4 |AZUL5 |\n",
        "|#03045e | #0077b6 | #00b4d8| #90e0ef | #CDDBF3 |\n",
        "|![adicionar desc](https://github.com/afonsosr2/dataviz-graficos/blob/master/imagens/AZUL1.png?raw=true)|![adicionar desc](https://github.com/afonsosr2/dataviz-graficos/blob/master/imagens/AZUL2.png?raw=true)|![adicionar desc](https://github.com/afonsosr2/dataviz-graficos/blob/master/imagens/AZUL3.png?raw=true)|![adicionar desc](https://github.com/afonsosr2/dataviz-graficos/blob/master/imagens/AZUL4.png?raw=true)|![adicionar desc](https://github.com/afonsosr2/dataviz-graficos/blob/master/imagens/AZUL5.png?raw=true)|\n",
        "\n",
        "&nbsp;\n",
        "\n",
        "|Gris|||||\n",
        "|------|------|------|------|------|\n",
        "| GRIS1 |GRIS2 |GRIS3 |GRIS4 |GRIS5|\n",
        "|#212529 | #495057| #adb5bd | #dee2e6| #f8f9fa |\n",
        "| ![adicionar desc](https://github.com/afonsosr2/dataviz-graficos/blob/master/imagens/CINZA1.png?raw=true)  |![adicionar desc](https://github.com/afonsosr2/dataviz-graficos/blob/master/imagens/CINZA2.png?raw=true) |![adicionar desc](https://github.com/afonsosr2/dataviz-graficos/blob/master/imagens/CINZA3.png?raw=true) |![adicionar desc](https://github.com/afonsosr2/dataviz-graficos/blob/master/imagens/CINZA4.png?raw=true) |![adicionar desc](https://github.com/afonsosr2/dataviz-graficos/blob/master/imagens/CINZA5.png?raw=true)|\n",
        "&nbsp;\n",
        "\n",
        "|Mixto|||||\n",
        "|------|------|------|------|------|\n",
        "| ROJO1 |ANARANJADO1 |AMARILLO1 | VERDE1 |VERDE2 |\n",
        "|#e76f51 | #f4a261 | #e9c46a |#0C8040 | #4c956c |#2a9d8f|\n",
        "| ![adicionar desc](https://github.com/afonsosr2/dataviz-graficos/blob/master/imagens/VERMELHO1.png?raw=true) |![adicionar desc](https://github.com/afonsosr2/dataviz-graficos/blob/master/imagens/LARANJA1.png?raw=true)|![adicionar desc](https://github.com/afonsosr2/dataviz-graficos/blob/master/imagens/AMARELO1.png?raw=true)| ![adicionar desc](https://github.com/afonsosr2/dataviz-graficos/blob/master/imagens/VERDE1.png?raw=true) | ![adicionar desc](https://github.com/afonsosr2/dataviz-graficos/blob/master/imagens/VERDE2.png?raw=true) |\n"
      ]
    },
    {
      "cell_type": "code",
      "execution_count": null,
      "metadata": {
        "id": "_LZKF5MzesCL"
      },
      "outputs": [],
      "source": [
        "# Definición de las paletas de colores\n",
        "AZUL1, AZUL2, AZUL3, AZUL4, AZUL5 = '#03045e', '#0077b6', \"#00b4d8\", '#90e0ef', '#CDDBF3'\n",
        "GRIS1, GRIS2, GRIS3, GRIS4, GRIS5 = '#212529', '#495057', '#adb5bd', '#dee2e6', '#f8f9fa'\n",
        "ROJO1, ANARANJADO1, AMARILLO1, VERDE1, VERDE2, VERDE3 = '#e76f51', '#f4a261',\t'#e9c46a', '#4c956c', '#2a9d8f', '#264653'"
      ]
    },
    {
      "cell_type": "markdown",
      "metadata": {
        "id": "t8kjf_FpfBkJ"
      },
      "source": [
        "## **1.2 - Gráficos de columnas**\n",
        "\n",
        "\n",
        "---\n",
        "\n",
        "\n"
      ]
    },
    {
      "cell_type": "markdown",
      "metadata": {
        "id": "Pl-FzB1PjzRy"
      },
      "source": [
        "### **Situación problema 1**\n",
        "Una red de tiendas por departamentos que opera en toda la Argentina desea saber cómo están comportándose las provincias o su clientela en las ventas de sus productos. Para lograrlo, como científico de datos, necesitarás analizar los datos que ella ha proporcionado en un conjunto de datos con los pedidos de sus clientes entre los años 2016 y 2019.\n",
        "\n",
        "Aquí, trabajaremos con una cantidad menor de datos, pero el enfoque es el mismo para conjuntos de datos más grandes."
      ]
    },
    {
      "cell_type": "code",
      "source": [
        "import pandas as pd\n",
        "import matplotlib.pyplot as plt\n",
        "import seaborn as sns\n",
        "import warnings\n",
        "\n",
        "warnings.filterwarnings(\"ignore\")"
      ],
      "metadata": {
        "id": "acWYIRX-tyNH"
      },
      "execution_count": null,
      "outputs": []
    },
    {
      "cell_type": "code",
      "source": [
        "ventas = pd.read_csv('https://gist.githubusercontent.com/ahcamachod/d2efadda3f3833d65da750c64705ac42/raw/80aef6f3bad210d34b67ed85565f039a30e2d9e0/ventas.csv', sep=\"#\")\n",
        "ventas['fecha_pedido'] = pd.to_datetime(ventas['fecha_pedido'],format='%Y-%m-%d')\n",
        "ventas['fecha_envio'] = pd.to_datetime(ventas['fecha_envio'],format='%Y-%m-%d')\n",
        "ventas.head(2)"
      ],
      "metadata": {
        "colab": {
          "base_uri": "https://localhost:8080/",
          "height": 201
        },
        "id": "yb3YZOz9tudG",
        "outputId": "ed50fcfd-690d-462f-acd9-7d0f5e0640ce"
      },
      "execution_count": null,
      "outputs": [
        {
          "output_type": "execute_result",
          "data": {
            "text/plain": [
              "  fecha_pedido fecha_envio modo_envio    nombre_cliente segmento_cliente  \\\n",
              "0   2018-11-09  2018-11-12  Económica  Gaspar Fernández              B2C   \n",
              "1   2018-11-09  2018-11-12  Económica  Gaspar Fernández              B2C   \n",
              "\n",
              "            ciudad     provincia        region                departamento  \\\n",
              "0  Lomas de Zamora  Buenos Aires  Buenos Aires  Materiales de construcción   \n",
              "1  Lomas de Zamora  Buenos Aires  Buenos Aires  Materiales de construcción   \n",
              "\n",
              "  tipo_producto  precio_base  precio_unit_sin_descuento  descuento  \\\n",
              "0    Fontanería        409.7                     445.33        0.0   \n",
              "1  Herramientas        705.1                     829.53        0.0   \n",
              "\n",
              "   precio_unit_venta  cantidad   ventas  ganancia  \n",
              "0             445.33         2   890.66     71.26  \n",
              "1             829.53         3  2488.59    373.29  "
            ],
            "text/html": [
              "\n",
              "  <div id=\"df-8bbf3080-7e8c-4e73-ae48-2f091b62808b\" class=\"colab-df-container\">\n",
              "    <div>\n",
              "<style scoped>\n",
              "    .dataframe tbody tr th:only-of-type {\n",
              "        vertical-align: middle;\n",
              "    }\n",
              "\n",
              "    .dataframe tbody tr th {\n",
              "        vertical-align: top;\n",
              "    }\n",
              "\n",
              "    .dataframe thead th {\n",
              "        text-align: right;\n",
              "    }\n",
              "</style>\n",
              "<table border=\"1\" class=\"dataframe\">\n",
              "  <thead>\n",
              "    <tr style=\"text-align: right;\">\n",
              "      <th></th>\n",
              "      <th>fecha_pedido</th>\n",
              "      <th>fecha_envio</th>\n",
              "      <th>modo_envio</th>\n",
              "      <th>nombre_cliente</th>\n",
              "      <th>segmento_cliente</th>\n",
              "      <th>ciudad</th>\n",
              "      <th>provincia</th>\n",
              "      <th>region</th>\n",
              "      <th>departamento</th>\n",
              "      <th>tipo_producto</th>\n",
              "      <th>precio_base</th>\n",
              "      <th>precio_unit_sin_descuento</th>\n",
              "      <th>descuento</th>\n",
              "      <th>precio_unit_venta</th>\n",
              "      <th>cantidad</th>\n",
              "      <th>ventas</th>\n",
              "      <th>ganancia</th>\n",
              "    </tr>\n",
              "  </thead>\n",
              "  <tbody>\n",
              "    <tr>\n",
              "      <th>0</th>\n",
              "      <td>2018-11-09</td>\n",
              "      <td>2018-11-12</td>\n",
              "      <td>Económica</td>\n",
              "      <td>Gaspar Fernández</td>\n",
              "      <td>B2C</td>\n",
              "      <td>Lomas de Zamora</td>\n",
              "      <td>Buenos Aires</td>\n",
              "      <td>Buenos Aires</td>\n",
              "      <td>Materiales de construcción</td>\n",
              "      <td>Fontanería</td>\n",
              "      <td>409.7</td>\n",
              "      <td>445.33</td>\n",
              "      <td>0.0</td>\n",
              "      <td>445.33</td>\n",
              "      <td>2</td>\n",
              "      <td>890.66</td>\n",
              "      <td>71.26</td>\n",
              "    </tr>\n",
              "    <tr>\n",
              "      <th>1</th>\n",
              "      <td>2018-11-09</td>\n",
              "      <td>2018-11-12</td>\n",
              "      <td>Económica</td>\n",
              "      <td>Gaspar Fernández</td>\n",
              "      <td>B2C</td>\n",
              "      <td>Lomas de Zamora</td>\n",
              "      <td>Buenos Aires</td>\n",
              "      <td>Buenos Aires</td>\n",
              "      <td>Materiales de construcción</td>\n",
              "      <td>Herramientas</td>\n",
              "      <td>705.1</td>\n",
              "      <td>829.53</td>\n",
              "      <td>0.0</td>\n",
              "      <td>829.53</td>\n",
              "      <td>3</td>\n",
              "      <td>2488.59</td>\n",
              "      <td>373.29</td>\n",
              "    </tr>\n",
              "  </tbody>\n",
              "</table>\n",
              "</div>\n",
              "    <div class=\"colab-df-buttons\">\n",
              "\n",
              "  <div class=\"colab-df-container\">\n",
              "    <button class=\"colab-df-convert\" onclick=\"convertToInteractive('df-8bbf3080-7e8c-4e73-ae48-2f091b62808b')\"\n",
              "            title=\"Convert this dataframe to an interactive table.\"\n",
              "            style=\"display:none;\">\n",
              "\n",
              "  <svg xmlns=\"http://www.w3.org/2000/svg\" height=\"24px\" viewBox=\"0 -960 960 960\">\n",
              "    <path d=\"M120-120v-720h720v720H120Zm60-500h600v-160H180v160Zm220 220h160v-160H400v160Zm0 220h160v-160H400v160ZM180-400h160v-160H180v160Zm440 0h160v-160H620v160ZM180-180h160v-160H180v160Zm440 0h160v-160H620v160Z\"/>\n",
              "  </svg>\n",
              "    </button>\n",
              "\n",
              "  <style>\n",
              "    .colab-df-container {\n",
              "      display:flex;\n",
              "      gap: 12px;\n",
              "    }\n",
              "\n",
              "    .colab-df-convert {\n",
              "      background-color: #E8F0FE;\n",
              "      border: none;\n",
              "      border-radius: 50%;\n",
              "      cursor: pointer;\n",
              "      display: none;\n",
              "      fill: #1967D2;\n",
              "      height: 32px;\n",
              "      padding: 0 0 0 0;\n",
              "      width: 32px;\n",
              "    }\n",
              "\n",
              "    .colab-df-convert:hover {\n",
              "      background-color: #E2EBFA;\n",
              "      box-shadow: 0px 1px 2px rgba(60, 64, 67, 0.3), 0px 1px 3px 1px rgba(60, 64, 67, 0.15);\n",
              "      fill: #174EA6;\n",
              "    }\n",
              "\n",
              "    .colab-df-buttons div {\n",
              "      margin-bottom: 4px;\n",
              "    }\n",
              "\n",
              "    [theme=dark] .colab-df-convert {\n",
              "      background-color: #3B4455;\n",
              "      fill: #D2E3FC;\n",
              "    }\n",
              "\n",
              "    [theme=dark] .colab-df-convert:hover {\n",
              "      background-color: #434B5C;\n",
              "      box-shadow: 0px 1px 3px 1px rgba(0, 0, 0, 0.15);\n",
              "      filter: drop-shadow(0px 1px 2px rgba(0, 0, 0, 0.3));\n",
              "      fill: #FFFFFF;\n",
              "    }\n",
              "  </style>\n",
              "\n",
              "    <script>\n",
              "      const buttonEl =\n",
              "        document.querySelector('#df-8bbf3080-7e8c-4e73-ae48-2f091b62808b button.colab-df-convert');\n",
              "      buttonEl.style.display =\n",
              "        google.colab.kernel.accessAllowed ? 'block' : 'none';\n",
              "\n",
              "      async function convertToInteractive(key) {\n",
              "        const element = document.querySelector('#df-8bbf3080-7e8c-4e73-ae48-2f091b62808b');\n",
              "        const dataTable =\n",
              "          await google.colab.kernel.invokeFunction('convertToInteractive',\n",
              "                                                    [key], {});\n",
              "        if (!dataTable) return;\n",
              "\n",
              "        const docLinkHtml = 'Like what you see? Visit the ' +\n",
              "          '<a target=\"_blank\" href=https://colab.research.google.com/notebooks/data_table.ipynb>data table notebook</a>'\n",
              "          + ' to learn more about interactive tables.';\n",
              "        element.innerHTML = '';\n",
              "        dataTable['output_type'] = 'display_data';\n",
              "        await google.colab.output.renderOutput(dataTable, element);\n",
              "        const docLink = document.createElement('div');\n",
              "        docLink.innerHTML = docLinkHtml;\n",
              "        element.appendChild(docLink);\n",
              "      }\n",
              "    </script>\n",
              "  </div>\n",
              "\n",
              "\n",
              "<div id=\"df-f93bb940-37c2-43c9-8298-0c87aaf1dbc3\">\n",
              "  <button class=\"colab-df-quickchart\" onclick=\"quickchart('df-f93bb940-37c2-43c9-8298-0c87aaf1dbc3')\"\n",
              "            title=\"Suggest charts\"\n",
              "            style=\"display:none;\">\n",
              "\n",
              "<svg xmlns=\"http://www.w3.org/2000/svg\" height=\"24px\"viewBox=\"0 0 24 24\"\n",
              "     width=\"24px\">\n",
              "    <g>\n",
              "        <path d=\"M19 3H5c-1.1 0-2 .9-2 2v14c0 1.1.9 2 2 2h14c1.1 0 2-.9 2-2V5c0-1.1-.9-2-2-2zM9 17H7v-7h2v7zm4 0h-2V7h2v10zm4 0h-2v-4h2v4z\"/>\n",
              "    </g>\n",
              "</svg>\n",
              "  </button>\n",
              "\n",
              "<style>\n",
              "  .colab-df-quickchart {\n",
              "      --bg-color: #E8F0FE;\n",
              "      --fill-color: #1967D2;\n",
              "      --hover-bg-color: #E2EBFA;\n",
              "      --hover-fill-color: #174EA6;\n",
              "      --disabled-fill-color: #AAA;\n",
              "      --disabled-bg-color: #DDD;\n",
              "  }\n",
              "\n",
              "  [theme=dark] .colab-df-quickchart {\n",
              "      --bg-color: #3B4455;\n",
              "      --fill-color: #D2E3FC;\n",
              "      --hover-bg-color: #434B5C;\n",
              "      --hover-fill-color: #FFFFFF;\n",
              "      --disabled-bg-color: #3B4455;\n",
              "      --disabled-fill-color: #666;\n",
              "  }\n",
              "\n",
              "  .colab-df-quickchart {\n",
              "    background-color: var(--bg-color);\n",
              "    border: none;\n",
              "    border-radius: 50%;\n",
              "    cursor: pointer;\n",
              "    display: none;\n",
              "    fill: var(--fill-color);\n",
              "    height: 32px;\n",
              "    padding: 0;\n",
              "    width: 32px;\n",
              "  }\n",
              "\n",
              "  .colab-df-quickchart:hover {\n",
              "    background-color: var(--hover-bg-color);\n",
              "    box-shadow: 0 1px 2px rgba(60, 64, 67, 0.3), 0 1px 3px 1px rgba(60, 64, 67, 0.15);\n",
              "    fill: var(--button-hover-fill-color);\n",
              "  }\n",
              "\n",
              "  .colab-df-quickchart-complete:disabled,\n",
              "  .colab-df-quickchart-complete:disabled:hover {\n",
              "    background-color: var(--disabled-bg-color);\n",
              "    fill: var(--disabled-fill-color);\n",
              "    box-shadow: none;\n",
              "  }\n",
              "\n",
              "  .colab-df-spinner {\n",
              "    border: 2px solid var(--fill-color);\n",
              "    border-color: transparent;\n",
              "    border-bottom-color: var(--fill-color);\n",
              "    animation:\n",
              "      spin 1s steps(1) infinite;\n",
              "  }\n",
              "\n",
              "  @keyframes spin {\n",
              "    0% {\n",
              "      border-color: transparent;\n",
              "      border-bottom-color: var(--fill-color);\n",
              "      border-left-color: var(--fill-color);\n",
              "    }\n",
              "    20% {\n",
              "      border-color: transparent;\n",
              "      border-left-color: var(--fill-color);\n",
              "      border-top-color: var(--fill-color);\n",
              "    }\n",
              "    30% {\n",
              "      border-color: transparent;\n",
              "      border-left-color: var(--fill-color);\n",
              "      border-top-color: var(--fill-color);\n",
              "      border-right-color: var(--fill-color);\n",
              "    }\n",
              "    40% {\n",
              "      border-color: transparent;\n",
              "      border-right-color: var(--fill-color);\n",
              "      border-top-color: var(--fill-color);\n",
              "    }\n",
              "    60% {\n",
              "      border-color: transparent;\n",
              "      border-right-color: var(--fill-color);\n",
              "    }\n",
              "    80% {\n",
              "      border-color: transparent;\n",
              "      border-right-color: var(--fill-color);\n",
              "      border-bottom-color: var(--fill-color);\n",
              "    }\n",
              "    90% {\n",
              "      border-color: transparent;\n",
              "      border-bottom-color: var(--fill-color);\n",
              "    }\n",
              "  }\n",
              "</style>\n",
              "\n",
              "  <script>\n",
              "    async function quickchart(key) {\n",
              "      const quickchartButtonEl =\n",
              "        document.querySelector('#' + key + ' button');\n",
              "      quickchartButtonEl.disabled = true;  // To prevent multiple clicks.\n",
              "      quickchartButtonEl.classList.add('colab-df-spinner');\n",
              "      try {\n",
              "        const charts = await google.colab.kernel.invokeFunction(\n",
              "            'suggestCharts', [key], {});\n",
              "      } catch (error) {\n",
              "        console.error('Error during call to suggestCharts:', error);\n",
              "      }\n",
              "      quickchartButtonEl.classList.remove('colab-df-spinner');\n",
              "      quickchartButtonEl.classList.add('colab-df-quickchart-complete');\n",
              "    }\n",
              "    (() => {\n",
              "      let quickchartButtonEl =\n",
              "        document.querySelector('#df-f93bb940-37c2-43c9-8298-0c87aaf1dbc3 button');\n",
              "      quickchartButtonEl.style.display =\n",
              "        google.colab.kernel.accessAllowed ? 'block' : 'none';\n",
              "    })();\n",
              "  </script>\n",
              "</div>\n",
              "\n",
              "    </div>\n",
              "  </div>\n"
            ],
            "application/vnd.google.colaboratory.intrinsic+json": {
              "type": "dataframe",
              "variable_name": "ventas",
              "summary": "{\n  \"name\": \"ventas\",\n  \"rows\": 8940,\n  \"fields\": [\n    {\n      \"column\": \"fecha_pedido\",\n      \"properties\": {\n        \"dtype\": \"date\",\n        \"min\": \"2016-01-04 00:00:00\",\n        \"max\": \"2019-12-31 00:00:00\",\n        \"num_unique_values\": 1209,\n        \"samples\": [\n          \"2018-06-07 00:00:00\",\n          \"2016-07-01 00:00:00\",\n          \"2018-03-06 00:00:00\"\n        ],\n        \"semantic_type\": \"\",\n        \"description\": \"\"\n      }\n    },\n    {\n      \"column\": \"fecha_envio\",\n      \"properties\": {\n        \"dtype\": \"date\",\n        \"min\": \"2016-01-08 00:00:00\",\n        \"max\": \"2020-01-06 00:00:00\",\n        \"num_unique_values\": 1292,\n        \"samples\": [\n          \"2019-05-27 00:00:00\",\n          \"2016-12-04 00:00:00\",\n          \"2017-03-06 00:00:00\"\n        ],\n        \"semantic_type\": \"\",\n        \"description\": \"\"\n      }\n    },\n    {\n      \"column\": \"modo_envio\",\n      \"properties\": {\n        \"dtype\": \"category\",\n        \"num_unique_values\": 4,\n        \"samples\": [\n          \"Entrega est\\u00e1ndar\",\n          \"Entrega en 24 horas\",\n          \"Econ\\u00f3mica\"\n        ],\n        \"semantic_type\": \"\",\n        \"description\": \"\"\n      }\n    },\n    {\n      \"column\": \"nombre_cliente\",\n      \"properties\": {\n        \"dtype\": \"category\",\n        \"num_unique_values\": 604,\n        \"samples\": [\n          \"In\\u00e9s Castro\",\n          \"Josefa Silva\",\n          \"Jos\\u00e9 P\\u00e9rez\"\n        ],\n        \"semantic_type\": \"\",\n        \"description\": \"\"\n      }\n    },\n    {\n      \"column\": \"segmento_cliente\",\n      \"properties\": {\n        \"dtype\": \"category\",\n        \"num_unique_values\": 2,\n        \"samples\": [\n          \"B2B\",\n          \"B2C\"\n        ],\n        \"semantic_type\": \"\",\n        \"description\": \"\"\n      }\n    },\n    {\n      \"column\": \"ciudad\",\n      \"properties\": {\n        \"dtype\": \"category\",\n        \"num_unique_values\": 225,\n        \"samples\": [\n          \"Ciudad Aut\\u00f3noma de Buenos Aires\",\n          \"Venado Tuerto\"\n        ],\n        \"semantic_type\": \"\",\n        \"description\": \"\"\n      }\n    },\n    {\n      \"column\": \"provincia\",\n      \"properties\": {\n        \"dtype\": \"category\",\n        \"num_unique_values\": 24,\n        \"samples\": [\n          \"Santiago del Estero\",\n          \"Formosa\"\n        ],\n        \"semantic_type\": \"\",\n        \"description\": \"\"\n      }\n    },\n    {\n      \"column\": \"region\",\n      \"properties\": {\n        \"dtype\": \"category\",\n        \"num_unique_values\": 6,\n        \"samples\": [\n          \"Buenos Aires\",\n          \"Central\"\n        ],\n        \"semantic_type\": \"\",\n        \"description\": \"\"\n      }\n    },\n    {\n      \"column\": \"departamento\",\n      \"properties\": {\n        \"dtype\": \"category\",\n        \"num_unique_values\": 3,\n        \"samples\": [\n          \"Materiales de construcci\\u00f3n\",\n          \"Jardiner\\u00eda y paisajismo\"\n        ],\n        \"semantic_type\": \"\",\n        \"description\": \"\"\n      }\n    },\n    {\n      \"column\": \"tipo_producto\",\n      \"properties\": {\n        \"dtype\": \"category\",\n        \"num_unique_values\": 17,\n        \"samples\": [\n          \"Fontaner\\u00eda\",\n          \"Herramientas\"\n        ],\n        \"semantic_type\": \"\",\n        \"description\": \"\"\n      }\n    },\n    {\n      \"column\": \"precio_base\",\n      \"properties\": {\n        \"dtype\": \"number\",\n        \"std\": 436.25675263212406,\n        \"min\": 2.06,\n        \"max\": 9043.98,\n        \"num_unique_values\": 3639,\n        \"samples\": [\n          9.0,\n          120.63\n        ],\n        \"semantic_type\": \"\",\n        \"description\": \"\"\n      }\n    },\n    {\n      \"column\": \"precio_unit_sin_descuento\",\n      \"properties\": {\n        \"dtype\": \"number\",\n        \"std\": 522.0724355071876,\n        \"min\": 1.9,\n        \"max\": 11899.97,\n        \"num_unique_values\": 2860,\n        \"samples\": [\n          9.69,\n          25.53\n        ],\n        \"semantic_type\": \"\",\n        \"description\": \"\"\n      }\n    },\n    {\n      \"column\": \"descuento\",\n      \"properties\": {\n        \"dtype\": \"number\",\n        \"std\": 0.10305401989101878,\n        \"min\": 0.0,\n        \"max\": 0.4,\n        \"num_unique_values\": 12,\n        \"samples\": [\n          0.2,\n          0.3\n        ],\n        \"semantic_type\": \"\",\n        \"description\": \"\"\n      }\n    },\n    {\n      \"column\": \"precio_unit_venta\",\n      \"properties\": {\n        \"dtype\": \"number\",\n        \"std\": 486.2130768726897,\n        \"min\": 1.14,\n        \"max\": 11899.97,\n        \"num_unique_values\": 2839,\n        \"samples\": [\n          9.14,\n          754.23\n        ],\n        \"semantic_type\": \"\",\n        \"description\": \"\"\n      }\n    },\n    {\n      \"column\": \"cantidad\",\n      \"properties\": {\n        \"dtype\": \"number\",\n        \"std\": 2,\n        \"min\": 1,\n        \"max\": 14,\n        \"num_unique_values\": 14,\n        \"samples\": [\n          14,\n          13\n        ],\n        \"semantic_type\": \"\",\n        \"description\": \"\"\n      }\n    },\n    {\n      \"column\": \"ventas\",\n      \"properties\": {\n        \"dtype\": \"number\",\n        \"std\": 2048.5272671477223,\n        \"min\": 1.51,\n        \"max\": 59499.85,\n        \"num_unique_values\": 5723,\n        \"samples\": [\n          132.16,\n          356.49\n        ],\n        \"semantic_type\": \"\",\n        \"description\": \"\"\n      }\n    },\n    {\n      \"column\": \"ganancia\",\n      \"properties\": {\n        \"dtype\": \"number\",\n        \"std\": 415.43534507386215,\n        \"min\": -11219.95,\n        \"max\": 14280.0,\n        \"num_unique_values\": 6166,\n        \"samples\": [\n          50.48000000000002,\n          5.819999999999936\n        ],\n        \"semantic_type\": \"\",\n        \"description\": \"\"\n      }\n    }\n  ]\n}"
            }
          },
          "metadata": {},
          "execution_count": 3
        }
      ]
    },
    {
      "cell_type": "code",
      "source": [
        "ventas.info()"
      ],
      "metadata": {
        "colab": {
          "base_uri": "https://localhost:8080/"
        },
        "id": "pNzAVtpxtuf9",
        "outputId": "95688009-b9ba-43d6-8bce-3710e484b25d"
      },
      "execution_count": null,
      "outputs": [
        {
          "output_type": "stream",
          "name": "stdout",
          "text": [
            "<class 'pandas.core.frame.DataFrame'>\n",
            "RangeIndex: 8940 entries, 0 to 8939\n",
            "Data columns (total 17 columns):\n",
            " #   Column                     Non-Null Count  Dtype         \n",
            "---  ------                     --------------  -----         \n",
            " 0   fecha_pedido               8940 non-null   datetime64[ns]\n",
            " 1   fecha_envio                8940 non-null   datetime64[ns]\n",
            " 2   modo_envio                 8940 non-null   object        \n",
            " 3   nombre_cliente             8940 non-null   object        \n",
            " 4   segmento_cliente           8940 non-null   object        \n",
            " 5   ciudad                     8940 non-null   object        \n",
            " 6   provincia                  8940 non-null   object        \n",
            " 7   region                     8940 non-null   object        \n",
            " 8   departamento               8940 non-null   object        \n",
            " 9   tipo_producto              8940 non-null   object        \n",
            " 10  precio_base                8940 non-null   float64       \n",
            " 11  precio_unit_sin_descuento  8940 non-null   float64       \n",
            " 12  descuento                  8940 non-null   float64       \n",
            " 13  precio_unit_venta          8940 non-null   float64       \n",
            " 14  cantidad                   8940 non-null   int64         \n",
            " 15  ventas                     8940 non-null   float64       \n",
            " 16  ganancia                   8940 non-null   float64       \n",
            "dtypes: datetime64[ns](2), float64(6), int64(1), object(8)\n",
            "memory usage: 1.2+ MB\n"
          ]
        }
      ]
    },
    {
      "cell_type": "markdown",
      "metadata": {
        "id": "O-KLnaiFj6hM"
      },
      "source": [
        "Después de visualizar de manera rápida los datos que tenemos, vamos a proceder con los análisis que podemos realizar con estos datos y qué gráficos de comparación vamos a utilizar para presentar este tipo de información.\n",
        "\n",
        "Preguntas:\n",
        "1. ¿Cuál es el total de ventas por año? ¿Y qué año tuvo un mejor desempeño en nuestra base de datos?\n",
        "\n",
        "2. ¿Cuáles son los 7 productos que generaron más beneficios en nuestro catálogo durante el periodo representado?\n",
        "\n",
        "3. Si dividimos el total de ventas por año por regiones, ¿qué podemos observar en nuestros datos?\n",
        "\n",
        "4. ¿Cuál es el método de envío más utilizado por los clientes de la tienda? ¿Es proporcional para B2B y B2C?\n",
        "\n",
        "5. ¿Cuál es el total de ventas por trimestre en la provincia de Buenos Aires?\n",
        "\n",
        "6. ¿Cuál es la facturación por trimestre en cada región?"
      ]
    },
    {
      "cell_type": "markdown",
      "metadata": {
        "id": "NPPKkTlpn_-A"
      },
      "source": [
        "## **1.3 - Gráficos de columnas**\n",
        "\n",
        "\n",
        "---\n",
        "\n",
        "\n"
      ]
    },
    {
      "cell_type": "markdown",
      "metadata": {
        "id": "ckQWjwb6XzeK"
      },
      "source": [
        "<img src=\"https://github.com/ahcamachod/visualizacion-de-datos-graficos-de-comparacion-y-distribucion/blob/main/comparacion.png?raw=true\" alt=\"inserir alt\" height=\"343\">\n",
        "\n",
        "\n",
        "<font size=2>Fuente: Andrew Abela (Extreme Presentation/Biuwer)</font>"
      ]
    },
    {
      "cell_type": "markdown",
      "metadata": {
        "id": "8sc3B4Xnj8gO"
      },
      "source": [
        "### **Pregunta 1 -** 1. ¿Cuál es el total de ventas por año? ¿Y qué año tuvo un mejor desempeño en nuestra base de datos?"
      ]
    },
    {
      "cell_type": "markdown",
      "metadata": {
        "id": "q8kZdoa1o11o"
      },
      "source": [
        "#### Tratando los datos para generar la visualización"
      ]
    },
    {
      "cell_type": "code",
      "source": [
        "df_ventas_ano = ventas.copy()\n",
        "df_ventas_ano = df_ventas_ano[['fecha_pedido','ventas']]\n",
        "\n",
        "df_ventas_ano['año'] = df_ventas_ano.fecha_pedido.dt.year\n",
        "df_ventas_ano.drop(labels='fecha_pedido',axis=1,inplace=True)\n",
        "df_ventas_ano = df_ventas_ano.groupby(['año']).aggregate('sum')\n",
        "\n",
        "df_ventas_ano"
      ],
      "metadata": {
        "colab": {
          "base_uri": "https://localhost:8080/",
          "height": 206
        },
        "id": "crNUrmqyt0EV",
        "outputId": "c1b9fceb-d88c-4169-cf1b-ec3ace666e62"
      },
      "execution_count": null,
      "outputs": [
        {
          "output_type": "execute_result",
          "data": {
            "text/plain": [
              "          ventas\n",
              "año             \n",
              "2016  1402652.33\n",
              "2017  1489179.52\n",
              "2018  1884161.41\n",
              "2019  2305006.29"
            ],
            "text/html": [
              "\n",
              "  <div id=\"df-92f4bda7-da9a-43c9-a7a7-43094ac8ade3\" class=\"colab-df-container\">\n",
              "    <div>\n",
              "<style scoped>\n",
              "    .dataframe tbody tr th:only-of-type {\n",
              "        vertical-align: middle;\n",
              "    }\n",
              "\n",
              "    .dataframe tbody tr th {\n",
              "        vertical-align: top;\n",
              "    }\n",
              "\n",
              "    .dataframe thead th {\n",
              "        text-align: right;\n",
              "    }\n",
              "</style>\n",
              "<table border=\"1\" class=\"dataframe\">\n",
              "  <thead>\n",
              "    <tr style=\"text-align: right;\">\n",
              "      <th></th>\n",
              "      <th>ventas</th>\n",
              "    </tr>\n",
              "    <tr>\n",
              "      <th>año</th>\n",
              "      <th></th>\n",
              "    </tr>\n",
              "  </thead>\n",
              "  <tbody>\n",
              "    <tr>\n",
              "      <th>2016</th>\n",
              "      <td>1402652.33</td>\n",
              "    </tr>\n",
              "    <tr>\n",
              "      <th>2017</th>\n",
              "      <td>1489179.52</td>\n",
              "    </tr>\n",
              "    <tr>\n",
              "      <th>2018</th>\n",
              "      <td>1884161.41</td>\n",
              "    </tr>\n",
              "    <tr>\n",
              "      <th>2019</th>\n",
              "      <td>2305006.29</td>\n",
              "    </tr>\n",
              "  </tbody>\n",
              "</table>\n",
              "</div>\n",
              "    <div class=\"colab-df-buttons\">\n",
              "\n",
              "  <div class=\"colab-df-container\">\n",
              "    <button class=\"colab-df-convert\" onclick=\"convertToInteractive('df-92f4bda7-da9a-43c9-a7a7-43094ac8ade3')\"\n",
              "            title=\"Convert this dataframe to an interactive table.\"\n",
              "            style=\"display:none;\">\n",
              "\n",
              "  <svg xmlns=\"http://www.w3.org/2000/svg\" height=\"24px\" viewBox=\"0 -960 960 960\">\n",
              "    <path d=\"M120-120v-720h720v720H120Zm60-500h600v-160H180v160Zm220 220h160v-160H400v160Zm0 220h160v-160H400v160ZM180-400h160v-160H180v160Zm440 0h160v-160H620v160ZM180-180h160v-160H180v160Zm440 0h160v-160H620v160Z\"/>\n",
              "  </svg>\n",
              "    </button>\n",
              "\n",
              "  <style>\n",
              "    .colab-df-container {\n",
              "      display:flex;\n",
              "      gap: 12px;\n",
              "    }\n",
              "\n",
              "    .colab-df-convert {\n",
              "      background-color: #E8F0FE;\n",
              "      border: none;\n",
              "      border-radius: 50%;\n",
              "      cursor: pointer;\n",
              "      display: none;\n",
              "      fill: #1967D2;\n",
              "      height: 32px;\n",
              "      padding: 0 0 0 0;\n",
              "      width: 32px;\n",
              "    }\n",
              "\n",
              "    .colab-df-convert:hover {\n",
              "      background-color: #E2EBFA;\n",
              "      box-shadow: 0px 1px 2px rgba(60, 64, 67, 0.3), 0px 1px 3px 1px rgba(60, 64, 67, 0.15);\n",
              "      fill: #174EA6;\n",
              "    }\n",
              "\n",
              "    .colab-df-buttons div {\n",
              "      margin-bottom: 4px;\n",
              "    }\n",
              "\n",
              "    [theme=dark] .colab-df-convert {\n",
              "      background-color: #3B4455;\n",
              "      fill: #D2E3FC;\n",
              "    }\n",
              "\n",
              "    [theme=dark] .colab-df-convert:hover {\n",
              "      background-color: #434B5C;\n",
              "      box-shadow: 0px 1px 3px 1px rgba(0, 0, 0, 0.15);\n",
              "      filter: drop-shadow(0px 1px 2px rgba(0, 0, 0, 0.3));\n",
              "      fill: #FFFFFF;\n",
              "    }\n",
              "  </style>\n",
              "\n",
              "    <script>\n",
              "      const buttonEl =\n",
              "        document.querySelector('#df-92f4bda7-da9a-43c9-a7a7-43094ac8ade3 button.colab-df-convert');\n",
              "      buttonEl.style.display =\n",
              "        google.colab.kernel.accessAllowed ? 'block' : 'none';\n",
              "\n",
              "      async function convertToInteractive(key) {\n",
              "        const element = document.querySelector('#df-92f4bda7-da9a-43c9-a7a7-43094ac8ade3');\n",
              "        const dataTable =\n",
              "          await google.colab.kernel.invokeFunction('convertToInteractive',\n",
              "                                                    [key], {});\n",
              "        if (!dataTable) return;\n",
              "\n",
              "        const docLinkHtml = 'Like what you see? Visit the ' +\n",
              "          '<a target=\"_blank\" href=https://colab.research.google.com/notebooks/data_table.ipynb>data table notebook</a>'\n",
              "          + ' to learn more about interactive tables.';\n",
              "        element.innerHTML = '';\n",
              "        dataTable['output_type'] = 'display_data';\n",
              "        await google.colab.output.renderOutput(dataTable, element);\n",
              "        const docLink = document.createElement('div');\n",
              "        docLink.innerHTML = docLinkHtml;\n",
              "        element.appendChild(docLink);\n",
              "      }\n",
              "    </script>\n",
              "  </div>\n",
              "\n",
              "\n",
              "<div id=\"df-8ceeeb52-460d-40e9-94b4-31c7dd506b12\">\n",
              "  <button class=\"colab-df-quickchart\" onclick=\"quickchart('df-8ceeeb52-460d-40e9-94b4-31c7dd506b12')\"\n",
              "            title=\"Suggest charts\"\n",
              "            style=\"display:none;\">\n",
              "\n",
              "<svg xmlns=\"http://www.w3.org/2000/svg\" height=\"24px\"viewBox=\"0 0 24 24\"\n",
              "     width=\"24px\">\n",
              "    <g>\n",
              "        <path d=\"M19 3H5c-1.1 0-2 .9-2 2v14c0 1.1.9 2 2 2h14c1.1 0 2-.9 2-2V5c0-1.1-.9-2-2-2zM9 17H7v-7h2v7zm4 0h-2V7h2v10zm4 0h-2v-4h2v4z\"/>\n",
              "    </g>\n",
              "</svg>\n",
              "  </button>\n",
              "\n",
              "<style>\n",
              "  .colab-df-quickchart {\n",
              "      --bg-color: #E8F0FE;\n",
              "      --fill-color: #1967D2;\n",
              "      --hover-bg-color: #E2EBFA;\n",
              "      --hover-fill-color: #174EA6;\n",
              "      --disabled-fill-color: #AAA;\n",
              "      --disabled-bg-color: #DDD;\n",
              "  }\n",
              "\n",
              "  [theme=dark] .colab-df-quickchart {\n",
              "      --bg-color: #3B4455;\n",
              "      --fill-color: #D2E3FC;\n",
              "      --hover-bg-color: #434B5C;\n",
              "      --hover-fill-color: #FFFFFF;\n",
              "      --disabled-bg-color: #3B4455;\n",
              "      --disabled-fill-color: #666;\n",
              "  }\n",
              "\n",
              "  .colab-df-quickchart {\n",
              "    background-color: var(--bg-color);\n",
              "    border: none;\n",
              "    border-radius: 50%;\n",
              "    cursor: pointer;\n",
              "    display: none;\n",
              "    fill: var(--fill-color);\n",
              "    height: 32px;\n",
              "    padding: 0;\n",
              "    width: 32px;\n",
              "  }\n",
              "\n",
              "  .colab-df-quickchart:hover {\n",
              "    background-color: var(--hover-bg-color);\n",
              "    box-shadow: 0 1px 2px rgba(60, 64, 67, 0.3), 0 1px 3px 1px rgba(60, 64, 67, 0.15);\n",
              "    fill: var(--button-hover-fill-color);\n",
              "  }\n",
              "\n",
              "  .colab-df-quickchart-complete:disabled,\n",
              "  .colab-df-quickchart-complete:disabled:hover {\n",
              "    background-color: var(--disabled-bg-color);\n",
              "    fill: var(--disabled-fill-color);\n",
              "    box-shadow: none;\n",
              "  }\n",
              "\n",
              "  .colab-df-spinner {\n",
              "    border: 2px solid var(--fill-color);\n",
              "    border-color: transparent;\n",
              "    border-bottom-color: var(--fill-color);\n",
              "    animation:\n",
              "      spin 1s steps(1) infinite;\n",
              "  }\n",
              "\n",
              "  @keyframes spin {\n",
              "    0% {\n",
              "      border-color: transparent;\n",
              "      border-bottom-color: var(--fill-color);\n",
              "      border-left-color: var(--fill-color);\n",
              "    }\n",
              "    20% {\n",
              "      border-color: transparent;\n",
              "      border-left-color: var(--fill-color);\n",
              "      border-top-color: var(--fill-color);\n",
              "    }\n",
              "    30% {\n",
              "      border-color: transparent;\n",
              "      border-left-color: var(--fill-color);\n",
              "      border-top-color: var(--fill-color);\n",
              "      border-right-color: var(--fill-color);\n",
              "    }\n",
              "    40% {\n",
              "      border-color: transparent;\n",
              "      border-right-color: var(--fill-color);\n",
              "      border-top-color: var(--fill-color);\n",
              "    }\n",
              "    60% {\n",
              "      border-color: transparent;\n",
              "      border-right-color: var(--fill-color);\n",
              "    }\n",
              "    80% {\n",
              "      border-color: transparent;\n",
              "      border-right-color: var(--fill-color);\n",
              "      border-bottom-color: var(--fill-color);\n",
              "    }\n",
              "    90% {\n",
              "      border-color: transparent;\n",
              "      border-bottom-color: var(--fill-color);\n",
              "    }\n",
              "  }\n",
              "</style>\n",
              "\n",
              "  <script>\n",
              "    async function quickchart(key) {\n",
              "      const quickchartButtonEl =\n",
              "        document.querySelector('#' + key + ' button');\n",
              "      quickchartButtonEl.disabled = true;  // To prevent multiple clicks.\n",
              "      quickchartButtonEl.classList.add('colab-df-spinner');\n",
              "      try {\n",
              "        const charts = await google.colab.kernel.invokeFunction(\n",
              "            'suggestCharts', [key], {});\n",
              "      } catch (error) {\n",
              "        console.error('Error during call to suggestCharts:', error);\n",
              "      }\n",
              "      quickchartButtonEl.classList.remove('colab-df-spinner');\n",
              "      quickchartButtonEl.classList.add('colab-df-quickchart-complete');\n",
              "    }\n",
              "    (() => {\n",
              "      let quickchartButtonEl =\n",
              "        document.querySelector('#df-8ceeeb52-460d-40e9-94b4-31c7dd506b12 button');\n",
              "      quickchartButtonEl.style.display =\n",
              "        google.colab.kernel.accessAllowed ? 'block' : 'none';\n",
              "    })();\n",
              "  </script>\n",
              "</div>\n",
              "\n",
              "  <div id=\"id_0f4a6db4-22eb-4184-94c2-17ae74ef420d\">\n",
              "    <style>\n",
              "      .colab-df-generate {\n",
              "        background-color: #E8F0FE;\n",
              "        border: none;\n",
              "        border-radius: 50%;\n",
              "        cursor: pointer;\n",
              "        display: none;\n",
              "        fill: #1967D2;\n",
              "        height: 32px;\n",
              "        padding: 0 0 0 0;\n",
              "        width: 32px;\n",
              "      }\n",
              "\n",
              "      .colab-df-generate:hover {\n",
              "        background-color: #E2EBFA;\n",
              "        box-shadow: 0px 1px 2px rgba(60, 64, 67, 0.3), 0px 1px 3px 1px rgba(60, 64, 67, 0.15);\n",
              "        fill: #174EA6;\n",
              "      }\n",
              "\n",
              "      [theme=dark] .colab-df-generate {\n",
              "        background-color: #3B4455;\n",
              "        fill: #D2E3FC;\n",
              "      }\n",
              "\n",
              "      [theme=dark] .colab-df-generate:hover {\n",
              "        background-color: #434B5C;\n",
              "        box-shadow: 0px 1px 3px 1px rgba(0, 0, 0, 0.15);\n",
              "        filter: drop-shadow(0px 1px 2px rgba(0, 0, 0, 0.3));\n",
              "        fill: #FFFFFF;\n",
              "      }\n",
              "    </style>\n",
              "    <button class=\"colab-df-generate\" onclick=\"generateWithVariable('df_ventas_ano')\"\n",
              "            title=\"Generate code using this dataframe.\"\n",
              "            style=\"display:none;\">\n",
              "\n",
              "  <svg xmlns=\"http://www.w3.org/2000/svg\" height=\"24px\"viewBox=\"0 0 24 24\"\n",
              "       width=\"24px\">\n",
              "    <path d=\"M7,19H8.4L18.45,9,17,7.55,7,17.6ZM5,21V16.75L18.45,3.32a2,2,0,0,1,2.83,0l1.4,1.43a1.91,1.91,0,0,1,.58,1.4,1.91,1.91,0,0,1-.58,1.4L9.25,21ZM18.45,9,17,7.55Zm-12,3A5.31,5.31,0,0,0,4.9,8.1,5.31,5.31,0,0,0,1,6.5,5.31,5.31,0,0,0,4.9,4.9,5.31,5.31,0,0,0,6.5,1,5.31,5.31,0,0,0,8.1,4.9,5.31,5.31,0,0,0,12,6.5,5.46,5.46,0,0,0,6.5,12Z\"/>\n",
              "  </svg>\n",
              "    </button>\n",
              "    <script>\n",
              "      (() => {\n",
              "      const buttonEl =\n",
              "        document.querySelector('#id_0f4a6db4-22eb-4184-94c2-17ae74ef420d button.colab-df-generate');\n",
              "      buttonEl.style.display =\n",
              "        google.colab.kernel.accessAllowed ? 'block' : 'none';\n",
              "\n",
              "      buttonEl.onclick = () => {\n",
              "        google.colab.notebook.generateWithVariable('df_ventas_ano');\n",
              "      }\n",
              "      })();\n",
              "    </script>\n",
              "  </div>\n",
              "\n",
              "    </div>\n",
              "  </div>\n"
            ],
            "application/vnd.google.colaboratory.intrinsic+json": {
              "type": "dataframe",
              "variable_name": "df_ventas_ano",
              "summary": "{\n  \"name\": \"df_ventas_ano\",\n  \"rows\": 4,\n  \"fields\": [\n    {\n      \"column\": \"ventas\",\n      \"properties\": {\n        \"dtype\": \"number\",\n        \"std\": 413549.1751249424,\n        \"min\": 1402652.33,\n        \"max\": 2305006.29,\n        \"num_unique_values\": 4,\n        \"samples\": [\n          1489179.52,\n          2305006.29,\n          1402652.33\n        ],\n        \"semantic_type\": \"\",\n        \"description\": \"\"\n      }\n    }\n  ]\n}"
            }
          },
          "metadata": {},
          "execution_count": 5
        }
      ]
    },
    {
      "cell_type": "markdown",
      "metadata": {
        "id": "odNP3nGIu8-J"
      },
      "source": [
        "#### Generando el gráfico"
      ]
    },
    {
      "cell_type": "code",
      "source": [
        "def grafico_columnas(colores: list=[AZUL2]):\n",
        "  fig,ax = plt.subplots(figsize=(10,4))\n",
        "  sns.set_theme(style=\"white\")\n",
        "\n",
        "  ax = sns.barplot(data=df_ventas_ano, y = 'ventas', x= df_ventas_ano.index,\n",
        "                   hue=df_ventas_ano.index, palette=colores, legend=False)\n",
        "\n",
        "  ax.set_title('Ventas de tiendas por departamento\\n de 2016 a 2019', loc='left',\n",
        "               fontsize=18, color=GRIS1)\n",
        "  ax.set_xlabel('')\n",
        "  ax.set_ylabel('')\n",
        "  ax.set_yticklabels([])\n",
        "  ax.xaxis.set_tick_params(labelsize=14, labelcolor=GRIS2)\n",
        "  sns.despine(left=True,bottom=True)\n",
        "\n",
        "  for i,valor in enumerate(df_ventas_ano['ventas']):\n",
        "    ct = f'$ {valor:,.0f}'.replace(',','.')\n",
        "    offset = 1e5\n",
        "    ax.text(i, valor+offset, ct, color=GRIS2, fontsize=12,\n",
        "            ha='center', va='center')\n",
        "\n",
        "  return ax\n",
        "\n",
        "ax = grafico_columnas()\n",
        "\n",
        "fig = ax.get_figure()"
      ],
      "metadata": {
        "colab": {
          "base_uri": "https://localhost:8080/",
          "height": 428
        },
        "id": "tQXxnBHmt3Hl",
        "outputId": "69aa414f-79da-49ef-c2d5-f17b1b7830fd"
      },
      "execution_count": null,
      "outputs": [
        {
          "output_type": "display_data",
          "data": {
            "text/plain": [
              "<Figure size 1000x400 with 1 Axes>"
            ],
            "image/png": "[encoded data removed]"
          },
          "metadata": {}
        }
      ]
    },
    {
      "cell_type": "markdown",
      "metadata": {
        "id": "2DQ-Xi8ceNAp"
      },
      "source": [
        "## **1.4 - Añadiendo textos en la visualización**\n",
        "\n",
        "---\n",
        "\n"
      ]
    },
    {
      "cell_type": "code",
      "source": [
        "round(((df_ventas_ano['ventas'].max()/df_ventas_ano.loc[df_ventas_ano.index==2018])-1)*100,1)"
      ],
      "metadata": {
        "colab": {
          "base_uri": "https://localhost:8080/",
          "height": 112
        },
        "id": "J2Th-91kaICx",
        "outputId": "18579d10-2a5d-41a7-bea3-a7715caa66c2"
      },
      "execution_count": null,
      "outputs": [
        {
          "output_type": "execute_result",
          "data": {
            "text/plain": [
              "      ventas\n",
              "año         \n",
              "2018    22.3"
            ],
            "text/html": [
              "\n",
              "  <div id=\"df-25148075-6fb4-4349-a54e-a26858189e2d\" class=\"colab-df-container\">\n",
              "    <div>\n",
              "<style scoped>\n",
              "    .dataframe tbody tr th:only-of-type {\n",
              "        vertical-align: middle;\n",
              "    }\n",
              "\n",
              "    .dataframe tbody tr th {\n",
              "        vertical-align: top;\n",
              "    }\n",
              "\n",
              "    .dataframe thead th {\n",
              "        text-align: right;\n",
              "    }\n",
              "</style>\n",
              "<table border=\"1\" class=\"dataframe\">\n",
              "  <thead>\n",
              "    <tr style=\"text-align: right;\">\n",
              "      <th></th>\n",
              "      <th>ventas</th>\n",
              "    </tr>\n",
              "    <tr>\n",
              "      <th>año</th>\n",
              "      <th></th>\n",
              "    </tr>\n",
              "  </thead>\n",
              "  <tbody>\n",
              "    <tr>\n",
              "      <th>2018</th>\n",
              "      <td>22.3</td>\n",
              "    </tr>\n",
              "  </tbody>\n",
              "</table>\n",
              "</div>\n",
              "    <div class=\"colab-df-buttons\">\n",
              "\n",
              "  <div class=\"colab-df-container\">\n",
              "    <button class=\"colab-df-convert\" onclick=\"convertToInteractive('df-25148075-6fb4-4349-a54e-a26858189e2d')\"\n",
              "            title=\"Convert this dataframe to an interactive table.\"\n",
              "            style=\"display:none;\">\n",
              "\n",
              "  <svg xmlns=\"http://www.w3.org/2000/svg\" height=\"24px\" viewBox=\"0 -960 960 960\">\n",
              "    <path d=\"M120-120v-720h720v720H120Zm60-500h600v-160H180v160Zm220 220h160v-160H400v160Zm0 220h160v-160H400v160ZM180-400h160v-160H180v160Zm440 0h160v-160H620v160ZM180-180h160v-160H180v160Zm440 0h160v-160H620v160Z\"/>\n",
              "  </svg>\n",
              "    </button>\n",
              "\n",
              "  <style>\n",
              "    .colab-df-container {\n",
              "      display:flex;\n",
              "      gap: 12px;\n",
              "    }\n",
              "\n",
              "    .colab-df-convert {\n",
              "      background-color: #E8F0FE;\n",
              "      border: none;\n",
              "      border-radius: 50%;\n",
              "      cursor: pointer;\n",
              "      display: none;\n",
              "      fill: #1967D2;\n",
              "      height: 32px;\n",
              "      padding: 0 0 0 0;\n",
              "      width: 32px;\n",
              "    }\n",
              "\n",
              "    .colab-df-convert:hover {\n",
              "      background-color: #E2EBFA;\n",
              "      box-shadow: 0px 1px 2px rgba(60, 64, 67, 0.3), 0px 1px 3px 1px rgba(60, 64, 67, 0.15);\n",
              "      fill: #174EA6;\n",
              "    }\n",
              "\n",
              "    .colab-df-buttons div {\n",
              "      margin-bottom: 4px;\n",
              "    }\n",
              "\n",
              "    [theme=dark] .colab-df-convert {\n",
              "      background-color: #3B4455;\n",
              "      fill: #D2E3FC;\n",
              "    }\n",
              "\n",
              "    [theme=dark] .colab-df-convert:hover {\n",
              "      background-color: #434B5C;\n",
              "      box-shadow: 0px 1px 3px 1px rgba(0, 0, 0, 0.15);\n",
              "      filter: drop-shadow(0px 1px 2px rgba(0, 0, 0, 0.3));\n",
              "      fill: #FFFFFF;\n",
              "    }\n",
              "  </style>\n",
              "\n",
              "    <script>\n",
              "      const buttonEl =\n",
              "        document.querySelector('#df-25148075-6fb4-4349-a54e-a26858189e2d button.colab-df-convert');\n",
              "      buttonEl.style.display =\n",
              "        google.colab.kernel.accessAllowed ? 'block' : 'none';\n",
              "\n",
              "      async function convertToInteractive(key) {\n",
              "        const element = document.querySelector('#df-25148075-6fb4-4349-a54e-a26858189e2d');\n",
              "        const dataTable =\n",
              "          await google.colab.kernel.invokeFunction('convertToInteractive',\n",
              "                                                    [key], {});\n",
              "        if (!dataTable) return;\n",
              "\n",
              "        const docLinkHtml = 'Like what you see? Visit the ' +\n",
              "          '<a target=\"_blank\" href=https://colab.research.google.com/notebooks/data_table.ipynb>data table notebook</a>'\n",
              "          + ' to learn more about interactive tables.';\n",
              "        element.innerHTML = '';\n",
              "        dataTable['output_type'] = 'display_data';\n",
              "        await google.colab.output.renderOutput(dataTable, element);\n",
              "        const docLink = document.createElement('div');\n",
              "        docLink.innerHTML = docLinkHtml;\n",
              "        element.appendChild(docLink);\n",
              "      }\n",
              "    </script>\n",
              "  </div>\n",
              "\n",
              "\n",
              "    </div>\n",
              "  </div>\n"
            ],
            "application/vnd.google.colaboratory.intrinsic+json": {
              "type": "dataframe",
              "summary": "{\n  \"name\": \"round(((df_ventas_ano['ventas']\",\n  \"rows\": 1,\n  \"fields\": [\n    {\n      \"column\": \"ventas\",\n      \"properties\": {\n        \"dtype\": \"number\",\n        \"std\": null,\n        \"min\": 22.3,\n        \"max\": 22.3,\n        \"num_unique_values\": 1,\n        \"samples\": [\n          22.3\n        ],\n        \"semantic_type\": \"\",\n        \"description\": \"\"\n      }\n    }\n  ]\n}"
            }
          },
          "metadata": {},
          "execution_count": 7
        }
      ]
    },
    {
      "cell_type": "code",
      "source": [
        "colores =[]\n",
        "for ano in df_ventas_ano.index:\n",
        "  if df_ventas_ano.loc[ano,'ventas'] == df_ventas_ano['ventas'].max():\n",
        "    colores.append(AZUL2)\n",
        "  else:\n",
        "    colores.append(AZUL5)\n",
        "\n",
        "ax = grafico_columnas(colores)\n",
        "\n",
        "ax.text(3.5,1.5e6,\n",
        "        'En $\\\\bf{2019}$, las ventas\\n'\n",
        "        'en las tiendas aumentaron\\n'\n",
        "        'aproximadamente $\\\\bf{22.3}$%\\n'\n",
        "        'con relación al año 2018.',\n",
        "        fontsize=14,\n",
        "        linespacing=1.45,\n",
        "        color=AZUL2)\n",
        "\n",
        "fig = ax.get_figure()"
      ],
      "metadata": {
        "colab": {
          "base_uri": "https://localhost:8080/",
          "height": 432
        },
        "id": "LLeLEe99Y-sp",
        "outputId": "aedf3134-e017-4928-f3a5-9911d8f50a75"
      },
      "execution_count": null,
      "outputs": [
        {
          "output_type": "display_data",
          "data": {
            "text/plain": [
              "<Figure size 1000x400 with 1 Axes>"
            ],
            "image/png": "[encoded data removed]"
          },
          "metadata": {}
        }
      ]
    },
    {
      "cell_type": "markdown",
      "metadata": {
        "id": "giWDQDtkXDBe"
      },
      "source": [
        "<font color=green size=4> Conclusiones: </font>\n",
        "\n",
        "---\n",
        "\n",
        "Un gráfico de columnas es ideal para comparar valores con pocas categorías o pequeños intervalos de tiempo. Aquí utilizamos el recurso de destacar mediante colores para orientar a nuestro público a visualizar el último período en comparación con los demás. Además, proporcionamos información en forma de texto señalando la evolución con respecto al año anterior.\n",
        "\n",
        "Como sugerencia, podemos probar esta técnica también con otros valores en nuestra base de datos, como por ejemplo, el beneficio anual o la facturación en ventas por provincia o región que prefieras analizar."
      ]
    },
    {
      "cell_type": "markdown",
      "metadata": {
        "id": "o-h-SNCNejTH"
      },
      "source": [
        "## **1.5  - Gráfico de barras**\n",
        "\n",
        "---\n",
        "\n",
        "\n",
        "\n"
      ]
    },
    {
      "cell_type": "markdown",
      "metadata": {
        "id": "TJ-JnYYsGMMz"
      },
      "source": [
        "### **Pregunta 2 -** ¿Cuáles son los 7 productos que generaron más beneficios en nuestro catálogo durante el periodo representado?"
      ]
    },
    {
      "cell_type": "markdown",
      "metadata": {
        "id": "WI6f6ehgGMM4"
      },
      "source": [
        "#### Tratando los datos para generar la visualización"
      ]
    },
    {
      "cell_type": "code",
      "source": [
        "top_ganancia = ventas.copy()\n",
        "top_ganancia = top_ganancia[['tipo_producto','ganancia']]\n",
        "top_ganancia = top_ganancia.groupby(['tipo_producto']).aggregate(\"sum\").sort_values('ganancia',ascending=False)\n",
        "\n",
        "top_7 = top_ganancia[:7]\n",
        "\n",
        "top_7"
      ],
      "metadata": {
        "id": "g0B0VLlFuDrd",
        "colab": {
          "base_uri": "https://localhost:8080/",
          "height": 300
        },
        "outputId": "f3d12ce8-757c-4a32-b487-4491623ff3b0"
      },
      "execution_count": null,
      "outputs": [
        {
          "output_type": "execute_result",
          "data": {
            "text/plain": [
              "                            ganancia\n",
              "tipo_producto                       \n",
              "Piezas de repuesto          91148.67\n",
              "Neumáticos                  67460.05\n",
              "Herramientas automotrices   63330.22\n",
              "Pesticidas                  53343.89\n",
              "Herramientas de jardinería  53202.88\n",
              "Herramientas                41020.34\n",
              "Macetas                     33941.85"
            ],
            "text/html": [
              "\n",
              "  <div id=\"df-df6238e2-afcf-4c31-937d-0c7627572b5d\" class=\"colab-df-container\">\n",
              "    <div>\n",
              "<style scoped>\n",
              "    .dataframe tbody tr th:only-of-type {\n",
              "        vertical-align: middle;\n",
              "    }\n",
              "\n",
              "    .dataframe tbody tr th {\n",
              "        vertical-align: top;\n",
              "    }\n",
              "\n",
              "    .dataframe thead th {\n",
              "        text-align: right;\n",
              "    }\n",
              "</style>\n",
              "<table border=\"1\" class=\"dataframe\">\n",
              "  <thead>\n",
              "    <tr style=\"text-align: right;\">\n",
              "      <th></th>\n",
              "      <th>ganancia</th>\n",
              "    </tr>\n",
              "    <tr>\n",
              "      <th>tipo_producto</th>\n",
              "      <th></th>\n",
              "    </tr>\n",
              "  </thead>\n",
              "  <tbody>\n",
              "    <tr>\n",
              "      <th>Piezas de repuesto</th>\n",
              "      <td>91148.67</td>\n",
              "    </tr>\n",
              "    <tr>\n",
              "      <th>Neumáticos</th>\n",
              "      <td>67460.05</td>\n",
              "    </tr>\n",
              "    <tr>\n",
              "      <th>Herramientas automotrices</th>\n",
              "      <td>63330.22</td>\n",
              "    </tr>\n",
              "    <tr>\n",
              "      <th>Pesticidas</th>\n",
              "      <td>53343.89</td>\n",
              "    </tr>\n",
              "    <tr>\n",
              "      <th>Herramientas de jardinería</th>\n",
              "      <td>53202.88</td>\n",
              "    </tr>\n",
              "    <tr>\n",
              "      <th>Herramientas</th>\n",
              "      <td>41020.34</td>\n",
              "    </tr>\n",
              "    <tr>\n",
              "      <th>Macetas</th>\n",
              "      <td>33941.85</td>\n",
              "    </tr>\n",
              "  </tbody>\n",
              "</table>\n",
              "</div>\n",
              "    <div class=\"colab-df-buttons\">\n",
              "\n",
              "  <div class=\"colab-df-container\">\n",
              "    <button class=\"colab-df-convert\" onclick=\"convertToInteractive('df-df6238e2-afcf-4c31-937d-0c7627572b5d')\"\n",
              "            title=\"Convert this dataframe to an interactive table.\"\n",
              "            style=\"display:none;\">\n",
              "\n",
              "  <svg xmlns=\"http://www.w3.org/2000/svg\" height=\"24px\" viewBox=\"0 -960 960 960\">\n",
              "    <path d=\"M120-120v-720h720v720H120Zm60-500h600v-160H180v160Zm220 220h160v-160H400v160Zm0 220h160v-160H400v160ZM180-400h160v-160H180v160Zm440 0h160v-160H620v160ZM180-180h160v-160H180v160Zm440 0h160v-160H620v160Z\"/>\n",
              "  </svg>\n",
              "    </button>\n",
              "\n",
              "  <style>\n",
              "    .colab-df-container {\n",
              "      display:flex;\n",
              "      gap: 12px;\n",
              "    }\n",
              "\n",
              "    .colab-df-convert {\n",
              "      background-color: #E8F0FE;\n",
              "      border: none;\n",
              "      border-radius: 50%;\n",
              "      cursor: pointer;\n",
              "      display: none;\n",
              "      fill: #1967D2;\n",
              "      height: 32px;\n",
              "      padding: 0 0 0 0;\n",
              "      width: 32px;\n",
              "    }\n",
              "\n",
              "    .colab-df-convert:hover {\n",
              "      background-color: #E2EBFA;\n",
              "      box-shadow: 0px 1px 2px rgba(60, 64, 67, 0.3), 0px 1px 3px 1px rgba(60, 64, 67, 0.15);\n",
              "      fill: #174EA6;\n",
              "    }\n",
              "\n",
              "    .colab-df-buttons div {\n",
              "      margin-bottom: 4px;\n",
              "    }\n",
              "\n",
              "    [theme=dark] .colab-df-convert {\n",
              "      background-color: #3B4455;\n",
              "      fill: #D2E3FC;\n",
              "    }\n",
              "\n",
              "    [theme=dark] .colab-df-convert:hover {\n",
              "      background-color: #434B5C;\n",
              "      box-shadow: 0px 1px 3px 1px rgba(0, 0, 0, 0.15);\n",
              "      filter: drop-shadow(0px 1px 2px rgba(0, 0, 0, 0.3));\n",
              "      fill: #FFFFFF;\n",
              "    }\n",
              "  </style>\n",
              "\n",
              "    <script>\n",
              "      const buttonEl =\n",
              "        document.querySelector('#df-df6238e2-afcf-4c31-937d-0c7627572b5d button.colab-df-convert');\n",
              "      buttonEl.style.display =\n",
              "        google.colab.kernel.accessAllowed ? 'block' : 'none';\n",
              "\n",
              "      async function convertToInteractive(key) {\n",
              "        const element = document.querySelector('#df-df6238e2-afcf-4c31-937d-0c7627572b5d');\n",
              "        const dataTable =\n",
              "          await google.colab.kernel.invokeFunction('convertToInteractive',\n",
              "                                                    [key], {});\n",
              "        if (!dataTable) return;\n",
              "\n",
              "        const docLinkHtml = 'Like what you see? Visit the ' +\n",
              "          '<a target=\"_blank\" href=https://colab.research.google.com/notebooks/data_table.ipynb>data table notebook</a>'\n",
              "          + ' to learn more about interactive tables.';\n",
              "        element.innerHTML = '';\n",
              "        dataTable['output_type'] = 'display_data';\n",
              "        await google.colab.output.renderOutput(dataTable, element);\n",
              "        const docLink = document.createElement('div');\n",
              "        docLink.innerHTML = docLinkHtml;\n",
              "        element.appendChild(docLink);\n",
              "      }\n",
              "    </script>\n",
              "  </div>\n",
              "\n",
              "\n",
              "<div id=\"df-3b422174-abd8-4722-9b02-f5174b0c70d7\">\n",
              "  <button class=\"colab-df-quickchart\" onclick=\"quickchart('df-3b422174-abd8-4722-9b02-f5174b0c70d7')\"\n",
              "            title=\"Suggest charts\"\n",
              "            style=\"display:none;\">\n",
              "\n",
              "<svg xmlns=\"http://www.w3.org/2000/svg\" height=\"24px\"viewBox=\"0 0 24 24\"\n",
              "     width=\"24px\">\n",
              "    <g>\n",
              "        <path d=\"M19 3H5c-1.1 0-2 .9-2 2v14c0 1.1.9 2 2 2h14c1.1 0 2-.9 2-2V5c0-1.1-.9-2-2-2zM9 17H7v-7h2v7zm4 0h-2V7h2v10zm4 0h-2v-4h2v4z\"/>\n",
              "    </g>\n",
              "</svg>\n",
              "  </button>\n",
              "\n",
              "<style>\n",
              "  .colab-df-quickchart {\n",
              "      --bg-color: #E8F0FE;\n",
              "      --fill-color: #1967D2;\n",
              "      --hover-bg-color: #E2EBFA;\n",
              "      --hover-fill-color: #174EA6;\n",
              "      --disabled-fill-color: #AAA;\n",
              "      --disabled-bg-color: #DDD;\n",
              "  }\n",
              "\n",
              "  [theme=dark] .colab-df-quickchart {\n",
              "      --bg-color: #3B4455;\n",
              "      --fill-color: #D2E3FC;\n",
              "      --hover-bg-color: #434B5C;\n",
              "      --hover-fill-color: #FFFFFF;\n",
              "      --disabled-bg-color: #3B4455;\n",
              "      --disabled-fill-color: #666;\n",
              "  }\n",
              "\n",
              "  .colab-df-quickchart {\n",
              "    background-color: var(--bg-color);\n",
              "    border: none;\n",
              "    border-radius: 50%;\n",
              "    cursor: pointer;\n",
              "    display: none;\n",
              "    fill: var(--fill-color);\n",
              "    height: 32px;\n",
              "    padding: 0;\n",
              "    width: 32px;\n",
              "  }\n",
              "\n",
              "  .colab-df-quickchart:hover {\n",
              "    background-color: var(--hover-bg-color);\n",
              "    box-shadow: 0 1px 2px rgba(60, 64, 67, 0.3), 0 1px 3px 1px rgba(60, 64, 67, 0.15);\n",
              "    fill: var(--button-hover-fill-color);\n",
              "  }\n",
              "\n",
              "  .colab-df-quickchart-complete:disabled,\n",
              "  .colab-df-quickchart-complete:disabled:hover {\n",
              "    background-color: var(--disabled-bg-color);\n",
              "    fill: var(--disabled-fill-color);\n",
              "    box-shadow: none;\n",
              "  }\n",
              "\n",
              "  .colab-df-spinner {\n",
              "    border: 2px solid var(--fill-color);\n",
              "    border-color: transparent;\n",
              "    border-bottom-color: var(--fill-color);\n",
              "    animation:\n",
              "      spin 1s steps(1) infinite;\n",
              "  }\n",
              "\n",
              "  @keyframes spin {\n",
              "    0% {\n",
              "      border-color: transparent;\n",
              "      border-bottom-color: var(--fill-color);\n",
              "      border-left-color: var(--fill-color);\n",
              "    }\n",
              "    20% {\n",
              "      border-color: transparent;\n",
              "      border-left-color: var(--fill-color);\n",
              "      border-top-color: var(--fill-color);\n",
              "    }\n",
              "    30% {\n",
              "      border-color: transparent;\n",
              "      border-left-color: var(--fill-color);\n",
              "      border-top-color: var(--fill-color);\n",
              "      border-right-color: var(--fill-color);\n",
              "    }\n",
              "    40% {\n",
              "      border-color: transparent;\n",
              "      border-right-color: var(--fill-color);\n",
              "      border-top-color: var(--fill-color);\n",
              "    }\n",
              "    60% {\n",
              "      border-color: transparent;\n",
              "      border-right-color: var(--fill-color);\n",
              "    }\n",
              "    80% {\n",
              "      border-color: transparent;\n",
              "      border-right-color: var(--fill-color);\n",
              "      border-bottom-color: var(--fill-color);\n",
              "    }\n",
              "    90% {\n",
              "      border-color: transparent;\n",
              "      border-bottom-color: var(--fill-color);\n",
              "    }\n",
              "  }\n",
              "</style>\n",
              "\n",
              "  <script>\n",
              "    async function quickchart(key) {\n",
              "      const quickchartButtonEl =\n",
              "        document.querySelector('#' + key + ' button');\n",
              "      quickchartButtonEl.disabled = true;  // To prevent multiple clicks.\n",
              "      quickchartButtonEl.classList.add('colab-df-spinner');\n",
              "      try {\n",
              "        const charts = await google.colab.kernel.invokeFunction(\n",
              "            'suggestCharts', [key], {});\n",
              "      } catch (error) {\n",
              "        console.error('Error during call to suggestCharts:', error);\n",
              "      }\n",
              "      quickchartButtonEl.classList.remove('colab-df-spinner');\n",
              "      quickchartButtonEl.classList.add('colab-df-quickchart-complete');\n",
              "    }\n",
              "    (() => {\n",
              "      let quickchartButtonEl =\n",
              "        document.querySelector('#df-3b422174-abd8-4722-9b02-f5174b0c70d7 button');\n",
              "      quickchartButtonEl.style.display =\n",
              "        google.colab.kernel.accessAllowed ? 'block' : 'none';\n",
              "    })();\n",
              "  </script>\n",
              "</div>\n",
              "\n",
              "  <div id=\"id_3c7c0083-da17-4eeb-8be3-5817da4e5e39\">\n",
              "    <style>\n",
              "      .colab-df-generate {\n",
              "        background-color: #E8F0FE;\n",
              "        border: none;\n",
              "        border-radius: 50%;\n",
              "        cursor: pointer;\n",
              "        display: none;\n",
              "        fill: #1967D2;\n",
              "        height: 32px;\n",
              "        padding: 0 0 0 0;\n",
              "        width: 32px;\n",
              "      }\n",
              "\n",
              "      .colab-df-generate:hover {\n",
              "        background-color: #E2EBFA;\n",
              "        box-shadow: 0px 1px 2px rgba(60, 64, 67, 0.3), 0px 1px 3px 1px rgba(60, 64, 67, 0.15);\n",
              "        fill: #174EA6;\n",
              "      }\n",
              "\n",
              "      [theme=dark] .colab-df-generate {\n",
              "        background-color: #3B4455;\n",
              "        fill: #D2E3FC;\n",
              "      }\n",
              "\n",
              "      [theme=dark] .colab-df-generate:hover {\n",
              "        background-color: #434B5C;\n",
              "        box-shadow: 0px 1px 3px 1px rgba(0, 0, 0, 0.15);\n",
              "        filter: drop-shadow(0px 1px 2px rgba(0, 0, 0, 0.3));\n",
              "        fill: #FFFFFF;\n",
              "      }\n",
              "    </style>\n",
              "    <button class=\"colab-df-generate\" onclick=\"generateWithVariable('top_7')\"\n",
              "            title=\"Generate code using this dataframe.\"\n",
              "            style=\"display:none;\">\n",
              "\n",
              "  <svg xmlns=\"http://www.w3.org/2000/svg\" height=\"24px\"viewBox=\"0 0 24 24\"\n",
              "       width=\"24px\">\n",
              "    <path d=\"M7,19H8.4L18.45,9,17,7.55,7,17.6ZM5,21V16.75L18.45,3.32a2,2,0,0,1,2.83,0l1.4,1.43a1.91,1.91,0,0,1,.58,1.4,1.91,1.91,0,0,1-.58,1.4L9.25,21ZM18.45,9,17,7.55Zm-12,3A5.31,5.31,0,0,0,4.9,8.1,5.31,5.31,0,0,0,1,6.5,5.31,5.31,0,0,0,4.9,4.9,5.31,5.31,0,0,0,6.5,1,5.31,5.31,0,0,0,8.1,4.9,5.31,5.31,0,0,0,12,6.5,5.46,5.46,0,0,0,6.5,12Z\"/>\n",
              "  </svg>\n",
              "    </button>\n",
              "    <script>\n",
              "      (() => {\n",
              "      const buttonEl =\n",
              "        document.querySelector('#id_3c7c0083-da17-4eeb-8be3-5817da4e5e39 button.colab-df-generate');\n",
              "      buttonEl.style.display =\n",
              "        google.colab.kernel.accessAllowed ? 'block' : 'none';\n",
              "\n",
              "      buttonEl.onclick = () => {\n",
              "        google.colab.notebook.generateWithVariable('top_7');\n",
              "      }\n",
              "      })();\n",
              "    </script>\n",
              "  </div>\n",
              "\n",
              "    </div>\n",
              "  </div>\n"
            ],
            "application/vnd.google.colaboratory.intrinsic+json": {
              "type": "dataframe",
              "variable_name": "top_7",
              "summary": "{\n  \"name\": \"top_7\",\n  \"rows\": 7,\n  \"fields\": [\n    {\n      \"column\": \"ganancia\",\n      \"properties\": {\n        \"dtype\": \"number\",\n        \"std\": 18830.838229630015,\n        \"min\": 33941.85,\n        \"max\": 91148.67,\n        \"num_unique_values\": 7,\n        \"samples\": [\n          91148.67,\n          67460.05,\n          41020.33999999999\n        ],\n        \"semantic_type\": \"\",\n        \"description\": \"\"\n      }\n    }\n  ]\n}"
            }
          },
          "metadata": {},
          "execution_count": 9
        }
      ]
    },
    {
      "cell_type": "markdown",
      "metadata": {
        "id": "ibvPGfwBGMM5"
      },
      "source": [
        "#### Generando el gráfico"
      ]
    },
    {
      "cell_type": "code",
      "source": [
        "def grafico_barras():\n",
        "  fig,ax = plt.subplots(figsize=(10,4))\n",
        "  fig.subplots_adjust(right=0.7)\n",
        "  sns.set_theme(style=\"white\")\n",
        "\n",
        "  colores=[AZUL2,AZUL2,AZUL2,VERDE1,VERDE1,GRIS3,VERDE1]\n",
        "\n",
        "  ax = sns.barplot(data=top_7, y = top_7.index, x= top_7.ganancia,\n",
        "                   palette=colores)\n",
        "\n",
        "  ax.set_title('Top 7 de productos que generaron mayor ganancia en el catálogo\\n (2016 - 2019)',\n",
        "               loc='left',fontsize=18, color=GRIS1)\n",
        "  ax.set_xlabel('')\n",
        "  ax.set_ylabel('')\n",
        "  ax.set_xticklabels([])\n",
        "  ax.yaxis.set_tick_params(labelsize=10, labelcolor=GRIS2)\n",
        "  sns.despine(left=True,bottom=True)\n",
        "\n",
        "  for i,valor in enumerate(top_7['ganancia']):\n",
        "    ct = f'$ {valor:,.0f}'.replace(',','.')\n",
        "    offset = 1e3\n",
        "    ax.text(valor-offset,i,ct, color=GRIS5, fontsize=10,\n",
        "            fontweight= 'bold', ha='right', va='center')\n",
        "\n",
        "  return ax\n",
        "\n",
        "ax = grafico_barras()\n",
        "\n",
        "fig = ax.get_figure()"
      ],
      "metadata": {
        "id": "zohfGLn8uF7V",
        "colab": {
          "base_uri": "https://localhost:8080/",
          "height": 401
        },
        "outputId": "e43f6ea9-154c-45e2-ccbc-747b21300e2e"
      },
      "execution_count": null,
      "outputs": [
        {
          "output_type": "display_data",
          "data": {
            "text/plain": [
              "<Figure size 1000x400 with 1 Axes>"
            ],
            "image/png": "[encoded data removed]"
          },
          "metadata": {}
        }
      ]
    },
    {
      "cell_type": "markdown",
      "metadata": {
        "id": "PDPTH1XMnCQK"
      },
      "source": [
        "## **Añadiendo texto destacado**\n",
        "\n",
        "---\n",
        "\n",
        "\n"
      ]
    },
    {
      "cell_type": "markdown",
      "metadata": {
        "id": "DtAwXsTzoirv"
      },
      "source": [
        "Creando una función para escribir textos utilizando diversos colores\n",
        "\n",
        "> No existe una función nativa para ello. (Adaptado de https://github.com/empathy87/storytelling-with-data)\n",
        "\n"
      ]
    },
    {
      "cell_type": "code",
      "source": [
        "from matplotlib import transforms\n",
        "\n",
        "def texto_destacado(x, y, texto, colores, esp=20, ax=None, **kw):\n",
        "    colores = list(reversed(colores))\n",
        "    t = ax.transData\n",
        "    canvas = ax.figure.canvas\n",
        "\n",
        "    for i, linea in enumerate(reversed(texto.split('\\n'))):\n",
        "        frases = linea.split('||')\n",
        "        for s, cor in zip(frases, colores[i]):\n",
        "            texto = ax.text(x, y, s, color=cor, transform=t, **kw)\n",
        "            texto.draw(canvas.get_renderer())\n",
        "            ex = texto.get_window_extent()\n",
        "            t = transforms.offset_copy(texto._transform, x=ex.width,\n",
        "                                       units='dots')\n",
        "\n",
        "        t = transforms.offset_copy(ax.transData, x=0, y=(i + 1) * esp, units='dots')"
      ],
      "metadata": {
        "id": "iv7GS7BVuJ91"
      },
      "execution_count": null,
      "outputs": []
    },
    {
      "cell_type": "markdown",
      "metadata": {
        "id": "-tKaP-mKp4E5"
      },
      "source": [
        "#### Generando el gráfico"
      ]
    },
    {
      "cell_type": "code",
      "source": [
        "ax = grafico_barras()\n",
        "\n",
        "texto_destacado( 9.2e4, 2.9,         # coordenadas\n",
        "    'Los datos indican que los 3 productos que generan\\n'    # texto\n",
        "    '$\\\\bf{mayor\\ ganancia}$|| pertenecen al departamento ||$\\\\bf{Automotriz}$.\\n'\n",
        "    '\\n'\n",
        "    'Podemos notar también que el departamento de\\n'\n",
        "    '$\\\\bf{Jardinería\\ y\\ paisagismo}$|| posee 3 productos con\\n'\n",
        "    'un buen margen de ganancia, considerando que tan solo uno de estos\\n'\n",
        "    'se encuentra por debajo de ||$\\\\bf{50\\ mil\\ dólares}$|| durante el periodo en mención.',\n",
        "    [[GRIS2],                       # fila 1                        # colores\n",
        "     [GRIS1, GRIS2, AZUL2],         # fila 2\n",
        "     [GRIS2],                       # fila 3\n",
        "     [GRIS2],                       # fila 4\n",
        "     [VERDE1, GRIS2],               # fila 5\n",
        "     [GRIS2],                       # fila 5\n",
        "     [GRIS2, GRIS1, GRIS2]          # fila 7\n",
        "    ],\n",
        "    esp=22, # espaciamiento\n",
        "    ax=ax, # figura donde se va a dibujar el texto\n",
        "    fontsize=10)\n",
        "\n",
        "fig = ax.get_figure()"
      ],
      "metadata": {
        "id": "tx3UBHntuPit",
        "colab": {
          "base_uri": "https://localhost:8080/",
          "height": 357
        },
        "outputId": "3151cdae-42d5-42e7-de49-eaf27e85fa1b"
      },
      "execution_count": null,
      "outputs": [
        {
          "output_type": "display_data",
          "data": {
            "text/plain": [
              "<Figure size 1000x400 with 1 Axes>"
            ],
            "image/png": "[encoded data removed]"
          },
          "metadata": {}
        }
      ]
    },
    {
      "cell_type": "markdown",
      "metadata": {
        "id": "K_r5Hsc5GMM6"
      },
      "source": [
        "<font color=green size=4> Conclusiones: </font>\n",
        "\n",
        "---\n",
        "\n",
        "Un gráfico de barras es ideal para comparar valores con muchos elementos (más de 5), especialmente si los elementos son frases cortas o palabras. Aquí utilizamos el recurso de dividir las categorías por color, además de resaltarlas en el texto, para orientar al público sobre qué datos específicos estamos explorando.\n",
        "\n",
        "Como sugerencia, podemos probar esta técnica también con otros valores en nuestra base de datos, como por ejemplo, la facturación en un período dado o en relación con el departamento y/o región que prefieras analizar."
      ]
    },
    {
      "cell_type": "markdown",
      "metadata": {
        "id": "jHqFqkNpsRqM"
      },
      "source": [
        "# **Clase 2 - Agrupando los datos**"
      ]
    },
    {
      "cell_type": "markdown",
      "metadata": {
        "id": "tLLaxZYpsq_j"
      },
      "source": [
        "<img src=\"https://github.com/ahcamachod/visualizacion-de-datos-graficos-de-comparacion-y-distribucion/blob/main/comparacion.png?raw=true\" alt=\"inserir alt\" height=\"343\">\n",
        "\n",
        "\n",
        "<font size=2>Fuente: Andrew Abela (Extreme Presentation/Biuwer)</font>\n"
      ]
    },
    {
      "cell_type": "markdown",
      "metadata": {
        "id": "N6tv_s2QsamF"
      },
      "source": [
        "## **2.1 - Gráfico de columnas apiladas**\n",
        "\n",
        "---\n",
        "\n"
      ]
    },
    {
      "cell_type": "markdown",
      "metadata": {
        "id": "Yh0BtbNVRIk9"
      },
      "source": [
        "### **Pregunta 3 -** Si dividimos el total de ventas por año por regiones, ¿qué podemos observar en nuestros datos?"
      ]
    },
    {
      "cell_type": "markdown",
      "metadata": {
        "id": "ne-lgc1zRIlO"
      },
      "source": [
        "#### Tratando los datos para generar la visualización"
      ]
    },
    {
      "cell_type": "code",
      "source": [
        "df_ventas_reg = ventas.copy()\n",
        "df_ventas_reg = df_ventas_reg[['fecha_pedido','region','ventas']]\n",
        "\n",
        "df_ventas_reg['año'] = df_ventas_reg.fecha_pedido.dt.year\n",
        "df_ventas_reg.drop(labels='fecha_pedido',axis=1,inplace=True)\n",
        "df_ventas_reg"
      ],
      "metadata": {
        "id": "a8rraDJ7uTp9",
        "colab": {
          "base_uri": "https://localhost:8080/",
          "height": 423
        },
        "outputId": "6f8aee7d-6ddf-45ec-de71-f2dc30c576b8"
      },
      "execution_count": null,
      "outputs": [
        {
          "output_type": "execute_result",
          "data": {
            "text/plain": [
              "            region   ventas   año\n",
              "0     Buenos Aires   890.66  2018\n",
              "1     Buenos Aires  2488.59  2018\n",
              "2          Central    49.72  2018\n",
              "3          Litoral  3255.75  2017\n",
              "4          Litoral    76.04  2017\n",
              "...            ...      ...   ...\n",
              "8935       Central   123.22  2018\n",
              "8936          Cuyo   271.97  2019\n",
              "8937          Cuyo   700.75  2019\n",
              "8938    Patagónica    85.83  2016\n",
              "8939    Patagónica   826.74  2019\n",
              "\n",
              "[8940 rows x 3 columns]"
            ],
            "text/html": [
              "\n",
              "  <div id=\"df-6b4b239c-260b-466b-9e7a-d60823f0e6ca\" class=\"colab-df-container\">\n",
              "    <div>\n",
              "<style scoped>\n",
              "    .dataframe tbody tr th:only-of-type {\n",
              "        vertical-align: middle;\n",
              "    }\n",
              "\n",
              "    .dataframe tbody tr th {\n",
              "        vertical-align: top;\n",
              "    }\n",
              "\n",
              "    .dataframe thead th {\n",
              "        text-align: right;\n",
              "    }\n",
              "</style>\n",
              "<table border=\"1\" class=\"dataframe\">\n",
              "  <thead>\n",
              "    <tr style=\"text-align: right;\">\n",
              "      <th></th>\n",
              "      <th>region</th>\n",
              "      <th>ventas</th>\n",
              "      <th>año</th>\n",
              "    </tr>\n",
              "  </thead>\n",
              "  <tbody>\n",
              "    <tr>\n",
              "      <th>0</th>\n",
              "      <td>Buenos Aires</td>\n",
              "      <td>890.66</td>\n",
              "      <td>2018</td>\n",
              "    </tr>\n",
              "    <tr>\n",
              "      <th>1</th>\n",
              "      <td>Buenos Aires</td>\n",
              "      <td>2488.59</td>\n",
              "      <td>2018</td>\n",
              "    </tr>\n",
              "    <tr>\n",
              "      <th>2</th>\n",
              "      <td>Central</td>\n",
              "      <td>49.72</td>\n",
              "      <td>2018</td>\n",
              "    </tr>\n",
              "    <tr>\n",
              "      <th>3</th>\n",
              "      <td>Litoral</td>\n",
              "      <td>3255.75</td>\n",
              "      <td>2017</td>\n",
              "    </tr>\n",
              "    <tr>\n",
              "      <th>4</th>\n",
              "      <td>Litoral</td>\n",
              "      <td>76.04</td>\n",
              "      <td>2017</td>\n",
              "    </tr>\n",
              "    <tr>\n",
              "      <th>...</th>\n",
              "      <td>...</td>\n",
              "      <td>...</td>\n",
              "      <td>...</td>\n",
              "    </tr>\n",
              "    <tr>\n",
              "      <th>8935</th>\n",
              "      <td>Central</td>\n",
              "      <td>123.22</td>\n",
              "      <td>2018</td>\n",
              "    </tr>\n",
              "    <tr>\n",
              "      <th>8936</th>\n",
              "      <td>Cuyo</td>\n",
              "      <td>271.97</td>\n",
              "      <td>2019</td>\n",
              "    </tr>\n",
              "    <tr>\n",
              "      <th>8937</th>\n",
              "      <td>Cuyo</td>\n",
              "      <td>700.75</td>\n",
              "      <td>2019</td>\n",
              "    </tr>\n",
              "    <tr>\n",
              "      <th>8938</th>\n",
              "      <td>Patagónica</td>\n",
              "      <td>85.83</td>\n",
              "      <td>2016</td>\n",
              "    </tr>\n",
              "    <tr>\n",
              "      <th>8939</th>\n",
              "      <td>Patagónica</td>\n",
              "      <td>826.74</td>\n",
              "      <td>2019</td>\n",
              "    </tr>\n",
              "  </tbody>\n",
              "</table>\n",
              "<p>8940 rows × 3 columns</p>\n",
              "</div>\n",
              "    <div class=\"colab-df-buttons\">\n",
              "\n",
              "  <div class=\"colab-df-container\">\n",
              "    <button class=\"colab-df-convert\" onclick=\"convertToInteractive('df-6b4b239c-260b-466b-9e7a-d60823f0e6ca')\"\n",
              "            title=\"Convert this dataframe to an interactive table.\"\n",
              "            style=\"display:none;\">\n",
              "\n",
              "  <svg xmlns=\"http://www.w3.org/2000/svg\" height=\"24px\" viewBox=\"0 -960 960 960\">\n",
              "    <path d=\"M120-120v-720h720v720H120Zm60-500h600v-160H180v160Zm220 220h160v-160H400v160Zm0 220h160v-160H400v160ZM180-400h160v-160H180v160Zm440 0h160v-160H620v160ZM180-180h160v-160H180v160Zm440 0h160v-160H620v160Z\"/>\n",
              "  </svg>\n",
              "    </button>\n",
              "\n",
              "  <style>\n",
              "    .colab-df-container {\n",
              "      display:flex;\n",
              "      gap: 12px;\n",
              "    }\n",
              "\n",
              "    .colab-df-convert {\n",
              "      background-color: #E8F0FE;\n",
              "      border: none;\n",
              "      border-radius: 50%;\n",
              "      cursor: pointer;\n",
              "      display: none;\n",
              "      fill: #1967D2;\n",
              "      height: 32px;\n",
              "      padding: 0 0 0 0;\n",
              "      width: 32px;\n",
              "    }\n",
              "\n",
              "    .colab-df-convert:hover {\n",
              "      background-color: #E2EBFA;\n",
              "      box-shadow: 0px 1px 2px rgba(60, 64, 67, 0.3), 0px 1px 3px 1px rgba(60, 64, 67, 0.15);\n",
              "      fill: #174EA6;\n",
              "    }\n",
              "\n",
              "    .colab-df-buttons div {\n",
              "      margin-bottom: 4px;\n",
              "    }\n",
              "\n",
              "    [theme=dark] .colab-df-convert {\n",
              "      background-color: #3B4455;\n",
              "      fill: #D2E3FC;\n",
              "    }\n",
              "\n",
              "    [theme=dark] .colab-df-convert:hover {\n",
              "      background-color: #434B5C;\n",
              "      box-shadow: 0px 1px 3px 1px rgba(0, 0, 0, 0.15);\n",
              "      filter: drop-shadow(0px 1px 2px rgba(0, 0, 0, 0.3));\n",
              "      fill: #FFFFFF;\n",
              "    }\n",
              "  </style>\n",
              "\n",
              "    <script>\n",
              "      const buttonEl =\n",
              "        document.querySelector('#df-6b4b239c-260b-466b-9e7a-d60823f0e6ca button.colab-df-convert');\n",
              "      buttonEl.style.display =\n",
              "        google.colab.kernel.accessAllowed ? 'block' : 'none';\n",
              "\n",
              "      async function convertToInteractive(key) {\n",
              "        const element = document.querySelector('#df-6b4b239c-260b-466b-9e7a-d60823f0e6ca');\n",
              "        const dataTable =\n",
              "          await google.colab.kernel.invokeFunction('convertToInteractive',\n",
              "                                                    [key], {});\n",
              "        if (!dataTable) return;\n",
              "\n",
              "        const docLinkHtml = 'Like what you see? Visit the ' +\n",
              "          '<a target=\"_blank\" href=https://colab.research.google.com/notebooks/data_table.ipynb>data table notebook</a>'\n",
              "          + ' to learn more about interactive tables.';\n",
              "        element.innerHTML = '';\n",
              "        dataTable['output_type'] = 'display_data';\n",
              "        await google.colab.output.renderOutput(dataTable, element);\n",
              "        const docLink = document.createElement('div');\n",
              "        docLink.innerHTML = docLinkHtml;\n",
              "        element.appendChild(docLink);\n",
              "      }\n",
              "    </script>\n",
              "  </div>\n",
              "\n",
              "\n",
              "<div id=\"df-a7586d4b-035d-43f0-8329-780c6b1f9181\">\n",
              "  <button class=\"colab-df-quickchart\" onclick=\"quickchart('df-a7586d4b-035d-43f0-8329-780c6b1f9181')\"\n",
              "            title=\"Suggest charts\"\n",
              "            style=\"display:none;\">\n",
              "\n",
              "<svg xmlns=\"http://www.w3.org/2000/svg\" height=\"24px\"viewBox=\"0 0 24 24\"\n",
              "     width=\"24px\">\n",
              "    <g>\n",
              "        <path d=\"M19 3H5c-1.1 0-2 .9-2 2v14c0 1.1.9 2 2 2h14c1.1 0 2-.9 2-2V5c0-1.1-.9-2-2-2zM9 17H7v-7h2v7zm4 0h-2V7h2v10zm4 0h-2v-4h2v4z\"/>\n",
              "    </g>\n",
              "</svg>\n",
              "  </button>\n",
              "\n",
              "<style>\n",
              "  .colab-df-quickchart {\n",
              "      --bg-color: #E8F0FE;\n",
              "      --fill-color: #1967D2;\n",
              "      --hover-bg-color: #E2EBFA;\n",
              "      --hover-fill-color: #174EA6;\n",
              "      --disabled-fill-color: #AAA;\n",
              "      --disabled-bg-color: #DDD;\n",
              "  }\n",
              "\n",
              "  [theme=dark] .colab-df-quickchart {\n",
              "      --bg-color: #3B4455;\n",
              "      --fill-color: #D2E3FC;\n",
              "      --hover-bg-color: #434B5C;\n",
              "      --hover-fill-color: #FFFFFF;\n",
              "      --disabled-bg-color: #3B4455;\n",
              "      --disabled-fill-color: #666;\n",
              "  }\n",
              "\n",
              "  .colab-df-quickchart {\n",
              "    background-color: var(--bg-color);\n",
              "    border: none;\n",
              "    border-radius: 50%;\n",
              "    cursor: pointer;\n",
              "    display: none;\n",
              "    fill: var(--fill-color);\n",
              "    height: 32px;\n",
              "    padding: 0;\n",
              "    width: 32px;\n",
              "  }\n",
              "\n",
              "  .colab-df-quickchart:hover {\n",
              "    background-color: var(--hover-bg-color);\n",
              "    box-shadow: 0 1px 2px rgba(60, 64, 67, 0.3), 0 1px 3px 1px rgba(60, 64, 67, 0.15);\n",
              "    fill: var(--button-hover-fill-color);\n",
              "  }\n",
              "\n",
              "  .colab-df-quickchart-complete:disabled,\n",
              "  .colab-df-quickchart-complete:disabled:hover {\n",
              "    background-color: var(--disabled-bg-color);\n",
              "    fill: var(--disabled-fill-color);\n",
              "    box-shadow: none;\n",
              "  }\n",
              "\n",
              "  .colab-df-spinner {\n",
              "    border: 2px solid var(--fill-color);\n",
              "    border-color: transparent;\n",
              "    border-bottom-color: var(--fill-color);\n",
              "    animation:\n",
              "      spin 1s steps(1) infinite;\n",
              "  }\n",
              "\n",
              "  @keyframes spin {\n",
              "    0% {\n",
              "      border-color: transparent;\n",
              "      border-bottom-color: var(--fill-color);\n",
              "      border-left-color: var(--fill-color);\n",
              "    }\n",
              "    20% {\n",
              "      border-color: transparent;\n",
              "      border-left-color: var(--fill-color);\n",
              "      border-top-color: var(--fill-color);\n",
              "    }\n",
              "    30% {\n",
              "      border-color: transparent;\n",
              "      border-left-color: var(--fill-color);\n",
              "      border-top-color: var(--fill-color);\n",
              "      border-right-color: var(--fill-color);\n",
              "    }\n",
              "    40% {\n",
              "      border-color: transparent;\n",
              "      border-right-color: var(--fill-color);\n",
              "      border-top-color: var(--fill-color);\n",
              "    }\n",
              "    60% {\n",
              "      border-color: transparent;\n",
              "      border-right-color: var(--fill-color);\n",
              "    }\n",
              "    80% {\n",
              "      border-color: transparent;\n",
              "      border-right-color: var(--fill-color);\n",
              "      border-bottom-color: var(--fill-color);\n",
              "    }\n",
              "    90% {\n",
              "      border-color: transparent;\n",
              "      border-bottom-color: var(--fill-color);\n",
              "    }\n",
              "  }\n",
              "</style>\n",
              "\n",
              "  <script>\n",
              "    async function quickchart(key) {\n",
              "      const quickchartButtonEl =\n",
              "        document.querySelector('#' + key + ' button');\n",
              "      quickchartButtonEl.disabled = true;  // To prevent multiple clicks.\n",
              "      quickchartButtonEl.classList.add('colab-df-spinner');\n",
              "      try {\n",
              "        const charts = await google.colab.kernel.invokeFunction(\n",
              "            'suggestCharts', [key], {});\n",
              "      } catch (error) {\n",
              "        console.error('Error during call to suggestCharts:', error);\n",
              "      }\n",
              "      quickchartButtonEl.classList.remove('colab-df-spinner');\n",
              "      quickchartButtonEl.classList.add('colab-df-quickchart-complete');\n",
              "    }\n",
              "    (() => {\n",
              "      let quickchartButtonEl =\n",
              "        document.querySelector('#df-a7586d4b-035d-43f0-8329-780c6b1f9181 button');\n",
              "      quickchartButtonEl.style.display =\n",
              "        google.colab.kernel.accessAllowed ? 'block' : 'none';\n",
              "    })();\n",
              "  </script>\n",
              "</div>\n",
              "\n",
              "  <div id=\"id_0230c4d8-6218-4668-826d-82eb039a21d7\">\n",
              "    <style>\n",
              "      .colab-df-generate {\n",
              "        background-color: #E8F0FE;\n",
              "        border: none;\n",
              "        border-radius: 50%;\n",
              "        cursor: pointer;\n",
              "        display: none;\n",
              "        fill: #1967D2;\n",
              "        height: 32px;\n",
              "        padding: 0 0 0 0;\n",
              "        width: 32px;\n",
              "      }\n",
              "\n",
              "      .colab-df-generate:hover {\n",
              "        background-color: #E2EBFA;\n",
              "        box-shadow: 0px 1px 2px rgba(60, 64, 67, 0.3), 0px 1px 3px 1px rgba(60, 64, 67, 0.15);\n",
              "        fill: #174EA6;\n",
              "      }\n",
              "\n",
              "      [theme=dark] .colab-df-generate {\n",
              "        background-color: #3B4455;\n",
              "        fill: #D2E3FC;\n",
              "      }\n",
              "\n",
              "      [theme=dark] .colab-df-generate:hover {\n",
              "        background-color: #434B5C;\n",
              "        box-shadow: 0px 1px 3px 1px rgba(0, 0, 0, 0.15);\n",
              "        filter: drop-shadow(0px 1px 2px rgba(0, 0, 0, 0.3));\n",
              "        fill: #FFFFFF;\n",
              "      }\n",
              "    </style>\n",
              "    <button class=\"colab-df-generate\" onclick=\"generateWithVariable('df_ventas_reg')\"\n",
              "            title=\"Generate code using this dataframe.\"\n",
              "            style=\"display:none;\">\n",
              "\n",
              "  <svg xmlns=\"http://www.w3.org/2000/svg\" height=\"24px\"viewBox=\"0 0 24 24\"\n",
              "       width=\"24px\">\n",
              "    <path d=\"M7,19H8.4L18.45,9,17,7.55,7,17.6ZM5,21V16.75L18.45,3.32a2,2,0,0,1,2.83,0l1.4,1.43a1.91,1.91,0,0,1,.58,1.4,1.91,1.91,0,0,1-.58,1.4L9.25,21ZM18.45,9,17,7.55Zm-12,3A5.31,5.31,0,0,0,4.9,8.1,5.31,5.31,0,0,0,1,6.5,5.31,5.31,0,0,0,4.9,4.9,5.31,5.31,0,0,0,6.5,1,5.31,5.31,0,0,0,8.1,4.9,5.31,5.31,0,0,0,12,6.5,5.46,5.46,0,0,0,6.5,12Z\"/>\n",
              "  </svg>\n",
              "    </button>\n",
              "    <script>\n",
              "      (() => {\n",
              "      const buttonEl =\n",
              "        document.querySelector('#id_0230c4d8-6218-4668-826d-82eb039a21d7 button.colab-df-generate');\n",
              "      buttonEl.style.display =\n",
              "        google.colab.kernel.accessAllowed ? 'block' : 'none';\n",
              "\n",
              "      buttonEl.onclick = () => {\n",
              "        google.colab.notebook.generateWithVariable('df_ventas_reg');\n",
              "      }\n",
              "      })();\n",
              "    </script>\n",
              "  </div>\n",
              "\n",
              "    </div>\n",
              "  </div>\n"
            ],
            "application/vnd.google.colaboratory.intrinsic+json": {
              "type": "dataframe",
              "variable_name": "df_ventas_reg",
              "summary": "{\n  \"name\": \"df_ventas_reg\",\n  \"rows\": 8940,\n  \"fields\": [\n    {\n      \"column\": \"region\",\n      \"properties\": {\n        \"dtype\": \"category\",\n        \"num_unique_values\": 6,\n        \"samples\": [\n          \"Buenos Aires\",\n          \"Central\",\n          \"Cuyo\"\n        ],\n        \"semantic_type\": \"\",\n        \"description\": \"\"\n      }\n    },\n    {\n      \"column\": \"ventas\",\n      \"properties\": {\n        \"dtype\": \"number\",\n        \"std\": 2048.5272671477223,\n        \"min\": 1.51,\n        \"max\": 59499.85,\n        \"num_unique_values\": 5723,\n        \"samples\": [\n          132.16,\n          356.49,\n          8730.64\n        ],\n        \"semantic_type\": \"\",\n        \"description\": \"\"\n      }\n    },\n    {\n      \"column\": \"a\\u00f1o\",\n      \"properties\": {\n        \"dtype\": \"number\",\n        \"std\": 1,\n        \"min\": 2016,\n        \"max\": 2019,\n        \"num_unique_values\": 4,\n        \"samples\": [\n          2017,\n          2019,\n          2018\n        ],\n        \"semantic_type\": \"\",\n        \"description\": \"\"\n      }\n    }\n  ]\n}"
            }
          },
          "metadata": {},
          "execution_count": 13
        }
      ]
    },
    {
      "cell_type": "code",
      "source": [
        "ventas_reg = pd.crosstab(index=df_ventas_reg.año,\n",
        "                         columns = df_ventas_reg.region,\n",
        "                         values=df_ventas_reg.ventas,aggfunc='sum')\n",
        "ventas_reg = ventas_reg[['Buenos Aires','Litoral','Norte','Central','Cuyo','Patagónica']]\n",
        "ventas_reg"
      ],
      "metadata": {
        "id": "euyPIT1GuVNN",
        "colab": {
          "base_uri": "https://localhost:8080/",
          "height": 206
        },
        "outputId": "fc047894-54b2-4def-b9fa-0e2bd8b52a05"
      },
      "execution_count": null,
      "outputs": [
        {
          "output_type": "execute_result",
          "data": {
            "text/plain": [
              "region  Buenos Aires    Litoral      Norte    Central       Cuyo  Patagónica\n",
              "año                                                                         \n",
              "2016       447482.40  258650.64  251356.27  205928.22  174593.67    64641.13\n",
              "2017       505005.01  289808.32  244946.54  228930.68  109446.32   111042.65\n",
              "2018       654104.73  363684.46  296360.73  303706.58  200999.46    65305.45\n",
              "2019       775187.16  449715.97  436180.40  324369.09  198213.80   121339.87"
            ],
            "text/html": [
              "\n",
              "  <div id=\"df-8330107c-439e-4e83-9cb4-faadd5dfe1f9\" class=\"colab-df-container\">\n",
              "    <div>\n",
              "<style scoped>\n",
              "    .dataframe tbody tr th:only-of-type {\n",
              "        vertical-align: middle;\n",
              "    }\n",
              "\n",
              "    .dataframe tbody tr th {\n",
              "        vertical-align: top;\n",
              "    }\n",
              "\n",
              "    .dataframe thead th {\n",
              "        text-align: right;\n",
              "    }\n",
              "</style>\n",
              "<table border=\"1\" class=\"dataframe\">\n",
              "  <thead>\n",
              "    <tr style=\"text-align: right;\">\n",
              "      <th>region</th>\n",
              "      <th>Buenos Aires</th>\n",
              "      <th>Litoral</th>\n",
              "      <th>Norte</th>\n",
              "      <th>Central</th>\n",
              "      <th>Cuyo</th>\n",
              "      <th>Patagónica</th>\n",
              "    </tr>\n",
              "    <tr>\n",
              "      <th>año</th>\n",
              "      <th></th>\n",
              "      <th></th>\n",
              "      <th></th>\n",
              "      <th></th>\n",
              "      <th></th>\n",
              "      <th></th>\n",
              "    </tr>\n",
              "  </thead>\n",
              "  <tbody>\n",
              "    <tr>\n",
              "      <th>2016</th>\n",
              "      <td>447482.40</td>\n",
              "      <td>258650.64</td>\n",
              "      <td>251356.27</td>\n",
              "      <td>205928.22</td>\n",
              "      <td>174593.67</td>\n",
              "      <td>64641.13</td>\n",
              "    </tr>\n",
              "    <tr>\n",
              "      <th>2017</th>\n",
              "      <td>505005.01</td>\n",
              "      <td>289808.32</td>\n",
              "      <td>244946.54</td>\n",
              "      <td>228930.68</td>\n",
              "      <td>109446.32</td>\n",
              "      <td>111042.65</td>\n",
              "    </tr>\n",
              "    <tr>\n",
              "      <th>2018</th>\n",
              "      <td>654104.73</td>\n",
              "      <td>363684.46</td>\n",
              "      <td>296360.73</td>\n",
              "      <td>303706.58</td>\n",
              "      <td>200999.46</td>\n",
              "      <td>65305.45</td>\n",
              "    </tr>\n",
              "    <tr>\n",
              "      <th>2019</th>\n",
              "      <td>775187.16</td>\n",
              "      <td>449715.97</td>\n",
              "      <td>436180.40</td>\n",
              "      <td>324369.09</td>\n",
              "      <td>198213.80</td>\n",
              "      <td>121339.87</td>\n",
              "    </tr>\n",
              "  </tbody>\n",
              "</table>\n",
              "</div>\n",
              "    <div class=\"colab-df-buttons\">\n",
              "\n",
              "  <div class=\"colab-df-container\">\n",
              "    <button class=\"colab-df-convert\" onclick=\"convertToInteractive('df-8330107c-439e-4e83-9cb4-faadd5dfe1f9')\"\n",
              "            title=\"Convert this dataframe to an interactive table.\"\n",
              "            style=\"display:none;\">\n",
              "\n",
              "  <svg xmlns=\"http://www.w3.org/2000/svg\" height=\"24px\" viewBox=\"0 -960 960 960\">\n",
              "    <path d=\"M120-120v-720h720v720H120Zm60-500h600v-160H180v160Zm220 220h160v-160H400v160Zm0 220h160v-160H400v160ZM180-400h160v-160H180v160Zm440 0h160v-160H620v160ZM180-180h160v-160H180v160Zm440 0h160v-160H620v160Z\"/>\n",
              "  </svg>\n",
              "    </button>\n",
              "\n",
              "  <style>\n",
              "    .colab-df-container {\n",
              "      display:flex;\n",
              "      gap: 12px;\n",
              "    }\n",
              "\n",
              "    .colab-df-convert {\n",
              "      background-color: #E8F0FE;\n",
              "      border: none;\n",
              "      border-radius: 50%;\n",
              "      cursor: pointer;\n",
              "      display: none;\n",
              "      fill: #1967D2;\n",
              "      height: 32px;\n",
              "      padding: 0 0 0 0;\n",
              "      width: 32px;\n",
              "    }\n",
              "\n",
              "    .colab-df-convert:hover {\n",
              "      background-color: #E2EBFA;\n",
              "      box-shadow: 0px 1px 2px rgba(60, 64, 67, 0.3), 0px 1px 3px 1px rgba(60, 64, 67, 0.15);\n",
              "      fill: #174EA6;\n",
              "    }\n",
              "\n",
              "    .colab-df-buttons div {\n",
              "      margin-bottom: 4px;\n",
              "    }\n",
              "\n",
              "    [theme=dark] .colab-df-convert {\n",
              "      background-color: #3B4455;\n",
              "      fill: #D2E3FC;\n",
              "    }\n",
              "\n",
              "    [theme=dark] .colab-df-convert:hover {\n",
              "      background-color: #434B5C;\n",
              "      box-shadow: 0px 1px 3px 1px rgba(0, 0, 0, 0.15);\n",
              "      filter: drop-shadow(0px 1px 2px rgba(0, 0, 0, 0.3));\n",
              "      fill: #FFFFFF;\n",
              "    }\n",
              "  </style>\n",
              "\n",
              "    <script>\n",
              "      const buttonEl =\n",
              "        document.querySelector('#df-8330107c-439e-4e83-9cb4-faadd5dfe1f9 button.colab-df-convert');\n",
              "      buttonEl.style.display =\n",
              "        google.colab.kernel.accessAllowed ? 'block' : 'none';\n",
              "\n",
              "      async function convertToInteractive(key) {\n",
              "        const element = document.querySelector('#df-8330107c-439e-4e83-9cb4-faadd5dfe1f9');\n",
              "        const dataTable =\n",
              "          await google.colab.kernel.invokeFunction('convertToInteractive',\n",
              "                                                    [key], {});\n",
              "        if (!dataTable) return;\n",
              "\n",
              "        const docLinkHtml = 'Like what you see? Visit the ' +\n",
              "          '<a target=\"_blank\" href=https://colab.research.google.com/notebooks/data_table.ipynb>data table notebook</a>'\n",
              "          + ' to learn more about interactive tables.';\n",
              "        element.innerHTML = '';\n",
              "        dataTable['output_type'] = 'display_data';\n",
              "        await google.colab.output.renderOutput(dataTable, element);\n",
              "        const docLink = document.createElement('div');\n",
              "        docLink.innerHTML = docLinkHtml;\n",
              "        element.appendChild(docLink);\n",
              "      }\n",
              "    </script>\n",
              "  </div>\n",
              "\n",
              "\n",
              "<div id=\"df-f9aa0dfb-d31c-440f-81e3-07060f81e623\">\n",
              "  <button class=\"colab-df-quickchart\" onclick=\"quickchart('df-f9aa0dfb-d31c-440f-81e3-07060f81e623')\"\n",
              "            title=\"Suggest charts\"\n",
              "            style=\"display:none;\">\n",
              "\n",
              "<svg xmlns=\"http://www.w3.org/2000/svg\" height=\"24px\"viewBox=\"0 0 24 24\"\n",
              "     width=\"24px\">\n",
              "    <g>\n",
              "        <path d=\"M19 3H5c-1.1 0-2 .9-2 2v14c0 1.1.9 2 2 2h14c1.1 0 2-.9 2-2V5c0-1.1-.9-2-2-2zM9 17H7v-7h2v7zm4 0h-2V7h2v10zm4 0h-2v-4h2v4z\"/>\n",
              "    </g>\n",
              "</svg>\n",
              "  </button>\n",
              "\n",
              "<style>\n",
              "  .colab-df-quickchart {\n",
              "      --bg-color: #E8F0FE;\n",
              "      --fill-color: #1967D2;\n",
              "      --hover-bg-color: #E2EBFA;\n",
              "      --hover-fill-color: #174EA6;\n",
              "      --disabled-fill-color: #AAA;\n",
              "      --disabled-bg-color: #DDD;\n",
              "  }\n",
              "\n",
              "  [theme=dark] .colab-df-quickchart {\n",
              "      --bg-color: #3B4455;\n",
              "      --fill-color: #D2E3FC;\n",
              "      --hover-bg-color: #434B5C;\n",
              "      --hover-fill-color: #FFFFFF;\n",
              "      --disabled-bg-color: #3B4455;\n",
              "      --disabled-fill-color: #666;\n",
              "  }\n",
              "\n",
              "  .colab-df-quickchart {\n",
              "    background-color: var(--bg-color);\n",
              "    border: none;\n",
              "    border-radius: 50%;\n",
              "    cursor: pointer;\n",
              "    display: none;\n",
              "    fill: var(--fill-color);\n",
              "    height: 32px;\n",
              "    padding: 0;\n",
              "    width: 32px;\n",
              "  }\n",
              "\n",
              "  .colab-df-quickchart:hover {\n",
              "    background-color: var(--hover-bg-color);\n",
              "    box-shadow: 0 1px 2px rgba(60, 64, 67, 0.3), 0 1px 3px 1px rgba(60, 64, 67, 0.15);\n",
              "    fill: var(--button-hover-fill-color);\n",
              "  }\n",
              "\n",
              "  .colab-df-quickchart-complete:disabled,\n",
              "  .colab-df-quickchart-complete:disabled:hover {\n",
              "    background-color: var(--disabled-bg-color);\n",
              "    fill: var(--disabled-fill-color);\n",
              "    box-shadow: none;\n",
              "  }\n",
              "\n",
              "  .colab-df-spinner {\n",
              "    border: 2px solid var(--fill-color);\n",
              "    border-color: transparent;\n",
              "    border-bottom-color: var(--fill-color);\n",
              "    animation:\n",
              "      spin 1s steps(1) infinite;\n",
              "  }\n",
              "\n",
              "  @keyframes spin {\n",
              "    0% {\n",
              "      border-color: transparent;\n",
              "      border-bottom-color: var(--fill-color);\n",
              "      border-left-color: var(--fill-color);\n",
              "    }\n",
              "    20% {\n",
              "      border-color: transparent;\n",
              "      border-left-color: var(--fill-color);\n",
              "      border-top-color: var(--fill-color);\n",
              "    }\n",
              "    30% {\n",
              "      border-color: transparent;\n",
              "      border-left-color: var(--fill-color);\n",
              "      border-top-color: var(--fill-color);\n",
              "      border-right-color: var(--fill-color);\n",
              "    }\n",
              "    40% {\n",
              "      border-color: transparent;\n",
              "      border-right-color: var(--fill-color);\n",
              "      border-top-color: var(--fill-color);\n",
              "    }\n",
              "    60% {\n",
              "      border-color: transparent;\n",
              "      border-right-color: var(--fill-color);\n",
              "    }\n",
              "    80% {\n",
              "      border-color: transparent;\n",
              "      border-right-color: var(--fill-color);\n",
              "      border-bottom-color: var(--fill-color);\n",
              "    }\n",
              "    90% {\n",
              "      border-color: transparent;\n",
              "      border-bottom-color: var(--fill-color);\n",
              "    }\n",
              "  }\n",
              "</style>\n",
              "\n",
              "  <script>\n",
              "    async function quickchart(key) {\n",
              "      const quickchartButtonEl =\n",
              "        document.querySelector('#' + key + ' button');\n",
              "      quickchartButtonEl.disabled = true;  // To prevent multiple clicks.\n",
              "      quickchartButtonEl.classList.add('colab-df-spinner');\n",
              "      try {\n",
              "        const charts = await google.colab.kernel.invokeFunction(\n",
              "            'suggestCharts', [key], {});\n",
              "      } catch (error) {\n",
              "        console.error('Error during call to suggestCharts:', error);\n",
              "      }\n",
              "      quickchartButtonEl.classList.remove('colab-df-spinner');\n",
              "      quickchartButtonEl.classList.add('colab-df-quickchart-complete');\n",
              "    }\n",
              "    (() => {\n",
              "      let quickchartButtonEl =\n",
              "        document.querySelector('#df-f9aa0dfb-d31c-440f-81e3-07060f81e623 button');\n",
              "      quickchartButtonEl.style.display =\n",
              "        google.colab.kernel.accessAllowed ? 'block' : 'none';\n",
              "    })();\n",
              "  </script>\n",
              "</div>\n",
              "\n",
              "  <div id=\"id_3361b20e-5ad9-43e9-bb95-fc49bf52d78c\">\n",
              "    <style>\n",
              "      .colab-df-generate {\n",
              "        background-color: #E8F0FE;\n",
              "        border: none;\n",
              "        border-radius: 50%;\n",
              "        cursor: pointer;\n",
              "        display: none;\n",
              "        fill: #1967D2;\n",
              "        height: 32px;\n",
              "        padding: 0 0 0 0;\n",
              "        width: 32px;\n",
              "      }\n",
              "\n",
              "      .colab-df-generate:hover {\n",
              "        background-color: #E2EBFA;\n",
              "        box-shadow: 0px 1px 2px rgba(60, 64, 67, 0.3), 0px 1px 3px 1px rgba(60, 64, 67, 0.15);\n",
              "        fill: #174EA6;\n",
              "      }\n",
              "\n",
              "      [theme=dark] .colab-df-generate {\n",
              "        background-color: #3B4455;\n",
              "        fill: #D2E3FC;\n",
              "      }\n",
              "\n",
              "      [theme=dark] .colab-df-generate:hover {\n",
              "        background-color: #434B5C;\n",
              "        box-shadow: 0px 1px 3px 1px rgba(0, 0, 0, 0.15);\n",
              "        filter: drop-shadow(0px 1px 2px rgba(0, 0, 0, 0.3));\n",
              "        fill: #FFFFFF;\n",
              "      }\n",
              "    </style>\n",
              "    <button class=\"colab-df-generate\" onclick=\"generateWithVariable('ventas_reg')\"\n",
              "            title=\"Generate code using this dataframe.\"\n",
              "            style=\"display:none;\">\n",
              "\n",
              "  <svg xmlns=\"http://www.w3.org/2000/svg\" height=\"24px\"viewBox=\"0 0 24 24\"\n",
              "       width=\"24px\">\n",
              "    <path d=\"M7,19H8.4L18.45,9,17,7.55,7,17.6ZM5,21V16.75L18.45,3.32a2,2,0,0,1,2.83,0l1.4,1.43a1.91,1.91,0,0,1,.58,1.4,1.91,1.91,0,0,1-.58,1.4L9.25,21ZM18.45,9,17,7.55Zm-12,3A5.31,5.31,0,0,0,4.9,8.1,5.31,5.31,0,0,0,1,6.5,5.31,5.31,0,0,0,4.9,4.9,5.31,5.31,0,0,0,6.5,1,5.31,5.31,0,0,0,8.1,4.9,5.31,5.31,0,0,0,12,6.5,5.46,5.46,0,0,0,6.5,12Z\"/>\n",
              "  </svg>\n",
              "    </button>\n",
              "    <script>\n",
              "      (() => {\n",
              "      const buttonEl =\n",
              "        document.querySelector('#id_3361b20e-5ad9-43e9-bb95-fc49bf52d78c button.colab-df-generate');\n",
              "      buttonEl.style.display =\n",
              "        google.colab.kernel.accessAllowed ? 'block' : 'none';\n",
              "\n",
              "      buttonEl.onclick = () => {\n",
              "        google.colab.notebook.generateWithVariable('ventas_reg');\n",
              "      }\n",
              "      })();\n",
              "    </script>\n",
              "  </div>\n",
              "\n",
              "    </div>\n",
              "  </div>\n"
            ],
            "application/vnd.google.colaboratory.intrinsic+json": {
              "type": "dataframe",
              "variable_name": "ventas_reg",
              "summary": "{\n  \"name\": \"ventas_reg\",\n  \"rows\": 4,\n  \"fields\": [\n    {\n      \"column\": \"Buenos Aires\",\n      \"properties\": {\n        \"dtype\": \"number\",\n        \"std\": 148122.1689405698,\n        \"min\": 447482.4,\n        \"max\": 775187.16,\n        \"num_unique_values\": 4,\n        \"samples\": [\n          505005.01,\n          775187.16,\n          447482.4\n        ],\n        \"semantic_type\": \"\",\n        \"description\": \"\"\n      }\n    },\n    {\n      \"column\": \"Litoral\",\n      \"properties\": {\n        \"dtype\": \"number\",\n        \"std\": 85116.79524702411,\n        \"min\": 258650.64,\n        \"max\": 449715.97000000003,\n        \"num_unique_values\": 4,\n        \"samples\": [\n          289808.32,\n          449715.97000000003,\n          258650.64\n        ],\n        \"semantic_type\": \"\",\n        \"description\": \"\"\n      }\n    },\n    {\n      \"column\": \"Norte\",\n      \"properties\": {\n        \"dtype\": \"number\",\n        \"std\": 88970.872270829,\n        \"min\": 244946.54,\n        \"max\": 436180.4,\n        \"num_unique_values\": 4,\n        \"samples\": [\n          244946.54,\n          436180.4,\n          251356.27\n        ],\n        \"semantic_type\": \"\",\n        \"description\": \"\"\n      }\n    },\n    {\n      \"column\": \"Central\",\n      \"properties\": {\n        \"dtype\": \"number\",\n        \"std\": 57187.42954847123,\n        \"min\": 205928.22,\n        \"max\": 324369.09,\n        \"num_unique_values\": 4,\n        \"samples\": [\n          228930.68,\n          324369.09,\n          205928.22\n        ],\n        \"semantic_type\": \"\",\n        \"description\": \"\"\n      }\n    },\n    {\n      \"column\": \"Cuyo\",\n      \"properties\": {\n        \"dtype\": \"number\",\n        \"std\": 42591.818805385126,\n        \"min\": 109446.32,\n        \"max\": 200999.46,\n        \"num_unique_values\": 4,\n        \"samples\": [\n          109446.32,\n          198213.8,\n          174593.67\n        ],\n        \"semantic_type\": \"\",\n        \"description\": \"\"\n      }\n    },\n    {\n      \"column\": \"Patag\\u00f3nica\",\n      \"properties\": {\n        \"dtype\": \"number\",\n        \"std\": 29869.25666587804,\n        \"min\": 64641.130000000005,\n        \"max\": 121339.87,\n        \"num_unique_values\": 4,\n        \"samples\": [\n          111042.65,\n          121339.87,\n          64641.130000000005\n        ],\n        \"semantic_type\": \"\",\n        \"description\": \"\"\n      }\n    }\n  ]\n}"
            }
          },
          "metadata": {},
          "execution_count": 14
        }
      ]
    },
    {
      "cell_type": "code",
      "source": [
        "round((ventas_reg.iloc[3].values[:4].sum()/ventas_reg.iloc[3].values[:6].sum())*100,2)"
      ],
      "metadata": {
        "id": "dxVnSgrDuXDV",
        "colab": {
          "base_uri": "https://localhost:8080/"
        },
        "outputId": "4b3a8932-625f-4c53-dbc5-b72caf8d6c34"
      },
      "execution_count": null,
      "outputs": [
        {
          "output_type": "execute_result",
          "data": {
            "text/plain": [
              "86.14"
            ]
          },
          "metadata": {},
          "execution_count": 15
        }
      ]
    },
    {
      "cell_type": "markdown",
      "metadata": {
        "id": "PRIqzUHoRIlP"
      },
      "source": [
        "#### Generando el gráfico"
      ]
    },
    {
      "cell_type": "code",
      "source": [
        "def grafico_region():\n",
        "  colores=[AZUL1,AZUL2,AZUL3,AZUL4,GRIS3,GRIS4]\n",
        "  ax = ventas_reg.plot(kind='bar',stacked=True,figsize=(15,8),color=colores)\n",
        "  ax.set_title('Ventas de las tiendas por departamento por región\\n2016 - 2019',\n",
        "               loc='left',fontsize=22,color=GRIS1)\n",
        "  ax.set_xlabel('')\n",
        "  ax.set_ylabel('')\n",
        "  ax.set_yticklabels([])\n",
        "  ax.xaxis.set_tick_params(labelsize=14,labelcolor=GRIS2,rotation=0)\n",
        "  ax.set_frame_on(False)\n",
        "\n",
        "  ax.text(3.35,1e6,'86%',fontweight='bold',fontsize=20,color=AZUL1)\n",
        "  ax.text(3.35,5.5e5,\n",
        "          'de las ventas en las tiendas\\n'\n",
        "          'se concentraron en las regiones de\\n'\n",
        "          '$\\\\bf{Buenos}$ $\\\\bf{Aires}$, $\\\\bf{Litoral}$,\\n'\n",
        "          '$\\\\bf{Norte}$ y $\\\\bf{Central}$ durante 2019.',\n",
        "          fontsize=14,\n",
        "          linespacing=1.45,\n",
        "          color=AZUL1)\n",
        "\n",
        "  return ax\n",
        "\n",
        "ax = grafico_region()\n",
        "fig = ax.get_figure()"
      ],
      "metadata": {
        "colab": {
          "base_uri": "https://localhost:8080/",
          "height": 590
        },
        "id": "XnWSTKzFidlY",
        "outputId": "74596863-f89b-4f1f-aff8-ef92fc2cb9bb"
      },
      "execution_count": null,
      "outputs": [
        {
          "output_type": "display_data",
          "data": {
            "text/plain": [
              "<Figure size 1500x800 with 1 Axes>"
            ],
            "image/png": "[encoded data removed]"
          },
          "metadata": {}
        }
      ]
    },
    {
      "cell_type": "markdown",
      "metadata": {
        "id": "CS3Gw19q20ZB"
      },
      "source": [
        "## **2.2 - Etiquetas de barra y leyenda**\n",
        "\n",
        "---\n",
        "\n"
      ]
    },
    {
      "cell_type": "code",
      "source": [
        "ax = grafico_region()\n",
        "\n",
        "ax.legend(bbox_to_anchor=(1,1),title='Regiones',reverse=True,\n",
        "          title_fontsize=13,fontsize=11)\n",
        "\n",
        "for container in ax.containers:\n",
        "  labels = [f'${valor.get_height()/1000:,.0f}k'.replace(',','.') for valor in container]\n",
        "  ax.bar_label(container, label_type='center',labels=labels,size=10,\n",
        "               color=GRIS5, fontweight='bold')\n",
        "\n",
        "ax.axvline(3.3,ymin=0.0,ymax=0.83,color=AZUL1,linewidth=1.2)\n",
        "\n",
        "fig = ax.get_figure()"
      ],
      "metadata": {
        "id": "89t6k7RsuwVd",
        "colab": {
          "base_uri": "https://localhost:8080/",
          "height": 590
        },
        "outputId": "415e2f2d-42cf-4a37-bd7b-8723f0419a64"
      },
      "execution_count": null,
      "outputs": [
        {
          "output_type": "display_data",
          "data": {
            "text/plain": [
              "<Figure size 1500x800 with 1 Axes>"
            ],
            "image/png": "[encoded data removed]"
          },
          "metadata": {}
        }
      ]
    },
    {
      "cell_type": "markdown",
      "metadata": {
        "id": "7ZfnaWSZRIlQ"
      },
      "source": [
        "<font color=green size=4> Conclusiones: </font>\n",
        "\n",
        "---\n",
        "\n",
        "A diferencia de un gráfico de columnas simple, el gráfico de columnas apiladas añade a la comparación entre períodos o categorías la comparación también entre los datos de cada período/categoría. Es como si pusiéramos una \"lupa\" en cada columna y visualizáramos la composición de cada una de ellas según la variable deseada (en nuestro ejemplo, las regiones). Aquí utilizamos el recurso de la leyenda para la división de las regiones y los valores de cada columna para la comparación entre sí.\n",
        "\n",
        "Como sugerencia, podemos probar esta técnica también con otros valores en nuestra base de datos, como por ejemplo, el beneficio anual o la facturación en ventas por provincias de una misma región que prefieras analizar."
      ]
    },
    {
      "cell_type": "markdown",
      "metadata": {
        "id": "eQlK9345-Ywv"
      },
      "source": [
        "## **2.3 - Gráfico de barras apiladas**\n",
        "\n",
        "---\n",
        "\n",
        "\n",
        "\n"
      ]
    },
    {
      "cell_type": "markdown",
      "metadata": {
        "id": "lmtvImYyEVyc"
      },
      "source": [
        "### **Pergunta 4 -** ¿Cuál es el método de envío más utilizado por los clientes de la tienda? ¿Es proporcional para B2B y B2C?"
      ]
    },
    {
      "cell_type": "markdown",
      "metadata": {
        "id": "i7h-azlhEVyi"
      },
      "source": [
        "#### Tratando los datos para generar la visualización"
      ]
    },
    {
      "cell_type": "code",
      "source": [
        "df_envio = ventas.copy()\n",
        "df_envio = df_envio[['modo_envio','segmento_cliente']]\n",
        "\n",
        "df_envio_seg = pd.crosstab(index=df_envio.modo_envio,\n",
        "                           columns=df_envio.segmento_cliente).sort_values('B2B')\n",
        "\n",
        "df_envio_seg"
      ],
      "metadata": {
        "id": "UkJSXzPmuzhN",
        "colab": {
          "base_uri": "https://localhost:8080/",
          "height": 206
        },
        "outputId": "45b45b35-394d-40ad-d762-83fd203d8a0b"
      },
      "execution_count": null,
      "outputs": [
        {
          "output_type": "execute_result",
          "data": {
            "text/plain": [
              "segmento_cliente      B2B   B2C\n",
              "modo_envio                     \n",
              "Entrega en 24 horas   207   288\n",
              "Envío rápido          676   673\n",
              "Económica             829   906\n",
              "Entrega estándar     2552  2809"
            ],
            "text/html": [
              "\n",
              "  <div id=\"df-cda96e22-9984-4862-bd28-b4cbf0c6412f\" class=\"colab-df-container\">\n",
              "    <div>\n",
              "<style scoped>\n",
              "    .dataframe tbody tr th:only-of-type {\n",
              "        vertical-align: middle;\n",
              "    }\n",
              "\n",
              "    .dataframe tbody tr th {\n",
              "        vertical-align: top;\n",
              "    }\n",
              "\n",
              "    .dataframe thead th {\n",
              "        text-align: right;\n",
              "    }\n",
              "</style>\n",
              "<table border=\"1\" class=\"dataframe\">\n",
              "  <thead>\n",
              "    <tr style=\"text-align: right;\">\n",
              "      <th>segmento_cliente</th>\n",
              "      <th>B2B</th>\n",
              "      <th>B2C</th>\n",
              "    </tr>\n",
              "    <tr>\n",
              "      <th>modo_envio</th>\n",
              "      <th></th>\n",
              "      <th></th>\n",
              "    </tr>\n",
              "  </thead>\n",
              "  <tbody>\n",
              "    <tr>\n",
              "      <th>Entrega en 24 horas</th>\n",
              "      <td>207</td>\n",
              "      <td>288</td>\n",
              "    </tr>\n",
              "    <tr>\n",
              "      <th>Envío rápido</th>\n",
              "      <td>676</td>\n",
              "      <td>673</td>\n",
              "    </tr>\n",
              "    <tr>\n",
              "      <th>Económica</th>\n",
              "      <td>829</td>\n",
              "      <td>906</td>\n",
              "    </tr>\n",
              "    <tr>\n",
              "      <th>Entrega estándar</th>\n",
              "      <td>2552</td>\n",
              "      <td>2809</td>\n",
              "    </tr>\n",
              "  </tbody>\n",
              "</table>\n",
              "</div>\n",
              "    <div class=\"colab-df-buttons\">\n",
              "\n",
              "  <div class=\"colab-df-container\">\n",
              "    <button class=\"colab-df-convert\" onclick=\"convertToInteractive('df-cda96e22-9984-4862-bd28-b4cbf0c6412f')\"\n",
              "            title=\"Convert this dataframe to an interactive table.\"\n",
              "            style=\"display:none;\">\n",
              "\n",
              "  <svg xmlns=\"http://www.w3.org/2000/svg\" height=\"24px\" viewBox=\"0 -960 960 960\">\n",
              "    <path d=\"M120-120v-720h720v720H120Zm60-500h600v-160H180v160Zm220 220h160v-160H400v160Zm0 220h160v-160H400v160ZM180-400h160v-160H180v160Zm440 0h160v-160H620v160ZM180-180h160v-160H180v160Zm440 0h160v-160H620v160Z\"/>\n",
              "  </svg>\n",
              "    </button>\n",
              "\n",
              "  <style>\n",
              "    .colab-df-container {\n",
              "      display:flex;\n",
              "      gap: 12px;\n",
              "    }\n",
              "\n",
              "    .colab-df-convert {\n",
              "      background-color: #E8F0FE;\n",
              "      border: none;\n",
              "      border-radius: 50%;\n",
              "      cursor: pointer;\n",
              "      display: none;\n",
              "      fill: #1967D2;\n",
              "      height: 32px;\n",
              "      padding: 0 0 0 0;\n",
              "      width: 32px;\n",
              "    }\n",
              "\n",
              "    .colab-df-convert:hover {\n",
              "      background-color: #E2EBFA;\n",
              "      box-shadow: 0px 1px 2px rgba(60, 64, 67, 0.3), 0px 1px 3px 1px rgba(60, 64, 67, 0.15);\n",
              "      fill: #174EA6;\n",
              "    }\n",
              "\n",
              "    .colab-df-buttons div {\n",
              "      margin-bottom: 4px;\n",
              "    }\n",
              "\n",
              "    [theme=dark] .colab-df-convert {\n",
              "      background-color: #3B4455;\n",
              "      fill: #D2E3FC;\n",
              "    }\n",
              "\n",
              "    [theme=dark] .colab-df-convert:hover {\n",
              "      background-color: #434B5C;\n",
              "      box-shadow: 0px 1px 3px 1px rgba(0, 0, 0, 0.15);\n",
              "      filter: drop-shadow(0px 1px 2px rgba(0, 0, 0, 0.3));\n",
              "      fill: #FFFFFF;\n",
              "    }\n",
              "  </style>\n",
              "\n",
              "    <script>\n",
              "      const buttonEl =\n",
              "        document.querySelector('#df-cda96e22-9984-4862-bd28-b4cbf0c6412f button.colab-df-convert');\n",
              "      buttonEl.style.display =\n",
              "        google.colab.kernel.accessAllowed ? 'block' : 'none';\n",
              "\n",
              "      async function convertToInteractive(key) {\n",
              "        const element = document.querySelector('#df-cda96e22-9984-4862-bd28-b4cbf0c6412f');\n",
              "        const dataTable =\n",
              "          await google.colab.kernel.invokeFunction('convertToInteractive',\n",
              "                                                    [key], {});\n",
              "        if (!dataTable) return;\n",
              "\n",
              "        const docLinkHtml = 'Like what you see? Visit the ' +\n",
              "          '<a target=\"_blank\" href=https://colab.research.google.com/notebooks/data_table.ipynb>data table notebook</a>'\n",
              "          + ' to learn more about interactive tables.';\n",
              "        element.innerHTML = '';\n",
              "        dataTable['output_type'] = 'display_data';\n",
              "        await google.colab.output.renderOutput(dataTable, element);\n",
              "        const docLink = document.createElement('div');\n",
              "        docLink.innerHTML = docLinkHtml;\n",
              "        element.appendChild(docLink);\n",
              "      }\n",
              "    </script>\n",
              "  </div>\n",
              "\n",
              "\n",
              "<div id=\"df-74abc1a5-cddd-41a8-b787-9c6f12a0ebc8\">\n",
              "  <button class=\"colab-df-quickchart\" onclick=\"quickchart('df-74abc1a5-cddd-41a8-b787-9c6f12a0ebc8')\"\n",
              "            title=\"Suggest charts\"\n",
              "            style=\"display:none;\">\n",
              "\n",
              "<svg xmlns=\"http://www.w3.org/2000/svg\" height=\"24px\"viewBox=\"0 0 24 24\"\n",
              "     width=\"24px\">\n",
              "    <g>\n",
              "        <path d=\"M19 3H5c-1.1 0-2 .9-2 2v14c0 1.1.9 2 2 2h14c1.1 0 2-.9 2-2V5c0-1.1-.9-2-2-2zM9 17H7v-7h2v7zm4 0h-2V7h2v10zm4 0h-2v-4h2v4z\"/>\n",
              "    </g>\n",
              "</svg>\n",
              "  </button>\n",
              "\n",
              "<style>\n",
              "  .colab-df-quickchart {\n",
              "      --bg-color: #E8F0FE;\n",
              "      --fill-color: #1967D2;\n",
              "      --hover-bg-color: #E2EBFA;\n",
              "      --hover-fill-color: #174EA6;\n",
              "      --disabled-fill-color: #AAA;\n",
              "      --disabled-bg-color: #DDD;\n",
              "  }\n",
              "\n",
              "  [theme=dark] .colab-df-quickchart {\n",
              "      --bg-color: #3B4455;\n",
              "      --fill-color: #D2E3FC;\n",
              "      --hover-bg-color: #434B5C;\n",
              "      --hover-fill-color: #FFFFFF;\n",
              "      --disabled-bg-color: #3B4455;\n",
              "      --disabled-fill-color: #666;\n",
              "  }\n",
              "\n",
              "  .colab-df-quickchart {\n",
              "    background-color: var(--bg-color);\n",
              "    border: none;\n",
              "    border-radius: 50%;\n",
              "    cursor: pointer;\n",
              "    display: none;\n",
              "    fill: var(--fill-color);\n",
              "    height: 32px;\n",
              "    padding: 0;\n",
              "    width: 32px;\n",
              "  }\n",
              "\n",
              "  .colab-df-quickchart:hover {\n",
              "    background-color: var(--hover-bg-color);\n",
              "    box-shadow: 0 1px 2px rgba(60, 64, 67, 0.3), 0 1px 3px 1px rgba(60, 64, 67, 0.15);\n",
              "    fill: var(--button-hover-fill-color);\n",
              "  }\n",
              "\n",
              "  .colab-df-quickchart-complete:disabled,\n",
              "  .colab-df-quickchart-complete:disabled:hover {\n",
              "    background-color: var(--disabled-bg-color);\n",
              "    fill: var(--disabled-fill-color);\n",
              "    box-shadow: none;\n",
              "  }\n",
              "\n",
              "  .colab-df-spinner {\n",
              "    border: 2px solid var(--fill-color);\n",
              "    border-color: transparent;\n",
              "    border-bottom-color: var(--fill-color);\n",
              "    animation:\n",
              "      spin 1s steps(1) infinite;\n",
              "  }\n",
              "\n",
              "  @keyframes spin {\n",
              "    0% {\n",
              "      border-color: transparent;\n",
              "      border-bottom-color: var(--fill-color);\n",
              "      border-left-color: var(--fill-color);\n",
              "    }\n",
              "    20% {\n",
              "      border-color: transparent;\n",
              "      border-left-color: var(--fill-color);\n",
              "      border-top-color: var(--fill-color);\n",
              "    }\n",
              "    30% {\n",
              "      border-color: transparent;\n",
              "      border-left-color: var(--fill-color);\n",
              "      border-top-color: var(--fill-color);\n",
              "      border-right-color: var(--fill-color);\n",
              "    }\n",
              "    40% {\n",
              "      border-color: transparent;\n",
              "      border-right-color: var(--fill-color);\n",
              "      border-top-color: var(--fill-color);\n",
              "    }\n",
              "    60% {\n",
              "      border-color: transparent;\n",
              "      border-right-color: var(--fill-color);\n",
              "    }\n",
              "    80% {\n",
              "      border-color: transparent;\n",
              "      border-right-color: var(--fill-color);\n",
              "      border-bottom-color: var(--fill-color);\n",
              "    }\n",
              "    90% {\n",
              "      border-color: transparent;\n",
              "      border-bottom-color: var(--fill-color);\n",
              "    }\n",
              "  }\n",
              "</style>\n",
              "\n",
              "  <script>\n",
              "    async function quickchart(key) {\n",
              "      const quickchartButtonEl =\n",
              "        document.querySelector('#' + key + ' button');\n",
              "      quickchartButtonEl.disabled = true;  // To prevent multiple clicks.\n",
              "      quickchartButtonEl.classList.add('colab-df-spinner');\n",
              "      try {\n",
              "        const charts = await google.colab.kernel.invokeFunction(\n",
              "            'suggestCharts', [key], {});\n",
              "      } catch (error) {\n",
              "        console.error('Error during call to suggestCharts:', error);\n",
              "      }\n",
              "      quickchartButtonEl.classList.remove('colab-df-spinner');\n",
              "      quickchartButtonEl.classList.add('colab-df-quickchart-complete');\n",
              "    }\n",
              "    (() => {\n",
              "      let quickchartButtonEl =\n",
              "        document.querySelector('#df-74abc1a5-cddd-41a8-b787-9c6f12a0ebc8 button');\n",
              "      quickchartButtonEl.style.display =\n",
              "        google.colab.kernel.accessAllowed ? 'block' : 'none';\n",
              "    })();\n",
              "  </script>\n",
              "</div>\n",
              "\n",
              "  <div id=\"id_dfbd995d-b912-469a-be1f-6c76ac7ff4ee\">\n",
              "    <style>\n",
              "      .colab-df-generate {\n",
              "        background-color: #E8F0FE;\n",
              "        border: none;\n",
              "        border-radius: 50%;\n",
              "        cursor: pointer;\n",
              "        display: none;\n",
              "        fill: #1967D2;\n",
              "        height: 32px;\n",
              "        padding: 0 0 0 0;\n",
              "        width: 32px;\n",
              "      }\n",
              "\n",
              "      .colab-df-generate:hover {\n",
              "        background-color: #E2EBFA;\n",
              "        box-shadow: 0px 1px 2px rgba(60, 64, 67, 0.3), 0px 1px 3px 1px rgba(60, 64, 67, 0.15);\n",
              "        fill: #174EA6;\n",
              "      }\n",
              "\n",
              "      [theme=dark] .colab-df-generate {\n",
              "        background-color: #3B4455;\n",
              "        fill: #D2E3FC;\n",
              "      }\n",
              "\n",
              "      [theme=dark] .colab-df-generate:hover {\n",
              "        background-color: #434B5C;\n",
              "        box-shadow: 0px 1px 3px 1px rgba(0, 0, 0, 0.15);\n",
              "        filter: drop-shadow(0px 1px 2px rgba(0, 0, 0, 0.3));\n",
              "        fill: #FFFFFF;\n",
              "      }\n",
              "    </style>\n",
              "    <button class=\"colab-df-generate\" onclick=\"generateWithVariable('df_envio_seg')\"\n",
              "            title=\"Generate code using this dataframe.\"\n",
              "            style=\"display:none;\">\n",
              "\n",
              "  <svg xmlns=\"http://www.w3.org/2000/svg\" height=\"24px\"viewBox=\"0 0 24 24\"\n",
              "       width=\"24px\">\n",
              "    <path d=\"M7,19H8.4L18.45,9,17,7.55,7,17.6ZM5,21V16.75L18.45,3.32a2,2,0,0,1,2.83,0l1.4,1.43a1.91,1.91,0,0,1,.58,1.4,1.91,1.91,0,0,1-.58,1.4L9.25,21ZM18.45,9,17,7.55Zm-12,3A5.31,5.31,0,0,0,4.9,8.1,5.31,5.31,0,0,0,1,6.5,5.31,5.31,0,0,0,4.9,4.9,5.31,5.31,0,0,0,6.5,1,5.31,5.31,0,0,0,8.1,4.9,5.31,5.31,0,0,0,12,6.5,5.46,5.46,0,0,0,6.5,12Z\"/>\n",
              "  </svg>\n",
              "    </button>\n",
              "    <script>\n",
              "      (() => {\n",
              "      const buttonEl =\n",
              "        document.querySelector('#id_dfbd995d-b912-469a-be1f-6c76ac7ff4ee button.colab-df-generate');\n",
              "      buttonEl.style.display =\n",
              "        google.colab.kernel.accessAllowed ? 'block' : 'none';\n",
              "\n",
              "      buttonEl.onclick = () => {\n",
              "        google.colab.notebook.generateWithVariable('df_envio_seg');\n",
              "      }\n",
              "      })();\n",
              "    </script>\n",
              "  </div>\n",
              "\n",
              "    </div>\n",
              "  </div>\n"
            ],
            "application/vnd.google.colaboratory.intrinsic+json": {
              "type": "dataframe",
              "variable_name": "df_envio_seg",
              "summary": "{\n  \"name\": \"df_envio_seg\",\n  \"rows\": 4,\n  \"fields\": [\n    {\n      \"column\": \"B2B\",\n      \"properties\": {\n        \"dtype\": \"number\",\n        \"std\": 1025,\n        \"min\": 207,\n        \"max\": 2552,\n        \"num_unique_values\": 4,\n        \"samples\": [\n          676,\n          2552,\n          207\n        ],\n        \"semantic_type\": \"\",\n        \"description\": \"\"\n      }\n    },\n    {\n      \"column\": \"B2C\",\n      \"properties\": {\n        \"dtype\": \"number\",\n        \"std\": 1122,\n        \"min\": 288,\n        \"max\": 2809,\n        \"num_unique_values\": 4,\n        \"samples\": [\n          673,\n          2809,\n          288\n        ],\n        \"semantic_type\": \"\",\n        \"description\": \"\"\n      }\n    }\n  ]\n}"
            }
          },
          "metadata": {},
          "execution_count": 18
        }
      ]
    },
    {
      "cell_type": "code",
      "source": [
        "df_envio_normalizado = pd.crosstab(index=df_envio.modo_envio,\n",
        "                                   columns=df_envio.segmento_cliente,\n",
        "                                   normalize='index')\n",
        "df_envio_normalizado"
      ],
      "metadata": {
        "id": "QsCD3HCMu09F",
        "colab": {
          "base_uri": "https://localhost:8080/",
          "height": 206
        },
        "outputId": "79fcab7b-47b2-4ef0-8acc-73198909e821"
      },
      "execution_count": null,
      "outputs": [
        {
          "output_type": "execute_result",
          "data": {
            "text/plain": [
              "segmento_cliente          B2B       B2C\n",
              "modo_envio                             \n",
              "Económica            0.477810  0.522190\n",
              "Entrega en 24 horas  0.418182  0.581818\n",
              "Entrega estándar     0.476031  0.523969\n",
              "Envío rápido         0.501112  0.498888"
            ],
            "text/html": [
              "\n",
              "  <div id=\"df-fa57f40e-1184-46a1-b867-1dd35649fdda\" class=\"colab-df-container\">\n",
              "    <div>\n",
              "<style scoped>\n",
              "    .dataframe tbody tr th:only-of-type {\n",
              "        vertical-align: middle;\n",
              "    }\n",
              "\n",
              "    .dataframe tbody tr th {\n",
              "        vertical-align: top;\n",
              "    }\n",
              "\n",
              "    .dataframe thead th {\n",
              "        text-align: right;\n",
              "    }\n",
              "</style>\n",
              "<table border=\"1\" class=\"dataframe\">\n",
              "  <thead>\n",
              "    <tr style=\"text-align: right;\">\n",
              "      <th>segmento_cliente</th>\n",
              "      <th>B2B</th>\n",
              "      <th>B2C</th>\n",
              "    </tr>\n",
              "    <tr>\n",
              "      <th>modo_envio</th>\n",
              "      <th></th>\n",
              "      <th></th>\n",
              "    </tr>\n",
              "  </thead>\n",
              "  <tbody>\n",
              "    <tr>\n",
              "      <th>Económica</th>\n",
              "      <td>0.477810</td>\n",
              "      <td>0.522190</td>\n",
              "    </tr>\n",
              "    <tr>\n",
              "      <th>Entrega en 24 horas</th>\n",
              "      <td>0.418182</td>\n",
              "      <td>0.581818</td>\n",
              "    </tr>\n",
              "    <tr>\n",
              "      <th>Entrega estándar</th>\n",
              "      <td>0.476031</td>\n",
              "      <td>0.523969</td>\n",
              "    </tr>\n",
              "    <tr>\n",
              "      <th>Envío rápido</th>\n",
              "      <td>0.501112</td>\n",
              "      <td>0.498888</td>\n",
              "    </tr>\n",
              "  </tbody>\n",
              "</table>\n",
              "</div>\n",
              "    <div class=\"colab-df-buttons\">\n",
              "\n",
              "  <div class=\"colab-df-container\">\n",
              "    <button class=\"colab-df-convert\" onclick=\"convertToInteractive('df-fa57f40e-1184-46a1-b867-1dd35649fdda')\"\n",
              "            title=\"Convert this dataframe to an interactive table.\"\n",
              "            style=\"display:none;\">\n",
              "\n",
              "  <svg xmlns=\"http://www.w3.org/2000/svg\" height=\"24px\" viewBox=\"0 -960 960 960\">\n",
              "    <path d=\"M120-120v-720h720v720H120Zm60-500h600v-160H180v160Zm220 220h160v-160H400v160Zm0 220h160v-160H400v160ZM180-400h160v-160H180v160Zm440 0h160v-160H620v160ZM180-180h160v-160H180v160Zm440 0h160v-160H620v160Z\"/>\n",
              "  </svg>\n",
              "    </button>\n",
              "\n",
              "  <style>\n",
              "    .colab-df-container {\n",
              "      display:flex;\n",
              "      gap: 12px;\n",
              "    }\n",
              "\n",
              "    .colab-df-convert {\n",
              "      background-color: #E8F0FE;\n",
              "      border: none;\n",
              "      border-radius: 50%;\n",
              "      cursor: pointer;\n",
              "      display: none;\n",
              "      fill: #1967D2;\n",
              "      height: 32px;\n",
              "      padding: 0 0 0 0;\n",
              "      width: 32px;\n",
              "    }\n",
              "\n",
              "    .colab-df-convert:hover {\n",
              "      background-color: #E2EBFA;\n",
              "      box-shadow: 0px 1px 2px rgba(60, 64, 67, 0.3), 0px 1px 3px 1px rgba(60, 64, 67, 0.15);\n",
              "      fill: #174EA6;\n",
              "    }\n",
              "\n",
              "    .colab-df-buttons div {\n",
              "      margin-bottom: 4px;\n",
              "    }\n",
              "\n",
              "    [theme=dark] .colab-df-convert {\n",
              "      background-color: #3B4455;\n",
              "      fill: #D2E3FC;\n",
              "    }\n",
              "\n",
              "    [theme=dark] .colab-df-convert:hover {\n",
              "      background-color: #434B5C;\n",
              "      box-shadow: 0px 1px 3px 1px rgba(0, 0, 0, 0.15);\n",
              "      filter: drop-shadow(0px 1px 2px rgba(0, 0, 0, 0.3));\n",
              "      fill: #FFFFFF;\n",
              "    }\n",
              "  </style>\n",
              "\n",
              "    <script>\n",
              "      const buttonEl =\n",
              "        document.querySelector('#df-fa57f40e-1184-46a1-b867-1dd35649fdda button.colab-df-convert');\n",
              "      buttonEl.style.display =\n",
              "        google.colab.kernel.accessAllowed ? 'block' : 'none';\n",
              "\n",
              "      async function convertToInteractive(key) {\n",
              "        const element = document.querySelector('#df-fa57f40e-1184-46a1-b867-1dd35649fdda');\n",
              "        const dataTable =\n",
              "          await google.colab.kernel.invokeFunction('convertToInteractive',\n",
              "                                                    [key], {});\n",
              "        if (!dataTable) return;\n",
              "\n",
              "        const docLinkHtml = 'Like what you see? Visit the ' +\n",
              "          '<a target=\"_blank\" href=https://colab.research.google.com/notebooks/data_table.ipynb>data table notebook</a>'\n",
              "          + ' to learn more about interactive tables.';\n",
              "        element.innerHTML = '';\n",
              "        dataTable['output_type'] = 'display_data';\n",
              "        await google.colab.output.renderOutput(dataTable, element);\n",
              "        const docLink = document.createElement('div');\n",
              "        docLink.innerHTML = docLinkHtml;\n",
              "        element.appendChild(docLink);\n",
              "      }\n",
              "    </script>\n",
              "  </div>\n",
              "\n",
              "\n",
              "<div id=\"df-26a72d6f-0340-4899-afd8-c90e17098c30\">\n",
              "  <button class=\"colab-df-quickchart\" onclick=\"quickchart('df-26a72d6f-0340-4899-afd8-c90e17098c30')\"\n",
              "            title=\"Suggest charts\"\n",
              "            style=\"display:none;\">\n",
              "\n",
              "<svg xmlns=\"http://www.w3.org/2000/svg\" height=\"24px\"viewBox=\"0 0 24 24\"\n",
              "     width=\"24px\">\n",
              "    <g>\n",
              "        <path d=\"M19 3H5c-1.1 0-2 .9-2 2v14c0 1.1.9 2 2 2h14c1.1 0 2-.9 2-2V5c0-1.1-.9-2-2-2zM9 17H7v-7h2v7zm4 0h-2V7h2v10zm4 0h-2v-4h2v4z\"/>\n",
              "    </g>\n",
              "</svg>\n",
              "  </button>\n",
              "\n",
              "<style>\n",
              "  .colab-df-quickchart {\n",
              "      --bg-color: #E8F0FE;\n",
              "      --fill-color: #1967D2;\n",
              "      --hover-bg-color: #E2EBFA;\n",
              "      --hover-fill-color: #174EA6;\n",
              "      --disabled-fill-color: #AAA;\n",
              "      --disabled-bg-color: #DDD;\n",
              "  }\n",
              "\n",
              "  [theme=dark] .colab-df-quickchart {\n",
              "      --bg-color: #3B4455;\n",
              "      --fill-color: #D2E3FC;\n",
              "      --hover-bg-color: #434B5C;\n",
              "      --hover-fill-color: #FFFFFF;\n",
              "      --disabled-bg-color: #3B4455;\n",
              "      --disabled-fill-color: #666;\n",
              "  }\n",
              "\n",
              "  .colab-df-quickchart {\n",
              "    background-color: var(--bg-color);\n",
              "    border: none;\n",
              "    border-radius: 50%;\n",
              "    cursor: pointer;\n",
              "    display: none;\n",
              "    fill: var(--fill-color);\n",
              "    height: 32px;\n",
              "    padding: 0;\n",
              "    width: 32px;\n",
              "  }\n",
              "\n",
              "  .colab-df-quickchart:hover {\n",
              "    background-color: var(--hover-bg-color);\n",
              "    box-shadow: 0 1px 2px rgba(60, 64, 67, 0.3), 0 1px 3px 1px rgba(60, 64, 67, 0.15);\n",
              "    fill: var(--button-hover-fill-color);\n",
              "  }\n",
              "\n",
              "  .colab-df-quickchart-complete:disabled,\n",
              "  .colab-df-quickchart-complete:disabled:hover {\n",
              "    background-color: var(--disabled-bg-color);\n",
              "    fill: var(--disabled-fill-color);\n",
              "    box-shadow: none;\n",
              "  }\n",
              "\n",
              "  .colab-df-spinner {\n",
              "    border: 2px solid var(--fill-color);\n",
              "    border-color: transparent;\n",
              "    border-bottom-color: var(--fill-color);\n",
              "    animation:\n",
              "      spin 1s steps(1) infinite;\n",
              "  }\n",
              "\n",
              "  @keyframes spin {\n",
              "    0% {\n",
              "      border-color: transparent;\n",
              "      border-bottom-color: var(--fill-color);\n",
              "      border-left-color: var(--fill-color);\n",
              "    }\n",
              "    20% {\n",
              "      border-color: transparent;\n",
              "      border-left-color: var(--fill-color);\n",
              "      border-top-color: var(--fill-color);\n",
              "    }\n",
              "    30% {\n",
              "      border-color: transparent;\n",
              "      border-left-color: var(--fill-color);\n",
              "      border-top-color: var(--fill-color);\n",
              "      border-right-color: var(--fill-color);\n",
              "    }\n",
              "    40% {\n",
              "      border-color: transparent;\n",
              "      border-right-color: var(--fill-color);\n",
              "      border-top-color: var(--fill-color);\n",
              "    }\n",
              "    60% {\n",
              "      border-color: transparent;\n",
              "      border-right-color: var(--fill-color);\n",
              "    }\n",
              "    80% {\n",
              "      border-color: transparent;\n",
              "      border-right-color: var(--fill-color);\n",
              "      border-bottom-color: var(--fill-color);\n",
              "    }\n",
              "    90% {\n",
              "      border-color: transparent;\n",
              "      border-bottom-color: var(--fill-color);\n",
              "    }\n",
              "  }\n",
              "</style>\n",
              "\n",
              "  <script>\n",
              "    async function quickchart(key) {\n",
              "      const quickchartButtonEl =\n",
              "        document.querySelector('#' + key + ' button');\n",
              "      quickchartButtonEl.disabled = true;  // To prevent multiple clicks.\n",
              "      quickchartButtonEl.classList.add('colab-df-spinner');\n",
              "      try {\n",
              "        const charts = await google.colab.kernel.invokeFunction(\n",
              "            'suggestCharts', [key], {});\n",
              "      } catch (error) {\n",
              "        console.error('Error during call to suggestCharts:', error);\n",
              "      }\n",
              "      quickchartButtonEl.classList.remove('colab-df-spinner');\n",
              "      quickchartButtonEl.classList.add('colab-df-quickchart-complete');\n",
              "    }\n",
              "    (() => {\n",
              "      let quickchartButtonEl =\n",
              "        document.querySelector('#df-26a72d6f-0340-4899-afd8-c90e17098c30 button');\n",
              "      quickchartButtonEl.style.display =\n",
              "        google.colab.kernel.accessAllowed ? 'block' : 'none';\n",
              "    })();\n",
              "  </script>\n",
              "</div>\n",
              "\n",
              "  <div id=\"id_28f5de46-f59c-443d-a496-15e2c98e25df\">\n",
              "    <style>\n",
              "      .colab-df-generate {\n",
              "        background-color: #E8F0FE;\n",
              "        border: none;\n",
              "        border-radius: 50%;\n",
              "        cursor: pointer;\n",
              "        display: none;\n",
              "        fill: #1967D2;\n",
              "        height: 32px;\n",
              "        padding: 0 0 0 0;\n",
              "        width: 32px;\n",
              "      }\n",
              "\n",
              "      .colab-df-generate:hover {\n",
              "        background-color: #E2EBFA;\n",
              "        box-shadow: 0px 1px 2px rgba(60, 64, 67, 0.3), 0px 1px 3px 1px rgba(60, 64, 67, 0.15);\n",
              "        fill: #174EA6;\n",
              "      }\n",
              "\n",
              "      [theme=dark] .colab-df-generate {\n",
              "        background-color: #3B4455;\n",
              "        fill: #D2E3FC;\n",
              "      }\n",
              "\n",
              "      [theme=dark] .colab-df-generate:hover {\n",
              "        background-color: #434B5C;\n",
              "        box-shadow: 0px 1px 3px 1px rgba(0, 0, 0, 0.15);\n",
              "        filter: drop-shadow(0px 1px 2px rgba(0, 0, 0, 0.3));\n",
              "        fill: #FFFFFF;\n",
              "      }\n",
              "    </style>\n",
              "    <button class=\"colab-df-generate\" onclick=\"generateWithVariable('df_envio_normalizado')\"\n",
              "            title=\"Generate code using this dataframe.\"\n",
              "            style=\"display:none;\">\n",
              "\n",
              "  <svg xmlns=\"http://www.w3.org/2000/svg\" height=\"24px\"viewBox=\"0 0 24 24\"\n",
              "       width=\"24px\">\n",
              "    <path d=\"M7,19H8.4L18.45,9,17,7.55,7,17.6ZM5,21V16.75L18.45,3.32a2,2,0,0,1,2.83,0l1.4,1.43a1.91,1.91,0,0,1,.58,1.4,1.91,1.91,0,0,1-.58,1.4L9.25,21ZM18.45,9,17,7.55Zm-12,3A5.31,5.31,0,0,0,4.9,8.1,5.31,5.31,0,0,0,1,6.5,5.31,5.31,0,0,0,4.9,4.9,5.31,5.31,0,0,0,6.5,1,5.31,5.31,0,0,0,8.1,4.9,5.31,5.31,0,0,0,12,6.5,5.46,5.46,0,0,0,6.5,12Z\"/>\n",
              "  </svg>\n",
              "    </button>\n",
              "    <script>\n",
              "      (() => {\n",
              "      const buttonEl =\n",
              "        document.querySelector('#id_28f5de46-f59c-443d-a496-15e2c98e25df button.colab-df-generate');\n",
              "      buttonEl.style.display =\n",
              "        google.colab.kernel.accessAllowed ? 'block' : 'none';\n",
              "\n",
              "      buttonEl.onclick = () => {\n",
              "        google.colab.notebook.generateWithVariable('df_envio_normalizado');\n",
              "      }\n",
              "      })();\n",
              "    </script>\n",
              "  </div>\n",
              "\n",
              "    </div>\n",
              "  </div>\n"
            ],
            "application/vnd.google.colaboratory.intrinsic+json": {
              "type": "dataframe",
              "variable_name": "df_envio_normalizado",
              "summary": "{\n  \"name\": \"df_envio_normalizado\",\n  \"rows\": 4,\n  \"fields\": [\n    {\n      \"column\": \"B2B\",\n      \"properties\": {\n        \"dtype\": \"number\",\n        \"std\": 0.03530180558506595,\n        \"min\": 0.41818181818181815,\n        \"max\": 0.5011119347664937,\n        \"num_unique_values\": 4,\n        \"samples\": [\n          0.41818181818181815,\n          0.5011119347664937,\n          0.47780979827089337\n        ],\n        \"semantic_type\": \"\",\n        \"description\": \"\"\n      }\n    },\n    {\n      \"column\": \"B2C\",\n      \"properties\": {\n        \"dtype\": \"number\",\n        \"std\": 0.03530180558506591,\n        \"min\": 0.4988880652335063,\n        \"max\": 0.5818181818181818,\n        \"num_unique_values\": 4,\n        \"samples\": [\n          0.5818181818181818,\n          0.4988880652335063,\n          0.5221902017291066\n        ],\n        \"semantic_type\": \"\",\n        \"description\": \"\"\n      }\n    }\n  ]\n}"
            }
          },
          "metadata": {},
          "execution_count": 19
        }
      ]
    },
    {
      "cell_type": "markdown",
      "metadata": {
        "id": "nL4W3JaWEVyi"
      },
      "source": [
        "#### Generando el gráfico"
      ]
    },
    {
      "cell_type": "code",
      "source": [
        "colores=[AZUL2,AZUL5]\n",
        "fig,ax = plt.subplots(1,2,figsize=(15,6),sharey=True)\n",
        "\n",
        "# Barras apiladas\n",
        "ax[0].barh(df_envio_seg.index,df_envio_seg['B2B'],color=colores[0])\n",
        "ax[0].barh(df_envio_seg.index,df_envio_seg['B2C'],left=df_envio_seg['B2B'],\n",
        "           color=colores[1])\n",
        "ax[0].set_title('En valores absolutos\\n',color=GRIS2)\n",
        "ax[0].set_xlabel('')\n",
        "ax[0].set_ylabel('')\n",
        "ax[0].set_xticklabels([])\n",
        "ax[0].yaxis.set_tick_params(labelsize=14,color=GRIS2)\n",
        "ax[0].set_frame_on(False)\n",
        "\n",
        "#Remover todos los ticks en x y y\n",
        "ax[0].tick_params(axis='both',which='both',length=0)\n",
        "\n",
        "texto_destacado(0,3.5,'$\\\\bf{B2B}$ | || $\\\\bf{B2C}$', colores=[colores],\n",
        "                ax=ax[0], fontsize=12)\n",
        "\n",
        "# Barras 100% apiladas\n",
        "ax[1].barh(df_envio_normalizado.index,df_envio_normalizado['B2B'],color=colores[0])\n",
        "ax[1].barh(df_envio_normalizado.index,df_envio_normalizado['B2C'],left=df_envio_normalizado['B2B'],\n",
        "           color=colores[1])\n",
        "ax[1].set_title('En valores porcentuales\\n',color=GRIS2)\n",
        "ax[1].set_xlabel('100%',color=GRIS2,size=14,loc='right')\n",
        "ax[1].set_ylabel('')\n",
        "ax[1].set_xticklabels([])\n",
        "ax[1].set_frame_on(False)\n",
        "\n",
        "#Remover todos los ticks en x y y\n",
        "ax[1].tick_params(axis='both',which='both',length=0)\n",
        "\n",
        "texto_destacado(0,3.5,'$\\\\bf{B2B}$ | || $\\\\bf{B2C}$', colores=[colores],\n",
        "                ax=ax[1], fontsize=12)\n",
        "\n",
        "#Añadiendo título a nuestro gráfico\n",
        "fig.suptitle('Métodos de envío más utilizados por los clientes B2B/B2C (2016-2019)\\n',\n",
        "             fontsize=18,color=GRIS1,ha='right',x=0.55,y=1.05)\n",
        "\n",
        "for container in ax[0].containers:\n",
        "  labels = [str(valor.get_width()) if valor.get_width()>300 else '' for valor in container]\n",
        "  ax[0].bar_label(container,label_type='center',labels=labels,size=12,\n",
        "                  color=GRIS5, fontweight='bold')\n",
        "\n",
        "for container in ax[1].containers:\n",
        "  labels = [f'{valor.get_width()*100:.1f}%' for valor in container]\n",
        "  ax[1].bar_label(container,label_type='center',labels=labels,size=12,\n",
        "                  color=GRIS5, fontweight='bold')\n",
        "\n",
        "fig.show()"
      ],
      "metadata": {
        "id": "5nvk8lU4u28F",
        "colab": {
          "base_uri": "https://localhost:8080/",
          "height": 511
        },
        "outputId": "71fc3071-d43d-4b70-dd9a-4f6f47dfbe36"
      },
      "execution_count": null,
      "outputs": [
        {
          "output_type": "display_data",
          "data": {
            "text/plain": [
              "<Figure size 1500x600 with 2 Axes>"
            ],
            "image/png": "[encoded data removed]"
          },
          "metadata": {}
        }
      ]
    },
    {
      "cell_type": "markdown",
      "metadata": {
        "id": "e6iExl0rEVyj"
      },
      "source": [
        "<font color=green size=4> Conclusiones: </font>\n",
        "\n",
        "---\n",
        "El gráfico de barras apiladas es similar al gráfico de columnas en su aplicación. En este ejemplo, presentamos dos tipos de gráficos de barras apiladas: el primero se enfoca en las diferencias absolutas (entre barras) y relativas (en la misma barra) de los datos, mientras que el segundo se enfoca únicamente en las diferencias relativas entre los datos.\n",
        "\n",
        "Como sugerencia, podemos probar esta técnica verificando el comportamiento en cada año o con otros valores en nuestra base de datos, como por ejemplo, entre los tipos de producto y los modos de entrega."
      ]
    },
    {
      "cell_type": "markdown",
      "metadata": {
        "id": "5NvxSVNjAmb2"
      },
      "source": [
        "# **Clase 3 - Series temporales**"
      ]
    },
    {
      "cell_type": "markdown",
      "metadata": {
        "id": "ROb8IYUGTeDJ"
      },
      "source": [
        "<img src=\"https://github.com/ahcamachod/visualizacion-de-datos-graficos-de-comparacion-y-distribucion/blob/main/lineas.png?raw=true\" alt=\"inserir alt\" height=\"343\">\n",
        "\n",
        "<font size=2>Fuente: Andrew Abela (Extreme Presentation/Biuwer)</font>\n"
      ]
    },
    {
      "cell_type": "markdown",
      "metadata": {
        "id": "1r_0T0wg6ByW"
      },
      "source": [
        "## **3.1 Gráfico de línea sencillo**\n",
        "\n",
        "---\n",
        "\n"
      ]
    },
    {
      "cell_type": "markdown",
      "metadata": {
        "id": "pKE9RgAlzeoR"
      },
      "source": [
        "### **Pregunta 5 -** ¿Cuál es el total de ventas por trimestre en la provincia de Buenos Aires?"
      ]
    },
    {
      "cell_type": "markdown",
      "metadata": {
        "id": "h7eQ1KAFzeon"
      },
      "source": [
        "#### Tratando los datos para generar la visualización"
      ]
    },
    {
      "cell_type": "code",
      "source": [],
      "metadata": {
        "id": "WDy63sMUBNRQ"
      },
      "execution_count": null,
      "outputs": []
    },
    {
      "cell_type": "markdown",
      "metadata": {
        "id": "MnA9gQ7xzeoq"
      },
      "source": [
        "#### Gerando o gráfico"
      ]
    },
    {
      "cell_type": "code",
      "source": [],
      "metadata": {
        "id": "cbKlnTmjBL1e"
      },
      "execution_count": null,
      "outputs": []
    },
    {
      "cell_type": "markdown",
      "metadata": {
        "id": "wHp3YFLcg_Sh"
      },
      "source": [
        "## **3.2 Definiendo intervalos de tiempo**\n",
        "\n",
        "---\n",
        "\n"
      ]
    },
    {
      "cell_type": "code",
      "source": [],
      "metadata": {
        "id": "I9UOJhJkBKXG"
      },
      "execution_count": null,
      "outputs": []
    },
    {
      "cell_type": "markdown",
      "metadata": {
        "id": "yi4mXqvQzeos"
      },
      "source": [
        "<font color=green size=4> Conclusiones: </font>\n",
        "\n",
        "---\n",
        "\n",
        "Cuando estamos visualizando datos con muchos períodos de tiempo, es ideal trabajar con gráficos de línea, ya que representan bien la progresión de los valores a lo largo del tiempo. Aquí utilizamos otro recurso visual que es resaltar los puntos de interés (4º trimestre de cada año), mostrando la tendencia de los datos en ese período específico de tiempo.\n",
        "\n",
        "Como sugerencia, podemos probar esta técnica también con otros valores en nuestra base de datos, como por ejemplo, las ventas en tu estado de interés o donde resides, o incluso en diferentes intervalos de tiempo: por mes, semestre, etc."
      ]
    },
    {
      "cell_type": "markdown",
      "metadata": {
        "id": "NrslRmfihO__"
      },
      "source": [
        "## **3.3 - Gráfico de líneas**\n",
        "\n",
        "---\n",
        "\n"
      ]
    },
    {
      "cell_type": "markdown",
      "metadata": {
        "id": "_ubWJruVc4NY"
      },
      "source": [
        "### **Pregunta 6 -** ¿Cuál es la facturación por trimestre en cada región?"
      ]
    },
    {
      "cell_type": "markdown",
      "metadata": {
        "id": "54Lj3KS6c4Nc"
      },
      "source": [
        "#### Tratando los datos para generar la visualización"
      ]
    },
    {
      "cell_type": "code",
      "source": [],
      "metadata": {
        "id": "_7d-q0QABHTB"
      },
      "execution_count": null,
      "outputs": []
    },
    {
      "cell_type": "code",
      "source": [],
      "metadata": {
        "id": "IMFb_oa3BIpG"
      },
      "execution_count": null,
      "outputs": []
    },
    {
      "cell_type": "markdown",
      "metadata": {
        "id": "BKEOs7Dmc4Nd"
      },
      "source": [
        "#### Generando o gráfico"
      ]
    },
    {
      "cell_type": "code",
      "source": [],
      "metadata": {
        "id": "XADPKGq5BFV9"
      },
      "execution_count": null,
      "outputs": []
    },
    {
      "cell_type": "markdown",
      "metadata": {
        "id": "vlltqqeXiQ2m"
      },
      "source": [
        "## **3.4 - Personalizando el texto informativo (hover)**\n",
        "\n",
        "\n",
        "---\n",
        "\n"
      ]
    },
    {
      "cell_type": "code",
      "source": [],
      "metadata": {
        "id": "Olnlrq37BDfI"
      },
      "execution_count": null,
      "outputs": []
    },
    {
      "cell_type": "markdown",
      "metadata": {
        "id": "_uIMl0NHc4Nd"
      },
      "source": [
        "<font color=green size=4> Conclusiones: </font>\n",
        "\n",
        "---\n",
        "\n",
        "El punto más interesante de este gráfico, generado por Plotly, es la selección de datos de interés, comparando diferentes regiones. Es ideal no tener muchas líneas para representar los datos, para evitar dificultades en el análisis de las variables de interés. Este gráfico dinámico también permite verificar los datos de interés pasando el mouse sobre el punto deseado, lo que evita la necesidad de escribir cada valor en los puntos.\n",
        "\n",
        "Como sugerencia, podemos probar esta técnica también con otros valores en nuestra base de datos, como por ejemplo, las ventas por provincia en una región específica, o incluso en intervalos de tiempo diferentes: por semestre y año."
      ]
    },
    {
      "cell_type": "markdown",
      "metadata": {
        "id": "GP5WxJh8AP7U"
      },
      "source": [
        "# **Clase 4 - Distribución de datos**\n",
        "\n",
        "\n"
      ]
    },
    {
      "cell_type": "markdown",
      "metadata": {
        "id": "SRUYr8PaAP7Z"
      },
      "source": [
        "### **Situación problema 2**\n",
        "Una fábrica de productos de higiene y limpieza selecciona muestras de sus productos fabricados regularmente y documenta el volumen y las dimensiones de sus productos para que cumplan con los criterios de calidad. Como científico de datos, has recibido algunas muestras para analizar y describir algunas métricas (como la media y la mediana, por ejemplo) de las muestras utilizando gráficos para facilitar la comprensión de estos valores.\n",
        "\n",
        "En las próximas dos clases, trabajaremos con dos bases de datos, que son:\n",
        "1. Volúmenes de un suavizante de 1 litro en un total de 1000 muestras medidas.\n",
        "2. Medidas de altura, longitud y anchura de una caja de detergente en polvo en un total de 1000 muestras medidas."
      ]
    },
    {
      "cell_type": "markdown",
      "metadata": {
        "id": "jSffEwr1FPAC"
      },
      "source": [
        "\n",
        "#### **Base de datos 1 - Muestra de los volúmenes del suavizante**"
      ]
    },
    {
      "cell_type": "code",
      "source": [],
      "metadata": {
        "id": "-VyKBPihA6mb"
      },
      "execution_count": null,
      "outputs": []
    },
    {
      "cell_type": "markdown",
      "metadata": {
        "id": "ssZbZe4zAP7a"
      },
      "source": [
        "Después de visualizar rápidamente los datos que tenemos, vamos a proceder con los análisis que podemos realizar con estos datos y qué gráficos de distribución vamos a utilizar para presentar este tipo de información.\n",
        "\n",
        "### **Preguntas**\n",
        "\n",
        "1. ¿Cómo están distribuidos los datos de los volúmenes de la muestra del suavizante? ¿Cuál sería su valor central (promedio y mediana)?\n",
        "\n",
        "2. ¿Cómo están distribuidos los datos de los volúmenes del suavizante según la mediana y los cuartiles? ¿Existen datos atípicos?\n",
        "\n",
        "\n",
        "\n"
      ]
    },
    {
      "cell_type": "markdown",
      "metadata": {
        "id": "UhtlebbKBFjp"
      },
      "source": [
        "## **4.1 - Histograma**\n",
        "\n",
        "---\n",
        "\n"
      ]
    },
    {
      "cell_type": "markdown",
      "metadata": {
        "id": "YiioTkl4jjng"
      },
      "source": [
        "<img src=\"https://github.com/ahcamachod/visualizacion-de-datos-graficos-de-comparacion-y-distribucion/blob/main/histograma.png?raw=true\" alt=\"inserir alt\" height=\"343\">\n",
        "\n",
        "\n",
        "<font size=2>Fuente: Andrew Abela (Extreme Presentation/Biuwer)</font>\n"
      ]
    },
    {
      "cell_type": "markdown",
      "metadata": {
        "id": "TgJynN1NAP7a"
      },
      "source": [
        "### **Pregunta 1 -** ¿Cómo están distribuidos los datos de los volúmenes de la muestra del suavizante? ¿Cuál sería su valor central (promedio y mediana)?"
      ]
    },
    {
      "cell_type": "markdown",
      "metadata": {
        "id": "xv3kTMF9AP7a"
      },
      "source": [
        "#### Generando o gráfico"
      ]
    },
    {
      "cell_type": "code",
      "source": [],
      "metadata": {
        "id": "1erW9H69A24j"
      },
      "execution_count": null,
      "outputs": []
    },
    {
      "cell_type": "markdown",
      "metadata": {
        "id": "izetzI6sv3eZ"
      },
      "source": [
        "<font color=green size=4> Conclusiones: </font>\n",
        "\n",
        "---\n",
        "\n",
        "El histograma es ideal cuando queremos entender cómo está distribuida una muestra de datos o una población. Como podemos observar, el número de intervalos o su anchura afecta un poco la visualización, pero no altera los valores centrales de su distribución de datos: el promedio y la mediana."
      ]
    },
    {
      "cell_type": "markdown",
      "metadata": {
        "id": "xIZDl9S9vED2"
      },
      "source": [
        "## **4.2 - Gráfico de densidad**\n",
        "\n",
        "---\n",
        "\n"
      ]
    },
    {
      "cell_type": "code",
      "source": [],
      "metadata": {
        "id": "ACXK8DckA1ZQ"
      },
      "execution_count": null,
      "outputs": []
    },
    {
      "cell_type": "markdown",
      "metadata": {
        "id": "J5eTR0vrF7kO"
      },
      "source": [
        "## **4.3 - Añadiendo líneas al gráfico**\n",
        "\n",
        "---\n",
        "\n"
      ]
    },
    {
      "cell_type": "code",
      "source": [],
      "metadata": {
        "id": "rsBIwvWFAz-4"
      },
      "execution_count": null,
      "outputs": []
    },
    {
      "cell_type": "markdown",
      "metadata": {
        "id": "ZuCIA5WIAP7b"
      },
      "source": [
        "<font color=green size=4> Conclusiones: </font>\n",
        "\n",
        "---\n",
        "\n",
        "El gráfico de densidad (histograma de línea) es ideal para muchas observaciones.\n",
        "\n",
        "En este ejemplo, podemos observar una distribución normal, con una ligera asimetría hacia la izquierda (mediana > promedio). La moda también está presente en el gráfico. Estas 3 medidas de tendencia central son importantes para la estadística descriptiva de los datos y ayudan en la construcción de modelos y análisis de los datos."
      ]
    },
    {
      "cell_type": "markdown",
      "metadata": {
        "id": "2QxHL_XYrUSs"
      },
      "source": [
        "## **4.4 - Boxplot**\n",
        "\n",
        "---\n",
        "\n"
      ]
    },
    {
      "cell_type": "markdown",
      "metadata": {
        "id": "vw5UTufi2DDV"
      },
      "source": [
        "### **Pregunta 2 -** ¿Cómo están distribuidos los datos de los volúmenes del suavizante según la mediana y los cuartiles? ¿Existen datos atípicos?"
      ]
    },
    {
      "cell_type": "markdown",
      "metadata": {
        "id": "5RYvVm5J2DDh"
      },
      "source": [
        "#### Generando el gráfico"
      ]
    },
    {
      "cell_type": "code",
      "source": [],
      "metadata": {
        "id": "74uh1NPiAx5n"
      },
      "execution_count": null,
      "outputs": []
    },
    {
      "cell_type": "markdown",
      "metadata": {
        "id": "zJXXnP7z2DDi"
      },
      "source": [
        "<font color=green size=4> Conclusiones: </font>\n",
        "\n",
        "---\n",
        "\n",
        "El gráfico de caja (boxplot) es ideal para representar un conjunto de datos según 5 medidas de interés: el valor máximo, mínimo, el primer cuartil (donde se sitúan el primer 25% de los datos), el segundo cuartil o mediana (donde se sitúa el 50% de los datos) y el tercer cuartil (donde se sitúa el 75% de los datos).\n",
        "\n",
        "También están los valores atípicos (outliers) que son considerados puntos discrepantes, es decir, valores que están alejados del patrón de los datos."
      ]
    },
    {
      "cell_type": "markdown",
      "metadata": {
        "id": "Wz_59UEYAo-7"
      },
      "source": [
        " # **Aula 5 - Explorando patrones en los datos**"
      ]
    },
    {
      "cell_type": "markdown",
      "metadata": {
        "id": "72Td_hwbrc8I"
      },
      "source": [
        "## **5.1 - Gráfico de Violín**\n",
        "\n",
        "---\n",
        "\n"
      ]
    },
    {
      "cell_type": "markdown",
      "metadata": {
        "id": "f9EhMcTSB0iU"
      },
      "source": [
        "Retomando nuestra situación problema en la fábrica de productos de higiene y limpieza. Ahora vamos a analizar las observaciones con las medidas de altura, longitud y anchura de una caja de detergente en polvo en un total de 1000 muestras medidas. Buscaremos patrones en nuestras medidas y también verificaremos si alguna de las muestras contiene elementos que sean rechazados según las reglas del negocio."
      ]
    },
    {
      "cell_type": "markdown",
      "metadata": {
        "id": "Hkjo742WBqw-"
      },
      "source": [
        "#### **Base de datos 2 - Muestras de las medidas de la caja del detergente**"
      ]
    },
    {
      "cell_type": "code",
      "source": [],
      "metadata": {
        "id": "0oi3xkxc_v1e"
      },
      "execution_count": null,
      "outputs": []
    },
    {
      "cell_type": "markdown",
      "metadata": {
        "id": "K5hNJa0cBqxc"
      },
      "source": [
        "Después de echar un vistazo rápido a los datos que tenemos, pasaremos a analizar qué tipo de análisis podemos realizar con estos datos y qué gráficos de distribución vamos a utilizar para presentar esta información.\n",
        "\n",
        "### **Preguntas**\n",
        "\n",
        "3. ¿Cómo está distribuida la longitud de las cajas de detergente en polvo para cada una de las muestras?\n",
        "\n",
        "4. ¿Cómo están dispuestas las medidas de longitud y altura de la muestra A? Si queremos rechazar todos los artículos en los que el valor de longitud y altura esté un 1% por encima o por debajo de los valores de 20 y 15 respectivamente, ¿cuáles serían rechazados?\n",
        "\n",
        "\n",
        "\n"
      ]
    },
    {
      "cell_type": "markdown",
      "metadata": {
        "id": "9kyH1su1qAS6"
      },
      "source": [
        "### **Pregunta 3 -** ¿Cómo está distribuida la longitud de las cajas de detergente en polvo para cada una de las muestras?"
      ]
    },
    {
      "cell_type": "markdown",
      "metadata": {
        "id": "COtXmfY2qvNU"
      },
      "source": [
        "#### Visualizando los datos"
      ]
    },
    {
      "cell_type": "code",
      "source": [],
      "metadata": {
        "id": "XfDKUGiQ_zO9"
      },
      "execution_count": null,
      "outputs": []
    },
    {
      "cell_type": "markdown",
      "metadata": {
        "id": "5Mw-ObDaqAS_"
      },
      "source": [
        "#### Generando el gráfico"
      ]
    },
    {
      "cell_type": "code",
      "source": [],
      "metadata": {
        "id": "wcbJ9hPS_2UD"
      },
      "execution_count": null,
      "outputs": []
    },
    {
      "cell_type": "markdown",
      "metadata": {
        "id": "GalqiyyHqAS_"
      },
      "source": [
        "<font color=green size=4> Conclusiones: </font>\n",
        "\n",
        "---\n",
        "\n",
        "El gráfico de violín es una combinación entre el histograma y el boxplot. En él, podemos observar tanto la distribución de los datos mediante la representación de la curva, como dentro de él percibimos el boxplot con las variables de interés.\n",
        "\n",
        "Como sugerencia, también podemos probar esta técnica con otros valores en nuestra base de datos, como por ejemplo, la profundidad o la altura de la caja. Vale la pena probar si tenemos una gran diferencia entre las muestras y lo que podemos observar en esta distribución."
      ]
    },
    {
      "cell_type": "markdown",
      "metadata": {
        "id": "NNIqzEAjzxWc"
      },
      "source": [
        "## **5.2 Gráfico de dispersión**\n",
        "\n",
        "---\n",
        "\n"
      ]
    },
    {
      "cell_type": "markdown",
      "metadata": {
        "id": "WBoL0D50Aqk_"
      },
      "source": [
        "<img src=\"https://github.com/ahcamachod/visualizacion-de-datos-graficos-de-comparacion-y-distribucion/blob/main/dispersion.png?raw=true\" alt=\"inserir alt\" height=\"343\">\n",
        "\n",
        "<font size=2>Fuente: Andrew Abela (Extreme Presentation/Biuwer)</font>\n"
      ]
    },
    {
      "cell_type": "markdown",
      "metadata": {
        "id": "oeawtNNazxWh"
      },
      "source": [
        "### **Pregunta 4 -** ¿Cómo están dispuestas las medidas de longitud y altura de la muestra A? Si queremos rechazar todos los artículos en los que el valor de longitud y altura esté un 1% por encima o por debajo de los valores de 20 y 15 respectivamente, ¿cuáles serían rechazados?"
      ]
    },
    {
      "cell_type": "markdown",
      "metadata": {
        "id": "5N6LxAIYzxWh"
      },
      "source": [
        "#### Visualizando los datos"
      ]
    },
    {
      "cell_type": "code",
      "source": [],
      "metadata": {
        "id": "bxVNwR2z_4bQ"
      },
      "execution_count": null,
      "outputs": []
    },
    {
      "cell_type": "markdown",
      "metadata": {
        "id": "Mtsmy55bzxWh"
      },
      "source": [
        "#### Generando el gráfico"
      ]
    },
    {
      "cell_type": "code",
      "source": [],
      "metadata": {
        "id": "Kzz-yYfE_6Ds"
      },
      "execution_count": null,
      "outputs": []
    },
    {
      "cell_type": "markdown",
      "metadata": {
        "id": "fjI9h_XZKtAY"
      },
      "source": [
        "## **5.3 - Mapeando los datos por colores**\n",
        "\n",
        "---\n",
        "\n"
      ]
    },
    {
      "cell_type": "code",
      "source": [],
      "metadata": {
        "id": "jPQWcLYA_8I4"
      },
      "execution_count": null,
      "outputs": []
    },
    {
      "cell_type": "markdown",
      "metadata": {
        "id": "JN_Du8WIzxWh"
      },
      "source": [
        "<font color=green size=4> Conclusiones: </font>\n",
        "\n",
        "---\n",
        "\n",
        "En este último gráfico de distribución, presentamos el diagrama de dispersión. También utilizado para la relación entre los datos, este gráfico de distribución muestra cómo están distribuidas las dimensiones de las cajas entre dos variables: longitud y altura.\n",
        "\n",
        "Aquí utilizamos dos recursos visuales, el de zoom (generado por la delimitación de los límites máximos y mínimos de longitud y altura, respectivamente) y el de similitud a través de los colores, representando los grupos de valores aceptados, rechazados por altura y rechazados por altura y longitud."
      ]
    }
  ],
  "metadata": {
    "colab": {
      "provenance": [],
      "include_colab_link": true
    },
    "kernelspec": {
      "display_name": "Python 3",
      "name": "python3"
    },
    "language_info": {
      "codemirror_mode": {
        "name": "ipython",
        "version": 3
      },
      "file_extension": ".py",
      "mimetype": "text/x-python",
      "name": "python",
      "nbconvert_exporter": "python",
      "pygments_lexer": "ipython3",
      "version": "3.11.3"
    }
  },
  "nbformat": 4,
  "nbformat_minor": 0
}